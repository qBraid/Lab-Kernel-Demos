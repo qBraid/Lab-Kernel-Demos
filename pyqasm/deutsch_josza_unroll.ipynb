{
 "cells": [
  {
   "cell_type": "markdown",
   "metadata": {},
   "source": [
    "### Unrolling the Deutsch-Jozsa Algorithm \n",
    "In this notebook, we will see how a quantum program implementing the [Deutsch-Jozsa algorithm](https://en.wikipedia.org/wiki/Deutsch%E2%80%93Jozsa_algorithm) can be unrolled into a sequence of elementary quantum operations. "
   ]
  },
  {
   "cell_type": "code",
   "execution_count": null,
   "metadata": {},
   "outputs": [],
   "source": [
    "%pip install pyqasm --quiet"
   ]
  },
  {
   "cell_type": "code",
   "execution_count": 1,
   "metadata": {},
   "outputs": [
    {
     "data": {
      "text/plain": [
       "'0.1.0'"
      ]
     },
     "execution_count": 1,
     "metadata": {},
     "output_type": "execute_result"
    }
   ],
   "source": [
    "import pyqasm\n",
    "\n",
    "pyqasm.__version__"
   ]
  },
  {
   "cell_type": "code",
   "execution_count": 2,
   "metadata": {},
   "outputs": [],
   "source": [
    "from pyqasm import dumps, loads"
   ]
  },
  {
   "cell_type": "markdown",
   "metadata": {},
   "source": [
    "- We define a 4-qubit quantum circuit that implements the Deutsch-Jozsa algorithm for a given oracle."
   ]
  },
  {
   "cell_type": "code",
   "execution_count": 3,
   "metadata": {},
   "outputs": [],
   "source": [
    "qasm = \"\"\"\n",
    "// A program containing the Deutsch-Josza algorithm in OpenQASM 3\n",
    "OPENQASM 3;\n",
    "include \"stdgates.inc\";\n",
    "\n",
    "// Define a custom gate for the Hadamard operation\n",
    "gate hgate q {\n",
    "    h q;\n",
    "}\n",
    "\n",
    "// Define a custom gate for the X operation\n",
    "gate xgate q {\n",
    "    x q;\n",
    "}\n",
    "\n",
    "const int[32] N = 4;\n",
    "qubit[4] q;\n",
    "qubit ancilla;\n",
    "\n",
    "\n",
    "// Define the Deutsch-Josza algorithm\n",
    "def deutsch_jozsa(qubit[N] q_func, qubit[1] ancilla_q) {\n",
    "\n",
    "    // Initialize the ancilla qubit to |1>\n",
    "    xgate ancilla_q;\n",
    "\n",
    "    // Apply Hadamard gate to all qubits\n",
    "    for int i in [0:N-1] {\n",
    "        hgate q_func[i];\n",
    "    }\n",
    "\n",
    "    hgate ancilla_q;\n",
    "\n",
    "    // Apply the oracle \n",
    "    for int i in [0:N-1] {\n",
    "        cx q_func[i], ancilla_q;\n",
    "    }\n",
    "\n",
    "    // Apply Hadamard gate to all qubits again\n",
    "    for int i in [0:N-1] {\n",
    "        hgate q_func[i];\n",
    "    }\n",
    "}\n",
    "\n",
    "\n",
    "// Run the Deutsch-Josza algorithm for N qubits\n",
    "deutsch_jozsa(q, ancilla);\n",
    "\n",
    "// Measure the results \n",
    "bit[4] result;\n",
    "result = measure q;\n",
    "\"\"\""
   ]
  },
  {
   "cell_type": "code",
   "execution_count": 4,
   "metadata": {},
   "outputs": [],
   "source": [
    "program = loads(qasm)\n",
    "\n",
    "program.unroll()"
   ]
  },
  {
   "cell_type": "code",
   "execution_count": 5,
   "metadata": {},
   "outputs": [
    {
     "name": "stdout",
     "output_type": "stream",
     "text": [
      "OPENQASM 3.0;\n",
      "include \"stdgates.inc\";\n",
      "qubit[4] q;\n",
      "qubit[1] ancilla;\n",
      "x ancilla[0];\n",
      "h q[0];\n",
      "h q[1];\n",
      "h q[2];\n",
      "h q[3];\n",
      "h ancilla[0];\n",
      "cx q[0], ancilla[0];\n",
      "cx q[1], ancilla[0];\n",
      "cx q[2], ancilla[0];\n",
      "cx q[3], ancilla[0];\n",
      "h q[0];\n",
      "h q[1];\n",
      "h q[2];\n",
      "h q[3];\n",
      "bit[4] result;\n",
      "result[0] = measure q[0];\n",
      "result[1] = measure q[1];\n",
      "result[2] = measure q[2];\n",
      "result[3] = measure q[3];\n",
      "\n"
     ]
    }
   ],
   "source": [
    "print(dumps(program))"
   ]
  },
  {
   "cell_type": "code",
   "execution_count": null,
   "metadata": {},
   "outputs": [],
   "source": []
  }
 ],
 "metadata": {
  "kernelspec": {
   "display_name": "sdk311",
   "language": "python",
   "name": "python3"
  },
  "language_info": {
   "codemirror_mode": {
    "name": "ipython",
    "version": 3
   },
   "file_extension": ".py",
   "mimetype": "text/x-python",
   "name": "python",
   "nbconvert_exporter": "python",
   "pygments_lexer": "ipython3",
   "version": "3.11.9"
  }
 },
 "nbformat": 4,
 "nbformat_minor": 2
}

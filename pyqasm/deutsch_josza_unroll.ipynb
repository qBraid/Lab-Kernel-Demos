{
 "cells": [
  {
   "cell_type": "markdown",
   "metadata": {},
   "source": [
    "### Unrolling the Deutsch-Jozsa Algorithm \n",
    "In this notebook, we will see how a quantum program implementing the [Deutsch-Jozsa algorithm](https://en.wikipedia.org/wiki/Deutsch%E2%80%93Jozsa_algorithm) can be unrolled into a sequence of elementary quantum operations. "
   ]
  },
  {
   "cell_type": "code",
   "execution_count": null,
   "metadata": {},
   "outputs": [],
   "source": [
    "%pip install pyqasm --quiet"
   ]
  },
  {
   "cell_type": "code",
   "execution_count": null,
   "metadata": {},
   "outputs": [],
   "source": [
    "import pyqasm \n",
    "pyqasm.__version__"
   ]
  },
  {
   "cell_type": "code",
   "execution_count": null,
   "metadata": {},
   "outputs": [],
   "source": [
    "from pyqasm import dumps, loads"
   ]
  },
  {
   "cell_type": "markdown",
   "metadata": {},
   "source": [
    "- We define a 4-qubit quantum circuit that implements the Deutsch-Jozsa algorithm for a given oracle."
   ]
  },
  {
   "cell_type": "code",
   "execution_count": null,
   "metadata": {},
   "outputs": [],
   "source": [
    "\n",
    "qasm = \"\"\"\n",
    "// A program containing the Deutsch-Josza algorithm in OpenQASM 3\n",
    "OPENQASM 3;\n",
    "include \"stdgates.inc\";\n",
    "\n",
    "// Define a custom gate for the Hadamard operation\n",
    "gate hgate q {\n",
    "    h q;\n",
    "}\n",
    "\n",
    "// Define a custom gate for the X operation\n",
    "gate xgate q {\n",
    "    x q;\n",
    "}\n",
    "\n",
    "const int[32] N = 4;\n",
    "qubit[4] q;\n",
    "qubit ancilla;\n",
    "\n",
    "\n",
    "// Define the Deutsch-Josza algorithm\n",
    "def deutsch_jozsa(qubit[N] q_func, qubit[1] ancilla_q) {\n",
    "\n",
    "    // Initialize the ancilla qubit to |1>\n",
    "    xgate ancilla_q;\n",
    "\n",
    "    // Apply Hadamard gate to all qubits\n",
    "    for int i in [0:N-1] {\n",
    "        hgate q_func[i];\n",
    "    }\n",
    "\n",
    "    hgate ancilla_q;\n",
    "\n",
    "    // Apply the oracle \n",
    "    for int i in [0:N-1] {\n",
    "        cx q_func[i], ancilla_q;\n",
    "    }\n",
    "\n",
    "    // Apply Hadamard gate to all qubits again\n",
    "    for int i in [0:N-1] {\n",
    "        hgate q_func[i];\n",
    "    }\n",
    "}\n",
    "\n",
    "\n",
    "// Run the Deutsch-Josza algorithm for N qubits\n",
    "deutsch_jozsa(q, ancilla);\n",
    "\n",
    "// Measure the results \n",
    "bit[4] result;\n",
    "result = measure q;\n",
    "\"\"\""
   ]
  },
  {
   "cell_type": "code",
   "execution_count": null,
   "metadata": {},
   "outputs": [],
   "source": [
    "program = loads(qasm)\n",
    "program.unroll()"
   ]
  },
  {
   "cell_type": "code",
   "execution_count": null,
   "metadata": {},
   "outputs": [],
   "source": [
    "print(dumps(program))"
   ]
  },
  {
   "cell_type": "code",
   "execution_count": null,
   "metadata": {},
   "outputs": [],
   "source": []
  }
 ],
 "metadata": {
  "kernelspec": {
   "display_name": "Python 3",
   "language": "python",
   "name": "python3"
  },
  "language_info": {
   "codemirror_mode": {
    "name": "ipython",
    "version": 3
   },
   "file_extension": ".py",
   "mimetype": "text/x-python",
   "name": "python",
   "nbconvert_exporter": "python",
   "pygments_lexer": "ipython3",
   "version": "3.11.6"
  }
 },
 "nbformat": 4,
 "nbformat_minor": 2
}

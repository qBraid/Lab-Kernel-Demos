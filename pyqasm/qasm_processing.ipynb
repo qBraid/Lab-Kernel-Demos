{
 "cells": [
  {
   "cell_type": "markdown",
   "metadata": {},
   "source": [
    "### The Capabilities of PyQASM \n",
    "Besides unrolling and semantic validation, PyQASM also provides a variety of functionalities to help users analyse and transform their quantum programs. We will highlight them by taking a look at a simple example. \n",
    "\n",
    "For detailed documentation, please refer to the [official PyQASM documentation](https://sdk.qbraid.com/projects/pyqasm/en/stable/api/pyqasm.html)."
   ]
  },
  {
   "cell_type": "code",
   "execution_count": null,
   "metadata": {},
   "outputs": [],
   "source": [
    "%pip install pyqasm --quiet"
   ]
  },
  {
   "cell_type": "code",
   "execution_count": 1,
   "metadata": {},
   "outputs": [
    {
     "data": {
      "text/plain": [
       "'0.1.0'"
      ]
     },
     "execution_count": 1,
     "metadata": {},
     "output_type": "execute_result"
    }
   ],
   "source": [
    "import pyqasm\n",
    "\n",
    "pyqasm.__version__"
   ]
  },
  {
   "cell_type": "code",
   "execution_count": 2,
   "metadata": {},
   "outputs": [],
   "source": [
    "from pyqasm import loads, dumps"
   ]
  },
  {
   "cell_type": "code",
   "execution_count": 3,
   "metadata": {},
   "outputs": [],
   "source": [
    "qasm_str = \"\"\"\n",
    "OPENQASM 3.0;\n",
    "include \"stdgates.inc\";\n",
    "\n",
    "// define qubits and random ops \n",
    "qubit[10] q;\n",
    "bit[10] c;\n",
    "\n",
    "h q[0];\n",
    "h q[1];\n",
    "\n",
    "cx q[0], q[1];\n",
    "\n",
    "rx(0.5) q[3:6];\n",
    "ccx q[0], q[1], q[2];\n",
    "\n",
    "barrier q[:5];\n",
    "\n",
    "c[:5] = measure q[:5]; \n",
    "\"\"\""
   ]
  },
  {
   "cell_type": "code",
   "execution_count": 4,
   "metadata": {},
   "outputs": [],
   "source": [
    "module = loads(qasm_str)"
   ]
  },
  {
   "cell_type": "markdown",
   "metadata": {},
   "source": [
    "- Let's start by validating our quantum program."
   ]
  },
  {
   "cell_type": "code",
   "execution_count": 5,
   "metadata": {},
   "outputs": [],
   "source": [
    "module.validate()"
   ]
  },
  {
   "cell_type": "markdown",
   "metadata": {},
   "source": [
    "- Next, we will get the qubit and classical register information. Post this, we will unroll the program and print it."
   ]
  },
  {
   "cell_type": "code",
   "execution_count": 6,
   "metadata": {},
   "outputs": [
    {
     "data": {
      "text/plain": [
       "(10, 10)"
      ]
     },
     "execution_count": 6,
     "metadata": {},
     "output_type": "execute_result"
    }
   ],
   "source": [
    "module.num_qubits, module.num_clbits"
   ]
  },
  {
   "cell_type": "code",
   "execution_count": 7,
   "metadata": {},
   "outputs": [
    {
     "data": {
      "text/plain": [
       "['OPENQASM 3.0;',\n",
       " 'include \"stdgates.inc\";',\n",
       " 'qubit[10] q;',\n",
       " 'bit[10] c;',\n",
       " 'h q[0];',\n",
       " 'h q[1];',\n",
       " 'cx q[0], q[1];',\n",
       " 'rx(0.5) q[3];',\n",
       " 'rx(0.5) q[4];',\n",
       " 'rx(0.5) q[5];',\n",
       " 'ccx q[0], q[1], q[2];',\n",
       " 'barrier q[0];',\n",
       " 'barrier q[1];',\n",
       " 'barrier q[2];',\n",
       " 'barrier q[3];',\n",
       " 'barrier q[4];',\n",
       " 'c[0] = measure q[0];',\n",
       " 'c[1] = measure q[1];',\n",
       " 'c[2] = measure q[2];',\n",
       " 'c[3] = measure q[3];',\n",
       " 'c[4] = measure q[4];']"
      ]
     },
     "execution_count": 7,
     "metadata": {},
     "output_type": "execute_result"
    }
   ],
   "source": [
    "module.unroll()\n",
    "\n",
    "dumps(module).splitlines()"
   ]
  },
  {
   "cell_type": "code",
   "execution_count": 8,
   "metadata": {},
   "outputs": [
    {
     "data": {
      "text/plain": [
       "5"
      ]
     },
     "execution_count": 8,
     "metadata": {},
     "output_type": "execute_result"
    }
   ],
   "source": [
    "module.depth()"
   ]
  },
  {
   "cell_type": "markdown",
   "metadata": {},
   "source": [
    "- Let us now remove the idle qubits from our qasm program and get back the optimized qasm code.\n",
    "- Note that `q[6]` to `q[9]` are idle qubits in the above qasm code."
   ]
  },
  {
   "cell_type": "code",
   "execution_count": 9,
   "metadata": {},
   "outputs": [
    {
     "data": {
      "text/plain": [
       "<pyqasm.modules.qasm3.Qasm3Module at 0x1296b2fd0>"
      ]
     },
     "execution_count": 9,
     "metadata": {},
     "output_type": "execute_result"
    }
   ],
   "source": [
    "module.remove_idle_qubits()"
   ]
  },
  {
   "cell_type": "code",
   "execution_count": 10,
   "metadata": {},
   "outputs": [
    {
     "data": {
      "text/plain": [
       "['OPENQASM 3.0;',\n",
       " 'include \"stdgates.inc\";',\n",
       " 'qubit[6] q;',\n",
       " 'bit[10] c;',\n",
       " 'h q[0];',\n",
       " 'h q[1];',\n",
       " 'cx q[0], q[1];',\n",
       " 'rx(0.5) q[3];',\n",
       " 'rx(0.5) q[4];',\n",
       " 'rx(0.5) q[5];',\n",
       " 'ccx q[0], q[1], q[2];',\n",
       " 'barrier q[0];',\n",
       " 'barrier q[1];',\n",
       " 'barrier q[2];',\n",
       " 'barrier q[3];',\n",
       " 'barrier q[4];',\n",
       " 'c[0] = measure q[0];',\n",
       " 'c[1] = measure q[1];',\n",
       " 'c[2] = measure q[2];',\n",
       " 'c[3] = measure q[3];',\n",
       " 'c[4] = measure q[4];']"
      ]
     },
     "execution_count": 10,
     "metadata": {},
     "output_type": "execute_result"
    }
   ],
   "source": [
    "dumps(module).splitlines()"
   ]
  },
  {
   "cell_type": "code",
   "execution_count": 11,
   "metadata": {},
   "outputs": [
    {
     "data": {
      "text/plain": [
       "(6, 10)"
      ]
     },
     "execution_count": 11,
     "metadata": {},
     "output_type": "execute_result"
    }
   ],
   "source": [
    "module.num_qubits, module.num_clbits"
   ]
  },
  {
   "cell_type": "markdown",
   "metadata": {},
   "source": [
    "- We can clearly see that the size of the quantum program has decreased to 6 qubits instead of 10\n",
    "- Let's check for measurements and barriers now"
   ]
  },
  {
   "cell_type": "code",
   "execution_count": 12,
   "metadata": {},
   "outputs": [
    {
     "data": {
      "text/plain": [
       "True"
      ]
     },
     "execution_count": 12,
     "metadata": {},
     "output_type": "execute_result"
    }
   ],
   "source": [
    "module.has_measurements()"
   ]
  },
  {
   "cell_type": "code",
   "execution_count": 13,
   "metadata": {},
   "outputs": [
    {
     "data": {
      "text/plain": [
       "True"
      ]
     },
     "execution_count": 13,
     "metadata": {},
     "output_type": "execute_result"
    }
   ],
   "source": [
    "module.has_barriers()"
   ]
  },
  {
   "cell_type": "markdown",
   "metadata": {},
   "source": [
    "- Barriers and measurements can easily be removed from the qasm code through the `remove_barriers()` and `remove_measurements()` functions respectively.\n",
    "- We can also use the `in_place` parameter to specify whether we want to modify the original qasm code or not."
   ]
  },
  {
   "cell_type": "code",
   "execution_count": 14,
   "metadata": {},
   "outputs": [],
   "source": [
    "module.remove_barriers()\n",
    "\n",
    "new_module = module.remove_measurements(in_place=False)"
   ]
  },
  {
   "cell_type": "code",
   "execution_count": 15,
   "metadata": {},
   "outputs": [
    {
     "data": {
      "text/plain": [
       "['OPENQASM 3.0;',\n",
       " 'include \"stdgates.inc\";',\n",
       " 'qubit[6] q;',\n",
       " 'bit[10] c;',\n",
       " 'h q[0];',\n",
       " 'h q[1];',\n",
       " 'cx q[0], q[1];',\n",
       " 'rx(0.5) q[3];',\n",
       " 'rx(0.5) q[4];',\n",
       " 'rx(0.5) q[5];',\n",
       " 'ccx q[0], q[1], q[2];',\n",
       " 'c[0] = measure q[0];',\n",
       " 'c[1] = measure q[1];',\n",
       " 'c[2] = measure q[2];',\n",
       " 'c[3] = measure q[3];',\n",
       " 'c[4] = measure q[4];']"
      ]
     },
     "execution_count": 15,
     "metadata": {},
     "output_type": "execute_result"
    }
   ],
   "source": [
    "dumps(module).splitlines()"
   ]
  },
  {
   "cell_type": "code",
   "execution_count": 16,
   "metadata": {},
   "outputs": [
    {
     "data": {
      "text/plain": [
       "['OPENQASM 3.0;',\n",
       " 'include \"stdgates.inc\";',\n",
       " 'qubit[6] q;',\n",
       " 'bit[10] c;',\n",
       " 'h q[0];',\n",
       " 'h q[1];',\n",
       " 'cx q[0], q[1];',\n",
       " 'rx(0.5) q[3];',\n",
       " 'rx(0.5) q[4];',\n",
       " 'rx(0.5) q[5];',\n",
       " 'ccx q[0], q[1], q[2];']"
      ]
     },
     "execution_count": 16,
     "metadata": {},
     "output_type": "execute_result"
    }
   ],
   "source": [
    "dumps(new_module).splitlines()"
   ]
  },
  {
   "cell_type": "markdown",
   "metadata": {},
   "source": [
    "- We can observe that the barriers have been removed from both the module objects but measurements are only removed in the `new_module`"
   ]
  },
  {
   "cell_type": "markdown",
   "metadata": {},
   "source": [
    "\n",
    "- We also have the ability to **reverse the qubit order**"
   ]
  },
  {
   "cell_type": "code",
   "execution_count": 17,
   "metadata": {},
   "outputs": [
    {
     "data": {
      "text/plain": [
       "<pyqasm.modules.qasm3.Qasm3Module at 0x1296b2fd0>"
      ]
     },
     "execution_count": 17,
     "metadata": {},
     "output_type": "execute_result"
    }
   ],
   "source": [
    "module.reverse_qubit_order()"
   ]
  },
  {
   "cell_type": "code",
   "execution_count": 18,
   "metadata": {},
   "outputs": [
    {
     "data": {
      "text/plain": [
       "['OPENQASM 3.0;',\n",
       " 'include \"stdgates.inc\";',\n",
       " 'qubit[6] q;',\n",
       " 'bit[10] c;',\n",
       " 'h q[5];',\n",
       " 'h q[4];',\n",
       " 'cx q[5], q[4];',\n",
       " 'rx(0.5) q[2];',\n",
       " 'rx(0.5) q[1];',\n",
       " 'rx(0.5) q[0];',\n",
       " 'ccx q[5], q[4], q[3];',\n",
       " 'c[0] = measure q[5];',\n",
       " 'c[1] = measure q[4];',\n",
       " 'c[2] = measure q[3];',\n",
       " 'c[3] = measure q[2];',\n",
       " 'c[4] = measure q[1];']"
      ]
     },
     "execution_count": 18,
     "metadata": {},
     "output_type": "execute_result"
    }
   ],
   "source": [
    "dumps(module).splitlines()"
   ]
  },
  {
   "cell_type": "markdown",
   "metadata": {},
   "source": [
    "- Qubits have been reversed in place in the qasm code \n"
   ]
  },
  {
   "cell_type": "markdown",
   "metadata": {},
   "source": [
    "- We can finally check for the number of qubits, classical bits and depth of the updated qasm code "
   ]
  },
  {
   "cell_type": "code",
   "execution_count": 19,
   "metadata": {},
   "outputs": [
    {
     "data": {
      "text/plain": [
       "(6, 10)"
      ]
     },
     "execution_count": 19,
     "metadata": {},
     "output_type": "execute_result"
    }
   ],
   "source": [
    "module.num_qubits, module.num_clbits"
   ]
  },
  {
   "cell_type": "code",
   "execution_count": 20,
   "metadata": {},
   "outputs": [
    {
     "data": {
      "text/plain": [
       "4"
      ]
     },
     "execution_count": 20,
     "metadata": {},
     "output_type": "execute_result"
    }
   ],
   "source": [
    "module.depth()"
   ]
  }
 ],
 "metadata": {
  "kernelspec": {
   "display_name": "sdk311",
   "language": "python",
   "name": "python3"
  },
  "language_info": {
   "codemirror_mode": {
    "name": "ipython",
    "version": 3
   },
   "file_extension": ".py",
   "mimetype": "text/x-python",
   "name": "python",
   "nbconvert_exporter": "python",
   "pygments_lexer": "ipython3",
   "version": "3.11.9"
  }
 },
 "nbformat": 4,
 "nbformat_minor": 2
}

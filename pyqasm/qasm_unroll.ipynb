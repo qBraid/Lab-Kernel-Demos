{
 "cells": [
  {
   "cell_type": "markdown",
   "metadata": {},
   "source": [
    "## Unrolling a QASM program\n",
    "- We take the example from the `openqasm3` repository and produce the unrolled program.  "
   ]
  },
  {
   "cell_type": "code",
   "execution_count": null,
   "metadata": {},
   "outputs": [],
   "source": [
    "%pip install pyqasm --quiet"
   ]
  },
  {
   "cell_type": "code",
   "execution_count": 1,
   "metadata": {},
   "outputs": [
    {
     "data": {
      "text/plain": [
       "'0.1.0'"
      ]
     },
     "execution_count": 1,
     "metadata": {},
     "output_type": "execute_result"
    }
   ],
   "source": [
    "import pyqasm\n",
    "\n",
    "pyqasm.__version__"
   ]
  },
  {
   "cell_type": "code",
   "execution_count": 2,
   "metadata": {},
   "outputs": [],
   "source": [
    "from pyqasm import loads, dumps"
   ]
  },
  {
   "cell_type": "markdown",
   "metadata": {},
   "source": [
    "- [`Adder.qasm`](https://github.com/openqasm/openqasm/blob/9150b157df801702b02ac7c14979ace8aba53a85/examples/adder.qasm)"
   ]
  },
  {
   "cell_type": "code",
   "execution_count": 3,
   "metadata": {},
   "outputs": [],
   "source": [
    "adder_qasm_str = \"\"\"\n",
    "/*\n",
    " * quantum ripple-carry adder\n",
    " * Cuccaro et al, quant-ph/0410184\n",
    " */\n",
    "OPENQASM 3.0;\n",
    "include 'stdgates.inc';\n",
    "\n",
    "gate majority a, b, c {\n",
    "    cx c, b;\n",
    "    cx c, a;\n",
    "    ccx a, b, c;\n",
    "}\n",
    "\n",
    "gate unmaj a, b, c {\n",
    "    ccx a, b, c;\n",
    "    cx c, a;\n",
    "    cx a, b;\n",
    "}\n",
    "\n",
    "qubit[1] cin;\n",
    "qubit[4] a;\n",
    "qubit[4] b;\n",
    "qubit[1] cout;\n",
    "bit[5] ans;\n",
    "array[bool, 4] a_in = {0,0,0,1};  // a = 0001\n",
    "array[bool, 4] b_in = {1,1,1,1}; // b = 1111\n",
    "// initialize qubits\n",
    "reset cin;\n",
    "reset a;\n",
    "reset b;\n",
    "reset cout;\n",
    "\n",
    "// set input states\n",
    "for int i in [0: 3] {\n",
    "  if(a_in[i]) x a[i];\n",
    "  if(b_in[i]) x b[i];\n",
    "}\n",
    "\n",
    "// add a to b, storing result in b\n",
    "majority cin[0], b[0], a[0];\n",
    "for int i in [0: 2] { majority a[i], b[i + 1], a[i + 1]; }\n",
    "cx a[3], cout[0];\n",
    "for int i in [2: -1: 0] { unmaj a[i],b[i+1],a[i+1]; }\n",
    "unmaj cin[0], b[0], a[0];\n",
    "measure b[0:3] -> ans[0:3];\n",
    "measure cout[0] -> ans[4];\n",
    "\"\"\""
   ]
  },
  {
   "cell_type": "code",
   "execution_count": 4,
   "metadata": {},
   "outputs": [],
   "source": [
    "module = loads(adder_qasm_str)\n",
    "\n",
    "module.validate()\n",
    "\n",
    "module.unroll()"
   ]
  },
  {
   "cell_type": "code",
   "execution_count": 5,
   "metadata": {},
   "outputs": [
    {
     "data": {
      "text/plain": [
       "['OPENQASM 3.0;',\n",
       " 'include \"stdgates.inc\";',\n",
       " 'qubit[1] cin;',\n",
       " 'qubit[4] a;',\n",
       " 'qubit[4] b;',\n",
       " 'qubit[1] cout;',\n",
       " 'bit[5] ans;',\n",
       " 'reset cin[0];',\n",
       " 'reset a[0];',\n",
       " 'reset a[1];',\n",
       " 'reset a[2];',\n",
       " 'reset a[3];',\n",
       " 'reset b[0];',\n",
       " 'reset b[1];',\n",
       " 'reset b[2];',\n",
       " 'reset b[3];',\n",
       " 'reset cout[0];',\n",
       " 'x b[0];',\n",
       " 'x b[1];',\n",
       " 'x b[2];',\n",
       " 'x a[3];',\n",
       " 'x b[3];',\n",
       " 'cx a[0], b[0];',\n",
       " 'cx a[0], cin[0];',\n",
       " 'ccx cin[0], b[0], a[0];',\n",
       " 'cx a[1], b[1];',\n",
       " 'cx a[1], a[0];',\n",
       " 'ccx a[0], b[1], a[1];',\n",
       " 'cx a[2], b[2];',\n",
       " 'cx a[2], a[1];',\n",
       " 'ccx a[1], b[2], a[2];',\n",
       " 'cx a[3], b[3];',\n",
       " 'cx a[3], a[2];',\n",
       " 'ccx a[2], b[3], a[3];',\n",
       " 'cx a[3], cout[0];',\n",
       " 'ccx a[2], b[3], a[3];',\n",
       " 'cx a[3], a[2];',\n",
       " 'cx a[2], b[3];',\n",
       " 'ccx a[1], b[2], a[2];',\n",
       " 'cx a[2], a[1];',\n",
       " 'cx a[1], b[2];',\n",
       " 'ccx a[0], b[1], a[1];',\n",
       " 'cx a[1], a[0];',\n",
       " 'cx a[0], b[1];',\n",
       " 'ccx cin[0], b[0], a[0];',\n",
       " 'cx a[0], cin[0];',\n",
       " 'cx cin[0], b[0];',\n",
       " 'ans[0] = measure b[0];',\n",
       " 'ans[1] = measure b[1];',\n",
       " 'ans[2] = measure b[2];',\n",
       " 'ans[4] = measure cout[0];']"
      ]
     },
     "execution_count": 5,
     "metadata": {},
     "output_type": "execute_result"
    }
   ],
   "source": [
    "dumps(module).splitlines()"
   ]
  },
  {
   "cell_type": "code",
   "execution_count": null,
   "metadata": {},
   "outputs": [],
   "source": []
  }
 ],
 "metadata": {
  "kernelspec": {
   "display_name": "sdk311",
   "language": "python",
   "name": "python3"
  },
  "language_info": {
   "codemirror_mode": {
    "name": "ipython",
    "version": 3
   },
   "file_extension": ".py",
   "mimetype": "text/x-python",
   "name": "python",
   "nbconvert_exporter": "python",
   "pygments_lexer": "ipython3",
   "version": "3.11.9"
  }
 },
 "nbformat": 4,
 "nbformat_minor": 2
}

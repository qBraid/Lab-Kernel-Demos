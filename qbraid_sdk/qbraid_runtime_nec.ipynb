{
 "cells": [
  {
   "cell_type": "markdown",
   "metadata": {},
   "source": [
    "# Running QUBO Problems on the NEC Vector Annelaer\n",
    "\n",
    "The NEC Vector Annealer leverages a proprietary algorithm for annealing processes on NEC’s vector supercomputer, **SX-Aurora TSUBASA**.\n",
    "\n",
    "This notebook demonstrates how to use the **qBraid-SDK** to write an annealing problem using **pyqubo** and execute it on the NEC Vector Annealer backend."
   ]
  },
  {
   "cell_type": "code",
   "execution_count": null,
   "metadata": {},
   "outputs": [],
   "source": [
    "%%capture\n",
    "\n",
    "# First, we install the essential libraries to our current Python runtime.\n",
    "# \"%%capture\" (above) captures and in this case, hides the output of this\n",
    "# cell, so you can comment it out if you need help debugging this step.\n",
    "\n",
    "%pip install 'qbraid[pyqub,visualization]>=0.8.6'"
   ]
  },
  {
   "cell_type": "code",
   "execution_count": null,
   "metadata": {},
   "outputs": [],
   "source": [
    "from pyqubo import Spin\n",
    "from qbraid import ConversionGraph, ExperimentType, QbraidProvider\n",
    "from qbraid.runtime.schemas import QuboSolveParams"
   ]
  },
  {
   "cell_type": "code",
   "execution_count": null,
   "metadata": {},
   "outputs": [],
   "source": [
    "provider = QbraidProvider()\n",
    "\n",
    "device = provider.get_device(\"nec_vector_annealer\")\n",
    "\n",
    "print(device.status())\n",
    "print(device.profile.experiment_type)\n",
    "print(device.profile.program_spec)"
   ]
  },
  {
   "cell_type": "code",
   "execution_count": null,
   "metadata": {},
   "outputs": [],
   "source": [
    "graph = ConversionGraph()\n",
    "\n",
    "graph.plot(experiment_type=ExperimentType.ANNEALING)"
   ]
  },
  {
   "cell_type": "code",
   "execution_count": null,
   "metadata": {},
   "outputs": [],
   "source": [
    "s1, s2, s3, s4 = [Spin(f\"s{i}\") for i in range(1, 5)]\n",
    "H = (4 * s1 + 2 * s2 + 7 * s3 + s4) ** 2\n",
    "model = H.compile()\n",
    "qubo, offset = model.to_qubo()\n",
    "\n",
    "params = QuboSolveParams(offset=offset)"
   ]
  },
  {
   "cell_type": "code",
   "execution_count": null,
   "metadata": {},
   "outputs": [],
   "source": [
    "job = device.run(qubo, params=params)\n",
    "\n",
    "print(job.id)\n",
    "\n",
    "job.wait_for_final_state()"
   ]
  },
  {
   "cell_type": "code",
   "execution_count": null,
   "metadata": {},
   "outputs": [],
   "source": [
    "result = job.result()\n",
    "\n",
    "solutions = result.data.solutions()\n",
    "\n",
    "for solution in solutions:\n",
    "    print(solution)"
   ]
  }
 ],
 "metadata": {
  "kernelspec": {
   "display_name": "sdk311",
   "language": "python",
   "name": "python3"
  },
  "language_info": {
   "codemirror_mode": {
    "name": "ipython",
    "version": 3
   },
   "file_extension": ".py",
   "mimetype": "text/x-python",
   "name": "python",
   "nbconvert_exporter": "python",
   "pygments_lexer": "ipython3",
   "version": "3.11.9"
  }
 },
 "nbformat": 4,
 "nbformat_minor": 4
}

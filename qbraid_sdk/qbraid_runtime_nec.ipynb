{
 "cells": [
  {
   "cell_type": "markdown",
   "metadata": {},
   "source": [
    "# qBraid SDK NEC integration\n",
    "\n",
    "The [qBraid-SDK](https://github.com/qBraid/qBraid) is platform-agnostic quantum runtime framework. Distinguishing itself through a streamlined and highly-configurable approach to cross-platform integration, the qBraid-SDK does not assume a fixed target software framework. Instead, it allows providers to dynamically register any desired run input program type as the target, depending on their specific needs.\n",
    "\n",
    "This notebook demonstrates how to use the qBraid-SDK to run a qubo on the NEC backend."
   ]
  },
  {
   "cell_type": "code",
   "execution_count": 1,
   "metadata": {},
   "outputs": [],
   "source": [
    "%%capture\n",
    "\n",
    "# First, we install the essential libraries to our current Python runtime.\n",
    "# \"%%capture\" (above) captures and in this case, hides the output of this\n",
    "# cell, so you can comment it out if you need help debugging this step.\n",
    "\n",
    "%pip install 'qbraid[runtime]' matplotlib pyqubo"
   ]
  },
  {
   "cell_type": "code",
   "execution_count": 2,
   "metadata": {},
   "outputs": [],
   "source": [
    "from qbraid.runtime import QbraidProvider"
   ]
  },
  {
   "cell_type": "code",
   "execution_count": 3,
   "metadata": {},
   "outputs": [],
   "source": [
    "provider = QbraidProvider()"
   ]
  },
  {
   "cell_type": "code",
   "execution_count": 4,
   "metadata": {},
   "outputs": [
    {
     "name": "stderr",
     "output_type": "stream",
     "text": [
      "/opt/.qbraid/environments/qbraid_000000/pyenv/lib/python3.11/site-packages/qbraid/runtime/native/provider.py:132: RuntimeWarning: The default runtime configuration for device 'nec_vector_annealer' includes transpilation to program type 'qubo', which is not registered.\n",
      "  warnings.warn(\n"
     ]
    },
    {
     "data": {
      "text/plain": [
       "<DeviceStatus.ONLINE: 'online'>"
      ]
     },
     "execution_count": 4,
     "metadata": {},
     "output_type": "execute_result"
    }
   ],
   "source": [
    "device = provider.get_device(\"nec_vector_annealer\")\n",
    "\n",
    "device.status()"
   ]
  },
  {
   "cell_type": "code",
   "execution_count": 5,
   "metadata": {},
   "outputs": [],
   "source": [
    "target_spec = device.profile.get(\"program_spec\")\n",
    "\n",
    "target_spec"
   ]
  },
  {
   "cell_type": "code",
   "execution_count": 6,
   "metadata": {},
   "outputs": [
    {
     "ename": "QbraidRuntimeError",
     "evalue": "Run input transform failed due to missing target ProgramSpec. Ensure all required dependency extras for this device are installed, and try again. If the issue persists, please submit a bug report at https://github.com/qBraid/qBraid/issues.",
     "output_type": "error",
     "traceback": [
      "\u001b[0;31m---------------------------------------------------------------------------\u001b[0m",
      "\u001b[0;31mQbraidRuntimeError\u001b[0m                        Traceback (most recent call last)",
      "Cell \u001b[0;32mIn[6], line 21\u001b[0m\n\u001b[1;32m     14\u001b[0m device \u001b[38;5;241m=\u001b[39m provider\u001b[38;5;241m.\u001b[39mget_device(\u001b[38;5;124m\"\u001b[39m\u001b[38;5;124mnec_vector_annealer\u001b[39m\u001b[38;5;124m\"\u001b[39m)\n\u001b[1;32m     16\u001b[0m params \u001b[38;5;241m=\u001b[39m {\n\u001b[1;32m     17\u001b[0m     \u001b[38;5;124m\"\u001b[39m\u001b[38;5;124moffset\u001b[39m\u001b[38;5;124m\"\u001b[39m: offset,\n\u001b[1;32m     18\u001b[0m     \u001b[38;5;124m\"\u001b[39m\u001b[38;5;124mnum_reads\u001b[39m\u001b[38;5;124m\"\u001b[39m: \u001b[38;5;241m10\u001b[39m,\n\u001b[1;32m     19\u001b[0m }\n\u001b[0;32m---> 21\u001b[0m job \u001b[38;5;241m=\u001b[39m \u001b[43mdevice\u001b[49m\u001b[38;5;241;43m.\u001b[39;49m\u001b[43mrun\u001b[49m\u001b[43m(\u001b[49m\u001b[43mmodel\u001b[49m\u001b[43m,\u001b[49m\u001b[43m \u001b[49m\u001b[43mparams\u001b[49m\u001b[38;5;241;43m=\u001b[39;49m\u001b[43mparams\u001b[49m\u001b[43m)\u001b[49m\n\u001b[1;32m     22\u001b[0m result \u001b[38;5;241m=\u001b[39m job\u001b[38;5;241m.\u001b[39mresult()\n\u001b[1;32m     23\u001b[0m \u001b[38;5;28mprint\u001b[39m(result\u001b[38;5;241m.\u001b[39mdata\u001b[38;5;241m.\u001b[39mto_dict())\n",
      "File \u001b[0;32m/opt/.qbraid/environments/qbraid_000000/pyenv/lib/python3.11/site-packages/qbraid/runtime/native/device.py:328\u001b[0m, in \u001b[0;36mQbraidDevice.run\u001b[0;34m(self, run_input, shots, tags, **kwargs)\u001b[0m\n\u001b[1;32m    326\u001b[0m     aux_payload \u001b[38;5;241m=\u001b[39m \u001b[38;5;28mself\u001b[39m\u001b[38;5;241m.\u001b[39m_construct_aux_payload(program, program_spec)\n\u001b[1;32m    327\u001b[0m run_input_json \u001b[38;5;241m=\u001b[39m \u001b[38;5;28mself\u001b[39m\u001b[38;5;241m.\u001b[39mtransform(program)\n\u001b[0;32m--> 328\u001b[0m \u001b[38;5;28;43mself\u001b[39;49m\u001b[38;5;241;43m.\u001b[39;49m\u001b[43m_validate_run_input_payload\u001b[49m\u001b[43m(\u001b[49m\u001b[43mrun_input_json\u001b[49m\u001b[43m,\u001b[49m\u001b[43m \u001b[49m\u001b[38;5;28;43mself\u001b[39;49m\u001b[38;5;241;43m.\u001b[39;49m\u001b[43m_target_spec\u001b[49m\u001b[43m)\u001b[49m\n\u001b[1;32m    329\u001b[0m runtime_payload \u001b[38;5;241m=\u001b[39m {\u001b[38;5;241m*\u001b[39m\u001b[38;5;241m*\u001b[39maux_payload, \u001b[38;5;241m*\u001b[39m\u001b[38;5;241m*\u001b[39mrun_input_json}\n\u001b[1;32m    330\u001b[0m job \u001b[38;5;241m=\u001b[39m \u001b[38;5;28mself\u001b[39m\u001b[38;5;241m.\u001b[39msubmit(run_input\u001b[38;5;241m=\u001b[39mruntime_payload, shots\u001b[38;5;241m=\u001b[39mshots, tags\u001b[38;5;241m=\u001b[39mtags, \u001b[38;5;241m*\u001b[39m\u001b[38;5;241m*\u001b[39mkwargs)\n",
      "File \u001b[0;32m/opt/.qbraid/environments/qbraid_000000/pyenv/lib/python3.11/site-packages/qbraid/runtime/native/device.py:250\u001b[0m, in \u001b[0;36mQbraidDevice._validate_run_input_payload\u001b[0;34m(payload, target_spec)\u001b[0m\n\u001b[1;32m    244\u001b[0m \u001b[38;5;28;01melse\u001b[39;00m:\n\u001b[1;32m    245\u001b[0m     error_message \u001b[38;5;241m=\u001b[39m error_message\u001b[38;5;241m.\u001b[39mformat(\n\u001b[1;32m    246\u001b[0m         \u001b[38;5;124m\"\u001b[39m\u001b[38;5;124m, likely due to corrupted target ProgramSpec. Use QbraidProvider.get_device() \u001b[39m\u001b[38;5;124m\"\u001b[39m\n\u001b[1;32m    247\u001b[0m         \u001b[38;5;124m\"\u001b[39m\u001b[38;5;124mto re-instantiate the device object, and try again\u001b[39m\u001b[38;5;124m\"\u001b[39m\n\u001b[1;32m    248\u001b[0m     )\n\u001b[0;32m--> 250\u001b[0m \u001b[38;5;28;01mraise\u001b[39;00m QbraidRuntimeError(error_message)\n",
      "\u001b[0;31mQbraidRuntimeError\u001b[0m: Run input transform failed due to missing target ProgramSpec. Ensure all required dependency extras for this device are installed, and try again. If the issue persists, please submit a bug report at https://github.com/qBraid/qBraid/issues."
     ]
    }
   ],
   "source": [
    "# Insert your qbraid API key, in the form of a string, below.\n",
    "# If you have the correct permission, you will be able to\n",
    "# access the NEC Vector Annealer through the Qbraid Runtime.\n",
    "from pyqubo import Spin\n",
    "\n",
    "from qbraid import QbraidProvider\n",
    "\n",
    "s1, s2, s3, s4 = Spin(\"s1\"), Spin(\"s2\"), Spin(\"s3\"), Spin(\"s4\")\n",
    "H = (4 * s1 + 2 * s2 + 7 * s3 + s4) ** 2\n",
    "model = H.compile()\n",
    "qubo, offset = model.to_qubo()\n",
    "\n",
    "provider = QbraidProvider(api_key=\"YOUR_API_KEY\")\n",
    "device = provider.get_device(\"nec_vector_annealer\")\n",
    "\n",
    "params = {\n",
    "    \"offset\": offset,\n",
    "    \"num_reads\": 10,\n",
    "}\n",
    "\n",
    "job = device.run(model, params=params)\n",
    "result = job.result()\n",
    "print(result.data.to_dict())"
   ]
  },
  {
   "cell_type": "code",
   "execution_count": null,
   "metadata": {},
   "outputs": [],
   "source": []
  }
 ],
 "metadata": {
  "kernelspec": {
   "display_name": "Python 3 [Default]",
   "language": "python",
   "name": "python3"
  },
  "language_info": {
   "codemirror_mode": {
    "name": "ipython",
    "version": 3
   },
   "file_extension": ".py",
   "mimetype": "text/x-python",
   "name": "python",
   "nbconvert_exporter": "python",
   "pygments_lexer": "ipython3",
   "version": "3.11.9"
  }
 },
 "nbformat": 4,
 "nbformat_minor": 4
}

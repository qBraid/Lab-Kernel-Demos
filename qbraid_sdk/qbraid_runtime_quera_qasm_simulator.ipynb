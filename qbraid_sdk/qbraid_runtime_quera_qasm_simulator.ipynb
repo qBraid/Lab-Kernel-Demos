{
 "cells": [
  {
   "cell_type": "code",
   "execution_count": null,
   "metadata": {},
   "outputs": [],
   "source": [
    "%pip install 'qbraid[quera,cirq,visualization]>=0.8.4' -q"
   ]
  },
  {
   "cell_type": "code",
   "execution_count": null,
   "metadata": {},
   "outputs": [],
   "source": [
    "import cirq\n",
    "\n",
    "qubits = [cirq.LineQubit(i) for i in range(5)]\n",
    "\n",
    "circuit = cirq.Circuit()\n",
    "\n",
    "circuit.append(cirq.H(qubits[0]))\n",
    "\n",
    "for qubit in qubits[1:]:\n",
    "    circuit.append(cirq.CNOT(qubits[0], qubit))\n",
    "\n",
    "print(circuit)"
   ]
  },
  {
   "cell_type": "code",
   "execution_count": null,
   "metadata": {},
   "outputs": [],
   "source": [
    "from qbraid import QbraidProvider\n",
    "\n",
    "provider = QbraidProvider(api_key=\"YOUR_API_KEY\")\n",
    "provider.save_config()"
   ]
  },
  {
   "cell_type": "code",
   "execution_count": null,
   "metadata": {},
   "outputs": [],
   "source": [
    "device = provider.get_device(\"quera_qasm_simulator\")\n",
    "\n",
    "print(device.status())"
   ]
  },
  {
   "cell_type": "code",
   "execution_count": null,
   "metadata": {},
   "outputs": [],
   "source": [
    "device.metadata()"
   ]
  },
  {
   "cell_type": "code",
   "execution_count": null,
   "metadata": {},
   "outputs": [],
   "source": [
    "job = device.run(circuit, shots=100, tags={\"batch\": \"test_1\"})\n",
    "\n",
    "print(job.id)"
   ]
  },
  {
   "cell_type": "code",
   "execution_count": null,
   "metadata": {},
   "outputs": [],
   "source": [
    "import time\n",
    "\n",
    "status_final = False\n",
    "\n",
    "while not status_final:\n",
    "    status = job.status()\n",
    "    print(status)\n",
    "    status_final = job.is_terminal_state()\n",
    "    time.sleep(3)"
   ]
  },
  {
   "cell_type": "code",
   "execution_count": null,
   "metadata": {},
   "outputs": [],
   "source": [
    "result = job.result()"
   ]
  },
  {
   "cell_type": "code",
   "execution_count": null,
   "metadata": {},
   "outputs": [],
   "source": [
    "result.success"
   ]
  },
  {
   "cell_type": "code",
   "execution_count": null,
   "metadata": {},
   "outputs": [],
   "source": [
    "result.details[\"timeStamps\"]  # executionDuration in milliseconds"
   ]
  },
  {
   "cell_type": "code",
   "execution_count": null,
   "metadata": {},
   "outputs": [],
   "source": [
    "result.details[\"cost\"]  # cost in qBraid credits (free)"
   ]
  },
  {
   "cell_type": "code",
   "execution_count": null,
   "metadata": {},
   "outputs": [],
   "source": [
    "result.details[\"tags\"]"
   ]
  },
  {
   "cell_type": "code",
   "execution_count": null,
   "metadata": {},
   "outputs": [],
   "source": [
    "print(result.details[\"metadata\"][\"openQasm\"])"
   ]
  },
  {
   "cell_type": "code",
   "execution_count": null,
   "metadata": {},
   "outputs": [],
   "source": [
    "counts_bin = result.data.get_counts()\n",
    "probs_bin = result.data.get_probabilities()\n",
    "probs_dec = result.data.get_probabilities(decimal=True)\n",
    "shots = result.data.to_dict()[\"shots\"]\n",
    "\n",
    "print(f\"shots: {shots}\")\n",
    "\n",
    "print(f\"probabilities:\")\n",
    "probs_bin"
   ]
  },
  {
   "cell_type": "code",
   "execution_count": null,
   "metadata": {},
   "outputs": [],
   "source": [
    "from qbraid.visualization import plot_histogram, plot_distribution, animate_qpu_state\n",
    "\n",
    "counts_dec = result.data.get_counts(decimal=True)\n",
    "\n",
    "plot_histogram(counts_dec)"
   ]
  },
  {
   "cell_type": "code",
   "execution_count": null,
   "metadata": {},
   "outputs": [],
   "source": [
    "plot_distribution(counts_dec)"
   ]
  },
  {
   "cell_type": "code",
   "execution_count": null,
   "metadata": {},
   "outputs": [],
   "source": [
    "logs = result.data.get_logs()\n",
    "\n",
    "logs"
   ]
  },
  {
   "cell_type": "code",
   "execution_count": null,
   "metadata": {},
   "outputs": [],
   "source": [
    "qpu_state = result.data.get_qpu_state()\n",
    "\n",
    "type(qpu_state)"
   ]
  },
  {
   "cell_type": "code",
   "execution_count": null,
   "metadata": {},
   "outputs": [],
   "source": [
    "%matplotlib inline\n",
    "\n",
    "animate_qpu_state(qpu_state)"
   ]
  },
  {
   "cell_type": "code",
   "execution_count": null,
   "metadata": {},
   "outputs": [],
   "source": [
    "quera_sim_program_spec = device.profile.program_spec\n",
    "\n",
    "quera_sim_program_spec"
   ]
  },
  {
   "cell_type": "code",
   "execution_count": null,
   "metadata": {},
   "outputs": [],
   "source": [
    "from qbraid import ConversionGraph, QPROGRAM_REGISTRY\n",
    "\n",
    "graph = ConversionGraph()\n",
    "\n",
    "print(\n",
    "    f\"Based on your currently installed packages, you can submit to the Quera QASM simulator from the following program types:\\n\"\n",
    ")\n",
    "\n",
    "for program_type in QPROGRAM_REGISTRY:\n",
    "    if graph.has_path(program_type, quera_sim_program_spec.alias):\n",
    "        print(f\"'{program_type}': {QPROGRAM_REGISTRY[program_type]}\")\n",
    "\n",
    "\n",
    "print(\n",
    "    \"\\n\\nNote: Only a limited subset of features within these program types will be supported, specifically \\nthose that can be directly converted to an OpenQASM 2 format compatible with the QuEra simulator.\"\n",
    ")"
   ]
  }
 ],
 "metadata": {
  "kernelspec": {
   "display_name": "sdk311",
   "language": "python",
   "name": "python3"
  },
  "language_info": {
   "codemirror_mode": {
    "name": "ipython",
    "version": 3
   },
   "file_extension": ".py",
   "mimetype": "text/x-python",
   "name": "python",
   "nbconvert_exporter": "python",
   "pygments_lexer": "ipython3",
   "version": "3.11.9"
  }
 },
 "nbformat": 4,
 "nbformat_minor": 2
}

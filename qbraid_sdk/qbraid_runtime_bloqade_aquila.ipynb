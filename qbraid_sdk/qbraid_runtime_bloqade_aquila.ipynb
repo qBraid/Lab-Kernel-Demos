{
 "cells": [
  {
   "cell_type": "markdown",
   "id": "9ebb8300-b55f-4a42-8ed9-017ea22616e3",
   "metadata": {},
   "source": [
    "## qBraid Runtime: Bloqade batch submission to QuEra Aquila"
   ]
  },
  {
   "cell_type": "code",
   "execution_count": null,
   "id": "1e6f1cfc",
   "metadata": {},
   "outputs": [],
   "source": [
    "%%capture\n",
    "\n",
    "%pip install 'qbraid[bloqade,visualization]>=0.8.8'"
   ]
  },
  {
   "cell_type": "code",
   "execution_count": null,
   "id": "f7670408-b707-451c-af4f-11db74703e69",
   "metadata": {
    "tags": []
   },
   "outputs": [],
   "source": [
    "import numpy as np\n",
    "from bloqade import var\n",
    "from bloqade.atom_arrangement import Square\n",
    "\n",
    "from qbraid import ConversionGraph, ExperimentType\n",
    "from qbraid.runtime import QbraidProvider\n",
    "from qbraid.visualization import plot_histogram"
   ]
  },
  {
   "cell_type": "markdown",
   "id": "7eb00c25-c035-4132-af97-598cf06f98f4",
   "metadata": {},
   "source": [
    "Create adiabatic program batch using Bloqade"
   ]
  },
  {
   "cell_type": "code",
   "execution_count": null,
   "id": "ae66e887-94dc-4544-86ab-3362d62eecea",
   "metadata": {
    "tags": []
   },
   "outputs": [],
   "source": [
    "adiabatic_durations = [0.4, 3.2, 0.4]\n",
    "\n",
    "max_detuning = var(\"max_detuning\")\n",
    "adiabatic_program = (\n",
    "    Square(3, lattice_spacing=\"lattice_spacing\")\n",
    "    .rydberg.rabi.amplitude.uniform.piecewise_linear(\n",
    "        durations=adiabatic_durations, values=[0.0, \"max_rabi\", \"max_rabi\", 0.0]\n",
    "    )\n",
    "    .detuning.uniform.piecewise_linear(\n",
    "        durations=adiabatic_durations,\n",
    "        values=[\n",
    "            -max_detuning,  # scalar variables support direct arithmetic operations\n",
    "            -max_detuning,\n",
    "            max_detuning,\n",
    "            max_detuning,\n",
    "        ],\n",
    "    )\n",
    "    .assign(max_rabi=15.8, max_detuning=16.33)\n",
    "    .batch_assign(lattice_spacing=np.arange(4.0, 7.0, 1.0))\n",
    ")"
   ]
  },
  {
   "cell_type": "markdown",
   "id": "3c2e92e6-0987-472b-a0ae-822a8878936b",
   "metadata": {},
   "source": [
    "Target QuEra Aquila device using QbraidProvider"
   ]
  },
  {
   "cell_type": "code",
   "execution_count": null,
   "id": "605fc035-124f-461c-9a33-dc92ebeda7ce",
   "metadata": {
    "tags": []
   },
   "outputs": [],
   "source": [
    "provider = QbraidProvider()"
   ]
  },
  {
   "cell_type": "code",
   "execution_count": null,
   "id": "62423d51-73e8-46ab-a412-7fd04fa94777",
   "metadata": {
    "tags": []
   },
   "outputs": [],
   "source": [
    "device = provider.get_device(\"quera_aquila\")\n",
    "\n",
    "print(device.status())\n",
    "print(device.profile.experiment_type)\n",
    "print(device.profile.program_spec)"
   ]
  },
  {
   "cell_type": "code",
   "execution_count": null,
   "id": "60660d29",
   "metadata": {},
   "outputs": [],
   "source": [
    "graph = ConversionGraph()\n",
    "\n",
    "graph.plot(experiment_type=ExperimentType.AHS)"
   ]
  },
  {
   "cell_type": "markdown",
   "id": "b1194bdb-4b70-4da3-bd96-44dee8d623e3",
   "metadata": {},
   "source": [
    "Submit quantum task(s)"
   ]
  },
  {
   "cell_type": "code",
   "execution_count": null,
   "id": "0e8a9021-4965-41b0-8eea-83779b21d995",
   "metadata": {
    "tags": []
   },
   "outputs": [],
   "source": [
    "job_batch = device.run(adiabatic_program, shots=50, tags={\"batch\": \"adiabatic-test-1\"})"
   ]
  },
  {
   "cell_type": "code",
   "execution_count": null,
   "id": "0290955b-6d8d-4c5d-86c9-c38fbbe5ed06",
   "metadata": {},
   "outputs": [],
   "source": [
    "print(f\"{'Job Id':<60} {'Status':<15} {'Queue Position':<5}\")\n",
    "print(\"-\" * 50)\n",
    "for job in job_batch:\n",
    "    print(f\"{job.id:<60} {job.status():<15} {job.queue_position():<5}\")"
   ]
  },
  {
   "cell_type": "code",
   "execution_count": null,
   "id": "f5671121",
   "metadata": {},
   "outputs": [],
   "source": [
    "results = [job.result() for job in job_batch]\n",
    "\n",
    "shot_results_batch = [result.data.measurements for result in results]\n",
    "\n",
    "counts_batch = [result.data.get_counts() for result in results]"
   ]
  },
  {
   "cell_type": "code",
   "execution_count": null,
   "id": "f66c4bab",
   "metadata": {},
   "outputs": [],
   "source": [
    "plot_histogram(counts_batch)"
   ]
  }
 ],
 "metadata": {
  "kernelspec": {
   "display_name": "sdk311",
   "language": "python",
   "name": "python3"
  },
  "language_info": {
   "codemirror_mode": {
    "name": "ipython",
    "version": 3
   },
   "file_extension": ".py",
   "mimetype": "text/x-python",
   "name": "python",
   "nbconvert_exporter": "python",
   "pygments_lexer": "ipython3",
   "version": "3.11.9"
  }
 },
 "nbformat": 4,
 "nbformat_minor": 5
}

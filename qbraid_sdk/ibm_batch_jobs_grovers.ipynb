{
 "cells": [
  {
   "cell_type": "code",
   "execution_count": null,
   "id": "ac6f7b61-1fa3-476d-b6ce-48b1237e8df5",
   "metadata": {},
   "outputs": [],
   "source": [
    "# This notebook is derived from Qiskit and includes modifications by qBraid.\n",
    "#\n",
    "# (C) Copyright IBM 2020.\n",
    "# (C) Copyright qBraid 2024.\n",
    "#\n",
    "# This code is licensed under the Apache License, Version 2.0. You may\n",
    "# obtain a copy of this license in the LICENSE.txt file in the root directory\n",
    "# of this source tree or at http://www.apache.org/licenses/LICENSE-2.0.\n",
    "#\n",
    "# Any modifications or derivative works of this code must retain this\n",
    "# copyright notice, and modified files need to carry a notice indicating\n",
    "# that they have been altered from the originals."
   ]
  },
  {
   "cell_type": "markdown",
   "id": "88b49726-b1d6-4bbf-b3eb-aaa9a384b811",
   "metadata": {},
   "source": [
    "# qBraid-SDK IBM Batch Jobs Demo: Grover's Algorithm\n"
   ]
  },
  {
   "cell_type": "code",
   "execution_count": 1,
   "id": "c58a6923-26f6-4d27-8a6e-32323e4484d1",
   "metadata": {},
   "outputs": [
    {
     "data": {
      "text/plain": [
       "'0.7.0.dev20240516020308'"
      ]
     },
     "execution_count": 1,
     "metadata": {},
     "output_type": "execute_result"
    }
   ],
   "source": [
    "import qbraid\n",
    "\n",
    "qbraid.__version__"
   ]
  },
  {
   "cell_type": "markdown",
   "id": "2408ab07-9f93-461a-9384-b5e4436411e8",
   "metadata": {},
   "source": [
    "## Creating the Circuits"
   ]
  },
  {
   "cell_type": "code",
   "execution_count": 2,
   "id": "984a0746-808a-4d06-9adb-2d7513dead36",
   "metadata": {},
   "outputs": [],
   "source": [
    "import numpy as np\n",
    "\n",
    "from qiskit import QuantumCircuit"
   ]
  },
  {
   "cell_type": "markdown",
   "id": "7b97a410-48ff-4b68-96d0-1e0e63de92ae",
   "metadata": {},
   "source": [
    "The code for this circuit was taken from IBMs [Qiskit Textbook](https://learn.qiskit.org/course/ch-algorithms/grovers-algorithm). Grover's algorithm let's us find a marked item in a box in √N steps as opposed to N steps classicaly. In this case we'll run Grover's algorithm for various numbers of steps to observe how the performance varies."
   ]
  },
  {
   "cell_type": "code",
   "execution_count": 3,
   "id": "1eba1979-e8c7-4388-aa3a-29e3a1ff7cef",
   "metadata": {},
   "outputs": [
    {
     "name": "stdout",
     "output_type": "stream",
     "text": [
      "marked entry:  3\n"
     ]
    }
   ],
   "source": [
    "n = 3\n",
    "marked_entry = np.random.randint(0, 2**n - 1)\n",
    "print(\"marked entry: \", marked_entry)"
   ]
  },
  {
   "cell_type": "code",
   "execution_count": 4,
   "id": "17c2cef0-5746-4558-a3af-51890b7ebd8c",
   "metadata": {},
   "outputs": [
    {
     "data": {
      "image/png": "[encoded data removed]",
      "text/plain": [
       "<Figure size 287.496x284.278 with 1 Axes>"
      ]
     },
     "execution_count": 4,
     "metadata": {},
     "output_type": "execute_result"
    }
   ],
   "source": [
    "# Circuit from qiskit textbook\n",
    "def initialize_s(qc, qubits):\n",
    "    \"\"\"Apply a H-gate to 'qubits' in qc\"\"\"\n",
    "    for q in qubits:\n",
    "        qc.h(q)\n",
    "    return qc\n",
    "\n",
    "def diffuser(nqubits):\n",
    "    qc = QuantumCircuit(nqubits)\n",
    "    # Apply transformation |s> -> |00..0> (H-gates)\n",
    "    for qubit in range(nqubits):\n",
    "        qc.h(qubit)\n",
    "    # Apply transformation |00..0> -> |11..1> (X-gates)\n",
    "    for qubit in range(nqubits):\n",
    "        qc.x(qubit)\n",
    "    # Do multi-controlled-Z gate\n",
    "    qc.h(nqubits - 1)\n",
    "    qc.mcx(list(range(nqubits - 1)), nqubits - 1)  # multi-controlled-toffoli\n",
    "    qc.h(nqubits - 1)\n",
    "    # Apply transformation |11..1> -> |00..0>\n",
    "    for qubit in range(nqubits):\n",
    "        qc.x(qubit)\n",
    "    # Apply transformation |00..0> -> |s>\n",
    "    for qubit in range(nqubits):\n",
    "        qc.h(qubit)\n",
    "    # We will return the diffuser as a gate\n",
    "    U_s = qc.to_gate()\n",
    "    U_s.name = \"U$_s$\"\n",
    "    return U_s\n",
    "\n",
    "qc = QuantumCircuit(3)\n",
    "qc.cz(0, 2)\n",
    "qc.cz(1, 2)\n",
    "oracle_ex3 = qc.to_gate()\n",
    "oracle_ex3.name = \"U$_\\omega$\"\n",
    "\n",
    "grover_circuit = QuantumCircuit(n)\n",
    "\n",
    "grover_circuit.append(oracle_ex3, [0,1,2])\n",
    "grover_circuit.append(diffuser(n), [0,1,2])\n",
    "\n",
    "grover_circuit.draw(\"mpl\")"
   ]
  },
  {
   "cell_type": "code",
   "execution_count": 5,
   "id": "2cc8b575-f61f-456c-b185-340a909aa6fe",
   "metadata": {},
   "outputs": [],
   "source": [
    "# create list of circuits to run\n",
    "n_steps = 3\n",
    "grover_init = QuantumCircuit(grover_circuit.num_qubits, grover_circuit.num_qubits)\n",
    "grover_init.h(range(n))  # add the Hadamards\n",
    "circuits = [grover_init]  # circuits[j] will have (VW)**j:\n",
    "for _ in range(n_steps):\n",
    "    circuits.append(circuits[-1].compose(grover_circuit))\n",
    "for grover in circuits:\n",
    "    grover.measure(range(n), range(n))  # add measurements"
   ]
  },
  {
   "cell_type": "code",
   "execution_count": 7,
   "id": "d5196c00-47e9-42d8-932d-31cf6c6757de",
   "metadata": {},
   "outputs": [
    {
     "data": {
      "image/png": "[encoded data removed]",
      "text/plain": [
       "<Figure size 956.385x367.889 with 1 Axes>"
      ]
     },
     "execution_count": 7,
     "metadata": {},
     "output_type": "execute_result"
    }
   ],
   "source": [
    "from qbraid.visualization import circuit_drawer\n",
    "\n",
    "circuit_drawer(circuits[3], output=\"mpl\")"
   ]
  },
  {
   "cell_type": "markdown",
   "id": "879a9d4e-88d2-4bd6-8681-2e67a93f075d",
   "metadata": {},
   "source": [
    "Now that we've created our Grover circuit for n = 0, 1, 2, and 3, we can simply pass the `circuits` array"
   ]
  },
  {
   "cell_type": "markdown",
   "id": "43dfd23a-29b4-40fb-9b8b-b14f9c83621e",
   "metadata": {},
   "source": [
    "# Running the Circuits"
   ]
  },
  {
   "cell_type": "markdown",
   "id": "ac24da6b",
   "metadata": {},
   "source": [
    "Now let's load in our IBM account. Note that you'll have to have IBM credentials to run this notebook. You can follow the instructions [here](https://github.com/Qiskit/qiskit-ibm-provider#provider-setup) to set them up."
   ]
  },
  {
   "cell_type": "markdown",
   "id": "653f5850",
   "metadata": {},
   "source": [
    "Check which devices are online:"
   ]
  },
  {
   "cell_type": "code",
   "execution_count": 8,
   "id": "0cfd0932-88fe-4d64-b3a8-ec6eb806b999",
   "metadata": {},
   "outputs": [
    {
     "data": {
      "text/plain": [
       "[<qbraid.runtime.qiskit.device.QiskitBackend('ibm_kyoto')>,\n",
       " <qbraid.runtime.qiskit.device.QiskitBackend('ibm_osaka')>,\n",
       " <qbraid.runtime.qiskit.device.QiskitBackend('ibm_sherbrooke')>,\n",
       " <qbraid.runtime.qiskit.device.QiskitBackend('ibm_brisbane')>]"
      ]
     },
     "execution_count": 8,
     "metadata": {},
     "output_type": "execute_result"
    }
   ],
   "source": [
    "from qbraid.runtime.qiskit import QiskitRuntimeProvider\n",
    "\n",
    "provider = QiskitRuntimeProvider('YOUR_API_KEY')\n",
    "provider.get_devices()"
   ]
  },
  {
   "cell_type": "markdown",
   "id": "4e4f1c13-9949-4d6f-a887-b87afbb95407",
   "metadata": {},
   "source": [
    "In this tutorial we'll use IBM's Osaka computer, since we see that it's online. Now we can use qBraid's `QuantumDevice` to run this job. The device wrapper adds a layer of abstraction, allowing us to run more types of circuits on more devices, and in this case letting us use the `run_batch` method. "
   ]
  },
  {
   "cell_type": "markdown",
   "id": "cd3a76cc-5ec0-4139-910a-0cc21269b128",
   "metadata": {},
   "source": [
    "Batch experiments combine individual experiments on any subset of qubits into a single composite experiment which appends all the circuits from each component experiment into a single batch of circuits to be executed as one experiment job. This is useful because it allows us to run multiple circuits in parallel. It is especially useful for situations like this, where we want to run many similar circuits and collectively analyze their results"
   ]
  },
  {
   "cell_type": "code",
   "execution_count": 9,
   "id": "31c1b440-6c79-4b97-b7a6-9a0aa6703c4d",
   "metadata": {},
   "outputs": [
    {
     "name": "stdout",
     "output_type": "stream",
     "text": [
      "QiskitBackend('ibm_osaka')\n"
     ]
    }
   ],
   "source": [
    "device = provider.get_device('ibm_osaka')\n",
    "\n",
    "print(device)"
   ]
  },
  {
   "cell_type": "code",
   "execution_count": 10,
   "id": "1ba007b5-ae3c-4223-92ee-e2fe5ee2653e",
   "metadata": {},
   "outputs": [],
   "source": [
    "job = device.run(circuits, shots=100)"
   ]
  },
  {
   "cell_type": "code",
   "execution_count": 11,
   "id": "8e5895a1-c977-4e8a-bd5a-e365a66d17c5",
   "metadata": {},
   "outputs": [
    {
     "data": {
      "text/plain": [
       "<JobStatus.QUEUED: 'job is queued'>"
      ]
     },
     "execution_count": 11,
     "metadata": {},
     "output_type": "execute_result"
    }
   ],
   "source": [
    "job.status()"
   ]
  },
  {
   "cell_type": "markdown",
   "id": "a85c3e7d",
   "metadata": {},
   "source": [
    "Since it takes awhile to run, we grab the id directly after it finishes."
   ]
  },
  {
   "cell_type": "code",
   "execution_count": 12,
   "id": "aaf0e4fa-f163-4b9b-9b25-629c44424d4b",
   "metadata": {},
   "outputs": [
    {
     "data": {
      "text/plain": [
       "<JobStatus.COMPLETED: 'job has successfully run'>"
      ]
     },
     "execution_count": 12,
     "metadata": {},
     "output_type": "execute_result"
    }
   ],
   "source": [
    "from qbraid.runtime.qiskit import QiskitJob\n",
    "\n",
    "job = QiskitJob(\"cs71v95yhpyg008b1kcg\", device=device)\n",
    "\n",
    "job.status()"
   ]
  },
  {
   "cell_type": "code",
   "execution_count": 13,
   "id": "23bab44e-ab8f-443a-a9ec-d23c2b244345",
   "metadata": {},
   "outputs": [
    {
     "name": "stdout",
     "output_type": "stream",
     "text": [
      "{'000': 12, '001': 11, '010': 8, '011': 15, '100': 13, '101': 13, '110': 16, '111': 12}\n",
      "{'000': 8, '001': 3, '010': 7, '011': 1, '100': 6, '101': 29, '110': 37, '111': 9}\n",
      "{'000': 6, '001': 6, '010': 13, '011': 7, '100': 21, '101': 17, '110': 14, '111': 16}\n",
      "{'000': 23, '001': 11, '010': 17, '011': 3, '100': 8, '101': 6, '110': 17, '111': 15}\n"
     ]
    }
   ],
   "source": [
    "batch_result = job.result()\n",
    "batch_counts = batch_result.measurement_counts()\n",
    "\n",
    "for count in batch_counts:\n",
    "    print(count)"
   ]
  },
  {
   "cell_type": "markdown",
   "id": "ea1ad431-980f-4b8e-a131-cd923e3f5163",
   "metadata": {},
   "source": [
    "We see that our results line up roughly with the theoretical prediction in the textbook. With 0 grover steps, the probability is basically evenly distributed. At one step, we see it is roughly 80% correct, as we expect. The probability then peaks at 2 steps and dips again at 3 steps."
   ]
  }
 ],
 "metadata": {
  "kernelspec": {
   "display_name": "notebooks",
   "language": "python",
   "name": "python3"
  },
  "language_info": {
   "codemirror_mode": {
    "name": "ipython",
    "version": 3
   },
   "file_extension": ".py",
   "mimetype": "text/x-python",
   "name": "python",
   "nbconvert_exporter": "python",
   "pygments_lexer": "ipython3",
   "version": "3.11.9"
  }
 },
 "nbformat": 4,
 "nbformat_minor": 5
}

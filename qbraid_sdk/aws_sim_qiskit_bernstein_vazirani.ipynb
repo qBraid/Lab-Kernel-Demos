{
 "cells": [
  {
   "cell_type": "code",
   "execution_count": 1,
   "id": "e02e4aa7-3ad7-41bd-a23b-5b37b70fdc34",
   "metadata": {
    "tags": []
   },
   "outputs": [],
   "source": [
    "# This notebook is derived from Qiskit and includes modifications by qBraid.\n",
    "#\n",
    "# (C) Copyright IBM 2020.\n",
    "# (C) Copyright qBraid 2023.\n",
    "#\n",
    "# This code is licensed under the Apache License, Version 2.0. You may\n",
    "# obtain a copy of this license in the LICENSE.txt file in the root directory\n",
    "# of this source tree or at http://www.apache.org/licenses/LICENSE-2.0.\n",
    "#\n",
    "# Any modifications or derivative works of this code must retain this\n",
    "# copyright notice, and modified files need to carry a notice indicating\n",
    "# that they have been altered from the originals."
   ]
  },
  {
   "cell_type": "markdown",
   "id": "853073e0-f09a-4db2-b950-78b8cd152225",
   "metadata": {},
   "source": [
    "# qBraid-SDK Qiskit on AWS Device Demo: Bernstein-Vazirani Algorithm"
   ]
  },
  {
   "cell_type": "code",
   "execution_count": 2,
   "id": "26c3e962-ce58-41c4-be95-c41340d8a057",
   "metadata": {
    "tags": []
   },
   "outputs": [
    {
     "data": {
      "text/plain": [
       "'0.7.0.dev'"
      ]
     },
     "execution_count": 2,
     "metadata": {},
     "output_type": "execute_result"
    }
   ],
   "source": [
    "import qbraid\n",
    "\n",
    "qbraid.__version__"
   ]
  },
  {
   "cell_type": "markdown",
   "id": "9dc820e5-9ffc-445b-8107-0e70867e51e9",
   "metadata": {},
   "source": [
    "## Creating the Circuit"
   ]
  },
  {
   "cell_type": "code",
   "execution_count": 3,
   "id": "45bd059d-461e-40bd-a873-d6ee8a2129b1",
   "metadata": {
    "tags": []
   },
   "outputs": [],
   "source": [
    "from qiskit import QuantumCircuit"
   ]
  },
  {
   "cell_type": "markdown",
   "id": "a9c68b61-503a-4112-9d09-76b4b9f48558",
   "metadata": {},
   "source": [
    "The code for this circuit was taken from IBMs Bernstein-Vazirani algorithm tutorial. Check out their [tutorial](https://www.youtube.com/watch?v=sqJIpHYl7oo) for a more in depth explanation. Classically, it takes $n$ queries to decipher a secret string of length $n$ – the Bernstein-Vazirani algorithm allows us to develop an oracle in a quantum circuit that is able to guess the string with just one query!"
   ]
  },
  {
   "cell_type": "code",
   "execution_count": 4,
   "id": "64112ad2-770c-4142-b338-9f379c99b7e7",
   "metadata": {
    "tags": []
   },
   "outputs": [
    {
     "data": {
      "text/plain": [
       "<qiskit.circuit.instructionset.InstructionSet at 0x7b8b57b8c970>"
      ]
     },
     "execution_count": 4,
     "metadata": {},
     "output_type": "execute_result"
    }
   ],
   "source": [
    "s = \"110101\"  # the number we hope to guess\n",
    "n = len(s)\n",
    "\n",
    "qiskit_circuit = QuantumCircuit(n + 1, n)\n",
    "\n",
    "qiskit_circuit.x(n)\n",
    "qiskit_circuit.barrier()\n",
    "qiskit_circuit.h(range(n + 1))\n",
    "qiskit_circuit.barrier()\n",
    "\n",
    "for ii, yesno in enumerate(reversed(s)):\n",
    "    if yesno == \"1\":\n",
    "        qiskit_circuit.cx(ii, n)\n",
    "\n",
    "qiskit_circuit.barrier()\n",
    "qiskit_circuit.h(range(n + 1))\n",
    "qiskit_circuit.barrier()\n",
    "qiskit_circuit.measure(range(n), range(n))"
   ]
  },
  {
   "cell_type": "code",
   "execution_count": 5,
   "id": "ec22c1b0-c33a-400d-87f7-5079e300698d",
   "metadata": {
    "tags": []
   },
   "outputs": [
    {
     "data": {
      "text/html": [
       "<pre style=\"word-wrap: normal;white-space: pre;background: #fff0;line-height: 1.1;font-family: &quot;Courier New&quot;,Courier,monospace\">           ░ ┌───┐ ░                      ░ ┌───┐ ░ ┌─┐               \n",
       "q_0: ──────░─┤ H ├─░───■──────────────────░─┤ H ├─░─┤M├───────────────\n",
       "           ░ ├───┤ ░   │                  ░ ├───┤ ░ └╥┘┌─┐            \n",
       "q_1: ──────░─┤ H ├─░───┼──────────────────░─┤ H ├─░──╫─┤M├────────────\n",
       "           ░ ├───┤ ░   │                  ░ ├───┤ ░  ║ └╥┘┌─┐         \n",
       "q_2: ──────░─┤ H ├─░───┼────■─────────────░─┤ H ├─░──╫──╫─┤M├─────────\n",
       "           ░ ├───┤ ░   │    │             ░ ├───┤ ░  ║  ║ └╥┘┌─┐      \n",
       "q_3: ──────░─┤ H ├─░───┼────┼─────────────░─┤ H ├─░──╫──╫──╫─┤M├──────\n",
       "           ░ ├───┤ ░   │    │             ░ ├───┤ ░  ║  ║  ║ └╥┘┌─┐   \n",
       "q_4: ──────░─┤ H ├─░───┼────┼────■────────░─┤ H ├─░──╫──╫──╫──╫─┤M├───\n",
       "           ░ ├───┤ ░   │    │    │        ░ ├───┤ ░  ║  ║  ║  ║ └╥┘┌─┐\n",
       "q_5: ──────░─┤ H ├─░───┼────┼────┼────■───░─┤ H ├─░──╫──╫──╫──╫──╫─┤M├\n",
       "     ┌───┐ ░ ├───┤ ░ ┌─┴─┐┌─┴─┐┌─┴─┐┌─┴─┐ ░ ├───┤ ░  ║  ║  ║  ║  ║ └╥┘\n",
       "q_6: ┤ X ├─░─┤ H ├─░─┤ X ├┤ X ├┤ X ├┤ X ├─░─┤ H ├─░──╫──╫──╫──╫──╫──╫─\n",
       "     └───┘ ░ └───┘ ░ └───┘└───┘└───┘└───┘ ░ └───┘ ░  ║  ║  ║  ║  ║  ║ \n",
       "c: 6/════════════════════════════════════════════════╩══╩══╩══╩══╩══╩═\n",
       "                                                     0  1  2  3  4  5 </pre>"
      ],
      "text/plain": [
       "           ░ ┌───┐ ░                      ░ ┌───┐ ░ ┌─┐               \n",
       "q_0: ──────░─┤ H ├─░───■──────────────────░─┤ H ├─░─┤M├───────────────\n",
       "           ░ ├───┤ ░   │                  ░ ├───┤ ░ └╥┘┌─┐            \n",
       "q_1: ──────░─┤ H ├─░───┼──────────────────░─┤ H ├─░──╫─┤M├────────────\n",
       "           ░ ├───┤ ░   │                  ░ ├───┤ ░  ║ └╥┘┌─┐         \n",
       "q_2: ──────░─┤ H ├─░───┼────■─────────────░─┤ H ├─░──╫──╫─┤M├─────────\n",
       "           ░ ├───┤ ░   │    │             ░ ├───┤ ░  ║  ║ └╥┘┌─┐      \n",
       "q_3: ──────░─┤ H ├─░───┼────┼─────────────░─┤ H ├─░──╫──╫──╫─┤M├──────\n",
       "           ░ ├───┤ ░   │    │             ░ ├───┤ ░  ║  ║  ║ └╥┘┌─┐   \n",
       "q_4: ──────░─┤ H ├─░───┼────┼────■────────░─┤ H ├─░──╫──╫──╫──╫─┤M├───\n",
       "           ░ ├───┤ ░   │    │    │        ░ ├───┤ ░  ║  ║  ║  ║ └╥┘┌─┐\n",
       "q_5: ──────░─┤ H ├─░───┼────┼────┼────■───░─┤ H ├─░──╫──╫──╫──╫──╫─┤M├\n",
       "     ┌───┐ ░ ├───┤ ░ ┌─┴─┐┌─┴─┐┌─┴─┐┌─┴─┐ ░ ├───┤ ░  ║  ║  ║  ║  ║ └╥┘\n",
       "q_6: ┤ X ├─░─┤ H ├─░─┤ X ├┤ X ├┤ X ├┤ X ├─░─┤ H ├─░──╫──╫──╫──╫──╫──╫─\n",
       "     └───┘ ░ └───┘ ░ └───┘└───┘└───┘└───┘ ░ └───┘ ░  ║  ║  ║  ║  ║  ║ \n",
       "c: 6/════════════════════════════════════════════════╩══╩══╩══╩══╩══╩═\n",
       "                                                     0  1  2  3  4  5 "
      ]
     },
     "execution_count": 5,
     "metadata": {},
     "output_type": "execute_result"
    }
   ],
   "source": [
    "from qbraid.visualization import circuit_drawer\n",
    "\n",
    "circuit_drawer(qiskit_circuit, \"mpl\")  # Visualizing the circuit"
   ]
  },
  {
   "cell_type": "markdown",
   "id": "17d7778c-e6d3-49f2-9976-5b6915a94c1b",
   "metadata": {},
   "source": [
    "## Running on an AWS Device via qBraid"
   ]
  },
  {
   "cell_type": "markdown",
   "id": "6f94aac4-8aed-43e0-b3f3-ea7006139b1f",
   "metadata": {},
   "source": [
    "Let's check which devices (specifically AWS ones) are online, and also find their device IDs:"
   ]
  },
  {
   "cell_type": "code",
   "execution_count": 6,
   "id": "43adf303-4bd1-45cb-bac8-010cbd701e72",
   "metadata": {
    "tags": []
   },
   "outputs": [],
   "source": [
    "from qbraid.runtime.braket import BraketProvider"
   ]
  },
  {
   "cell_type": "code",
   "execution_count": 7,
   "id": "793dc61d-9a59-46ba-b553-8202892e6e7c",
   "metadata": {
    "tags": []
   },
   "outputs": [
    {
     "data": {
      "text/plain": [
       "[<qbraid.runtime.braket.device.BraketDevice('arn:aws:braket:us-east-1::device/qpu/ionq/Aria-1')>,\n",
       " <qbraid.runtime.braket.device.BraketDevice('arn:aws:braket:us-east-1::device/qpu/ionq/Aria-2')>,\n",
       " <qbraid.runtime.braket.device.BraketDevice('arn:aws:braket:us-west-1::device/qpu/rigetti/Aspen-M-3')>,\n",
       " <qbraid.runtime.braket.device.BraketDevice('arn:aws:braket:us-east-1::device/qpu/ionq/Forte-1')>,\n",
       " <qbraid.runtime.braket.device.BraketDevice('arn:aws:braket:us-east-1::device/qpu/ionq/Harmony')>,\n",
       " <qbraid.runtime.braket.device.BraketDevice('arn:aws:braket:eu-west-2::device/qpu/oqc/Lucy')>,\n",
       " <qbraid.runtime.braket.device.BraketDevice('arn:aws:braket:::device/quantum-simulator/amazon/sv1')>,\n",
       " <qbraid.runtime.braket.device.BraketDevice('arn:aws:braket:::device/quantum-simulator/amazon/tn1')>,\n",
       " <qbraid.runtime.braket.device.BraketDevice('arn:aws:braket:::device/quantum-simulator/amazon/dm1')>]"
      ]
     },
     "execution_count": 7,
     "metadata": {},
     "output_type": "execute_result"
    }
   ],
   "source": [
    "provider = BraketProvider()\n",
    "provider.get_devices()"
   ]
  },
  {
   "cell_type": "markdown",
   "id": "7c96b901-13db-4908-86ed-d3a078e6c4bf",
   "metadata": {},
   "source": [
    "In this tutorial we'll use Amazon's SV1 computer, since we see that it's online. Now we can use the BraketProvider run a job on an Amazon device. The device wrapper adds a layer of abstraction, allowing us to run a qiskit circuit on an AWS quantum computer. Note that there's no need for any sort of circuit wrapper here – we can plug the qiskit circuit directly into the wrapped device!"
   ]
  },
  {
   "cell_type": "code",
   "execution_count": 8,
   "id": "d0263cb1-f67c-4894-8723-1cf6f0813f7e",
   "metadata": {
    "tags": []
   },
   "outputs": [],
   "source": [
    "aws_device_id = \"arn:aws:braket:::device/quantum-simulator/amazon/sv1\" \n",
    "device = provider.get_device(aws_device_id)"
   ]
  },
  {
   "cell_type": "code",
   "execution_count": 9,
   "id": "925f0bbd-ccb2-4806-bb29-299365ee8fa3",
   "metadata": {
    "tags": []
   },
   "outputs": [
    {
     "name": "stderr",
     "output_type": "stream",
     "text": [
      "/home/jovyan/.qbraid/environments/qbraid_k2j4i1/pyenv/lib/python3.9/site-packages/qiskit_braket_provider/providers/adapter.py:442: UserWarning: The Qiskit circuit contains barrier instructions that are ignored.\n",
      "  warnings.warn(\n"
     ]
    },
    {
     "data": {
      "text/plain": [
       "<JobStatus.COMPLETED: 'job has successfully run'>"
      ]
     },
     "execution_count": 9,
     "metadata": {},
     "output_type": "execute_result"
    }
   ],
   "source": [
    "braket_job = device.run(qiskit_circuit, shots=100)\n",
    "braket_job.status()"
   ]
  },
  {
   "cell_type": "code",
   "execution_count": 10,
   "id": "04629aba-806f-43d1-951b-d673b7a3e6e6",
   "metadata": {
    "tags": []
   },
   "outputs": [
    {
     "name": "stdout",
     "output_type": "stream",
     "text": [
      "{'1110101': 100}\n"
     ]
    }
   ],
   "source": [
    "result = braket_job.result()\n",
    "counts = result.measurement_counts()\n",
    "print(counts)"
   ]
  },
  {
   "cell_type": "code",
   "execution_count": 11,
   "id": "aaf2c526-33ce-4eae-9602-09148d11026d",
   "metadata": {
    "tags": []
   },
   "outputs": [],
   "source": [
    "from qbraid.visualization import plot_histogram"
   ]
  },
  {
   "cell_type": "code",
   "execution_count": 12,
   "id": "0e571804-2fbe-464e-994d-8911d19c40e0",
   "metadata": {
    "tags": []
   },
   "outputs": [
    {
     "data": {
      "image/png": "[encoded data removed]",
      "text/plain": [
       "<Figure size 640x480 with 1 Axes>"
      ]
     },
     "metadata": {},
     "output_type": "display_data"
    }
   ],
   "source": [
    "plot_histogram(counts)"
   ]
  },
  {
   "cell_type": "markdown",
   "id": "8b304a4c-1e71-4438-bd46-12be95c39ae1",
   "metadata": {},
   "source": [
    "We have guessed the number correctly! Note the bar graph where only one number was guessed in all 100 shots"
   ]
  }
 ],
 "metadata": {
  "kernelspec": {
   "display_name": "runtime",
   "language": "python",
   "name": "python3"
  },
  "language_info": {
   "codemirror_mode": {
    "name": "ipython",
    "version": 3
   },
   "file_extension": ".py",
   "mimetype": "text/x-python",
   "name": "python",
   "nbconvert_exporter": "python",
   "pygments_lexer": "ipython3",
   "version": "3.11.9"
  }
 },
 "nbformat": 4,
 "nbformat_minor": 5
}

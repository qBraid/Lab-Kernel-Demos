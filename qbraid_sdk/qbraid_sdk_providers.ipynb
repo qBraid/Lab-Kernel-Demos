{
 "cells": [
  {
   "cell_type": "markdown",
   "id": "c7b38b09-44f5-46b5-9809-23de47ada6c5",
   "metadata": {},
   "source": [
    "# qBraid Runtime"
   ]
  },
  {
   "cell_type": "markdown",
   "id": "2626ba66",
   "metadata": {},
   "source": [
    "This notebook will go through the four different runtime provider modules in the qBraid-SDK and go through the very basic functions and features of each one."
   ]
  },
  {
   "cell_type": "code",
   "execution_count": null,
   "id": "23a8fa7a-872b-43eb-92a5-8b960b6215c3",
   "metadata": {
    "tags": []
   },
   "outputs": [],
   "source": [
    "import qbraid\n",
    "\n",
    "from qbraid.runtime.native import QbraidProvider\n",
    "from qbraid.runtime.braket import BraketProvider\n",
    "from qbraid.runtime.qiskit import QiskitRuntimeProvider\n",
    "from qbraid.runtime.ionq import IonQProvider"
   ]
  },
  {
   "cell_type": "code",
   "execution_count": null,
   "id": "aeebd839-8c32-4f8d-a1f9-2ea44a94668c",
   "metadata": {
    "tags": []
   },
   "outputs": [],
   "source": [
    "qbraid.__version__"
   ]
  },
  {
   "cell_type": "markdown",
   "id": "852ccc34-8193-49f4-a3c5-59bbdabf296f",
   "metadata": {},
   "source": [
    "## QbraidProvider"
   ]
  },
  {
   "cell_type": "code",
   "execution_count": null,
   "id": "1c5a92d6-c400-4c84-b558-23eb3a724785",
   "metadata": {
    "tags": []
   },
   "outputs": [],
   "source": [
    "qbraid_provider = QbraidProvider()"
   ]
  },
  {
   "cell_type": "markdown",
   "id": "a5b7eb31-779d-4112-9fa0-14ad6823e98f",
   "metadata": {},
   "source": [
    "### Query Qbraid Devices"
   ]
  },
  {
   "cell_type": "code",
   "execution_count": null,
   "id": "a6b8f229-7f06-43d0-977b-7ad290f9341a",
   "metadata": {
    "tags": []
   },
   "outputs": [],
   "source": [
    "qbraid_provider.get_devices()"
   ]
  },
  {
   "cell_type": "code",
   "execution_count": null,
   "id": "350ef769-c2d9-4ff3-90ed-6c957c64d658",
   "metadata": {
    "tags": []
   },
   "outputs": [],
   "source": [
    "qbraid_device = qbraid_provider.get_device('qbraid_qir_simulator')\n",
    "\n",
    "qbraid_device.metadata()"
   ]
  },
  {
   "cell_type": "markdown",
   "id": "9d781221-9c07-42eb-bcad-63a666221356",
   "metadata": {},
   "source": [
    "## BraketProvider"
   ]
  },
  {
   "cell_type": "code",
   "execution_count": null,
   "id": "b464cc6a-236b-4dae-b913-4dd263926a61",
   "metadata": {
    "tags": []
   },
   "outputs": [],
   "source": [
    "braket_provider = BraketProvider()"
   ]
  },
  {
   "cell_type": "markdown",
   "id": "4f2f6b75-eb98-4d06-af70-bece8104dfa4",
   "metadata": {},
   "source": [
    "### Query AWS devices"
   ]
  },
  {
   "cell_type": "code",
   "execution_count": null,
   "id": "ca0e47ed-f256-4aae-baea-fb56860821de",
   "metadata": {
    "tags": []
   },
   "outputs": [],
   "source": [
    "braket_provider.get_devices()"
   ]
  },
  {
   "cell_type": "code",
   "execution_count": null,
   "id": "48dbb5c6-79c5-4a53-ae00-aaba6546fd7d",
   "metadata": {
    "tags": []
   },
   "outputs": [],
   "source": [
    "braket_device = braket_provider.get_device(\"arn:aws:braket:::device/quantum-simulator/amazon/sv1\")\n",
    "\n",
    "braket_device.metadata()"
   ]
  },
  {
   "cell_type": "code",
   "execution_count": null,
   "id": "a438053a-3a8a-4961-937d-4717435afe63",
   "metadata": {
    "tags": []
   },
   "outputs": [],
   "source": [
    "braket_device.availability_window()"
   ]
  },
  {
   "cell_type": "markdown",
   "id": "648d4dea-9a60-43e0-9e67-4d7144936061",
   "metadata": {},
   "source": [
    "## QiskitRuntimeProvider"
   ]
  },
  {
   "cell_type": "code",
   "execution_count": null,
   "id": "8c288074-ff7f-4048-920d-61ff1c0d611f",
   "metadata": {},
   "outputs": [],
   "source": [
    "qiskit_provider = QiskitRuntimeProvider('<YOUR_API_TOKEN>')"
   ]
  },
  {
   "cell_type": "code",
   "execution_count": null,
   "id": "45f284e9-6193-4fbc-b4e7-98259773fd40",
   "metadata": {},
   "outputs": [],
   "source": [
    "qiskit_provider.get_devices()"
   ]
  },
  {
   "cell_type": "code",
   "execution_count": null,
   "id": "d6e8c6c5-85c8-492d-86ca-2a7ad91074c4",
   "metadata": {},
   "outputs": [],
   "source": [
    "qiskit_provider.ibm_least_busy_qpu()"
   ]
  },
  {
   "cell_type": "markdown",
   "id": "976ff6a1-32da-49ea-af3b-63b3160badb4",
   "metadata": {},
   "source": [
    "### Query IBM backends"
   ]
  },
  {
   "cell_type": "code",
   "execution_count": null,
   "id": "39581b36-403f-43f8-a9ab-f9f2804acee4",
   "metadata": {},
   "outputs": [],
   "source": [
    "ibm_device = qiskit_provider.get_device(\"ibm_kyoto\")\n",
    "\n",
    "ibm_device.metadata()"
   ]
  },
  {
   "cell_type": "markdown",
   "id": "c37ca6a9-8976-4b35-96fc-1c63d8668466",
   "metadata": {},
   "source": [
    "## IonQProvider"
   ]
  },
  {
   "cell_type": "code",
   "execution_count": null,
   "id": "1683b86c-41d1-440b-b8a0-5cf5bd81db2c",
   "metadata": {
    "tags": []
   },
   "outputs": [],
   "source": [
    "ionq_provider = IonQProvider('<YOUR_API_TOKEN>')"
   ]
  },
  {
   "cell_type": "code",
   "execution_count": null,
   "id": "2dab848e-b75e-45ac-b3ff-dd7e00a91afa",
   "metadata": {
    "tags": []
   },
   "outputs": [],
   "source": [
    "ionq_provider.get_devices()"
   ]
  },
  {
   "cell_type": "markdown",
   "id": "01fa7a1d-ad5c-48f9-a950-bdad488ff94e",
   "metadata": {},
   "source": [
    "### Query IonQ devices"
   ]
  },
  {
   "cell_type": "code",
   "execution_count": null,
   "id": "0de949ae-88fb-4349-b8eb-4fd1ef925b4a",
   "metadata": {
    "tags": []
   },
   "outputs": [],
   "source": [
    "ionq_device = ionq_provider.get_device('qpu.aria-1')\n",
    "\n",
    "ionq_device.metadata()"
   ]
  }
 ],
 "metadata": {
  "kernelspec": {
   "display_name": "notebooks",
   "language": "python",
   "name": "python3"
  },
  "language_info": {
   "codemirror_mode": {
    "name": "ipython",
    "version": 3
   },
   "file_extension": ".py",
   "mimetype": "text/x-python",
   "name": "python",
   "nbconvert_exporter": "python",
   "pygments_lexer": "ipython3",
   "version": "3.11.9"
  }
 },
 "nbformat": 4,
 "nbformat_minor": 5
}

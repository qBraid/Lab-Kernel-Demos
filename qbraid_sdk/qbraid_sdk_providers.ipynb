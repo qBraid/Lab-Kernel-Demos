{
 "cells": [
  {
   "cell_type": "markdown",
   "id": "c7b38b09-44f5-46b5-9809-23de47ada6c5",
   "metadata": {},
   "source": [
    "# qBraid Runtime Provider Extras and Authentication"
   ]
  },
  {
   "cell_type": "markdown",
   "id": "2626ba66",
   "metadata": {},
   "source": [
    "This notebook demonstrates how to:\n",
    "- **Authenticate** with various qBraid Runtime providers.\n",
    "- **Instantiate** provider objects.\n",
    "- **Retrieve availabe devices** for each provider.\n",
    "\n",
    "*Note*: The \"native\" `QbraidProvider` is the only qBraid Runtime provider that accepts qBraid credentials directly. For all other providers, you must have the appropriate credentials for the respective platform prior to use."
   ]
  },
  {
   "cell_type": "code",
   "execution_count": 1,
   "id": "f5c3ef91",
   "metadata": {},
   "outputs": [],
   "source": [
    "%%capture\n",
    "\n",
    "%pip install qbraid"
   ]
  },
  {
   "cell_type": "code",
   "execution_count": 2,
   "id": "e8290318",
   "metadata": {},
   "outputs": [],
   "source": [
    "import os\n",
    "import logging\n",
    "\n",
    "logging.basicConfig(level=logging.ERROR)"
   ]
  },
  {
   "cell_type": "code",
   "execution_count": 3,
   "id": "e0349a48",
   "metadata": {},
   "outputs": [
    {
     "name": "stdout",
     "output_type": "stream",
     "text": [
      "0.8.8\n"
     ]
    }
   ],
   "source": [
    "from qbraid import __version__\n",
    "\n",
    "print(__version__)"
   ]
  },
  {
   "cell_type": "markdown",
   "id": "852ccc34-8193-49f4-a3c5-59bbdabf296f",
   "metadata": {},
   "source": [
    "## QbraidProvider"
   ]
  },
  {
   "cell_type": "code",
   "execution_count": 4,
   "id": "ba79a19a",
   "metadata": {},
   "outputs": [],
   "source": [
    "%%capture\n",
    "\n",
    "%pip install 'qbraid[qir]'  # Required for: qbraid_qir_simulator\n",
    "%pip install 'qbraid[quera]'  # Required for: qbraid_qasm_simulator\n",
    "%pip install 'qbraid[pyqubo]'  # Required for: nec_vector_annealer\n",
    "%pip install 'qbraid[braket]'  # Required for: aws_sv1, aws_dm1, aws_tn1, quera_aquila\n",
    "%pip install 'qbraid[ionq]'  # Required for: ionq_simulator, ionq_aria_1, ionq_aria_2, ionq_forte_1"
   ]
  },
  {
   "cell_type": "code",
   "execution_count": 5,
   "id": "1c5a92d6-c400-4c84-b558-23eb3a724785",
   "metadata": {
    "tags": []
   },
   "outputs": [
    {
     "data": {
      "text/plain": [
       "[<qbraid.runtime.native.device.QbraidDevice('aws_dm1')>,\n",
       " <qbraid.runtime.native.device.QbraidDevice('aws_sv1')>,\n",
       " <qbraid.runtime.native.device.QbraidDevice('aws_tn1')>,\n",
       " <qbraid.runtime.native.device.QbraidDevice('quera_aquila')>,\n",
       " <qbraid.runtime.native.device.QbraidDevice('qbraid_qir_simulator')>,\n",
       " <qbraid.runtime.native.device.QbraidDevice('quera_qasm_simulator')>,\n",
       " <qbraid.runtime.native.device.QbraidDevice('ionq_simulator')>,\n",
       " <qbraid.runtime.native.device.QbraidDevice('nec_vector_annealer')>,\n",
       " <qbraid.runtime.native.device.QbraidDevice('ionq_harmony')>,\n",
       " <qbraid.runtime.native.device.QbraidDevice('ionq_aria_1')>,\n",
       " <qbraid.runtime.native.device.QbraidDevice('ionq_aria_2')>,\n",
       " <qbraid.runtime.native.device.QbraidDevice('ionq_forte_1')>]"
      ]
     },
     "execution_count": 5,
     "metadata": {},
     "output_type": "execute_result"
    }
   ],
   "source": [
    "from qbraid.runtime import QbraidProvider\n",
    "\n",
    "api_key = os.getenv(\"QBRAID_API_KEY\")\n",
    "\n",
    "provider = QbraidProvider(api_key=api_key)\n",
    "\n",
    "provider.get_devices()"
   ]
  },
  {
   "cell_type": "markdown",
   "id": "9d781221-9c07-42eb-bcad-63a666221356",
   "metadata": {},
   "source": [
    "## BraketProvider"
   ]
  },
  {
   "cell_type": "code",
   "execution_count": 6,
   "id": "c953afff",
   "metadata": {},
   "outputs": [],
   "source": [
    "%%capture\n",
    "\n",
    "%pip install 'qbraid[braket]'"
   ]
  },
  {
   "cell_type": "code",
   "execution_count": 7,
   "id": "b464cc6a-236b-4dae-b913-4dd263926a61",
   "metadata": {
    "tags": []
   },
   "outputs": [
    {
     "data": {
      "text/plain": [
       "[<qbraid.runtime.aws.device.BraketDevice('arn:aws:braket:us-west-1::device/qpu/rigetti/Ankaa-2')>,\n",
       " <qbraid.runtime.aws.device.BraketDevice('arn:aws:braket:us-east-1::device/qpu/quera/Aquila')>,\n",
       " <qbraid.runtime.aws.device.BraketDevice('arn:aws:braket:us-east-1::device/qpu/ionq/Aria-1')>,\n",
       " <qbraid.runtime.aws.device.BraketDevice('arn:aws:braket:us-east-1::device/qpu/ionq/Aria-2')>,\n",
       " <qbraid.runtime.aws.device.BraketDevice('arn:aws:braket:us-east-1::device/qpu/ionq/Forte-1')>,\n",
       " <qbraid.runtime.aws.device.BraketDevice('arn:aws:braket:eu-north-1::device/qpu/iqm/Garnet')>,\n",
       " <qbraid.runtime.aws.device.BraketDevice('arn:aws:braket:::device/quantum-simulator/amazon/sv1')>,\n",
       " <qbraid.runtime.aws.device.BraketDevice('arn:aws:braket:::device/quantum-simulator/amazon/tn1')>,\n",
       " <qbraid.runtime.aws.device.BraketDevice('arn:aws:braket:::device/quantum-simulator/amazon/dm1')>]"
      ]
     },
     "execution_count": 7,
     "metadata": {},
     "output_type": "execute_result"
    }
   ],
   "source": [
    "from qbraid.runtime import BraketProvider\n",
    "\n",
    "aws_access_key_id = os.getenv(\"AWS_ACCESS_KEY_ID\")\n",
    "aws_secret_access_key = os.getenv(\"AWS_SECRET_ACCESS_KEY\")\n",
    "\n",
    "provider = BraketProvider(\n",
    "    aws_access_key_id=aws_access_key_id, aws_secret_access_key=aws_secret_access_key\n",
    ")\n",
    "\n",
    "provider.get_devices()"
   ]
  },
  {
   "cell_type": "markdown",
   "id": "648d4dea-9a60-43e0-9e67-4d7144936061",
   "metadata": {},
   "source": [
    "## QiskitRuntimeProvider"
   ]
  },
  {
   "cell_type": "code",
   "execution_count": 8,
   "id": "759cafb5",
   "metadata": {},
   "outputs": [],
   "source": [
    "%%capture\n",
    "\n",
    "%pip install 'qbraid[ibm]' -q"
   ]
  },
  {
   "cell_type": "code",
   "execution_count": null,
   "id": "8c288074-ff7f-4048-920d-61ff1c0d611f",
   "metadata": {},
   "outputs": [
    {
     "data": {
      "text/plain": [
       "[<qbraid.runtime.ibm.device.QiskitBackend('ibm_brisbane')>,\n",
       " <qbraid.runtime.ibm.device.QiskitBackend('ibm_kyiv')>,\n",
       " <qbraid.runtime.ibm.device.QiskitBackend('ibm_sherbrooke')>]"
      ]
     },
     "execution_count": 9,
     "metadata": {},
     "output_type": "execute_result"
    }
   ],
   "source": [
    "from qbraid.runtime import QiskitRuntimeProvider\n",
    "\n",
    "token = os.getenv(\"QISKIT_IBM_TOKEN\")\n",
    "channel = os.getenv(\"QISKIT_IBM_CHANNEL\", \"ibm_quantum\")\n",
    "\n",
    "provider = QiskitRuntimeProvider(token=token, channel=channel)\n",
    "\n",
    "provider.get_devices()"
   ]
  },
  {
   "cell_type": "markdown",
   "id": "c37ca6a9-8976-4b35-96fc-1c63d8668466",
   "metadata": {},
   "source": [
    "## IonQProvider"
   ]
  },
  {
   "cell_type": "code",
   "execution_count": 10,
   "id": "7bdd57ac",
   "metadata": {},
   "outputs": [],
   "source": [
    "%%capture\n",
    "\n",
    "%pip install 'qbraid[ionq]'"
   ]
  },
  {
   "cell_type": "code",
   "execution_count": 11,
   "id": "1683b86c-41d1-440b-b8a0-5cf5bd81db2c",
   "metadata": {
    "tags": []
   },
   "outputs": [
    {
     "data": {
      "text/plain": [
       "[<qbraid.runtime.ionq.device.IonQDevice('qpu.harmony')>,\n",
       " <qbraid.runtime.ionq.device.IonQDevice('qpu.aria-1')>,\n",
       " <qbraid.runtime.ionq.device.IonQDevice('qpu.aria-2')>,\n",
       " <qbraid.runtime.ionq.device.IonQDevice('qpu.forte-1')>,\n",
       " <qbraid.runtime.ionq.device.IonQDevice('simulator')>]"
      ]
     },
     "execution_count": 11,
     "metadata": {},
     "output_type": "execute_result"
    }
   ],
   "source": [
    "from qbraid.runtime import IonQProvider\n",
    "\n",
    "api_key = os.getenv(\"IONQ_API_KEY\")\n",
    "\n",
    "provider = IonQProvider(api_key=api_key)\n",
    "\n",
    "provider.get_devices()"
   ]
  },
  {
   "cell_type": "markdown",
   "id": "54fd5ec8",
   "metadata": {},
   "source": [
    "## AzureQuantumProvider"
   ]
  },
  {
   "cell_type": "code",
   "execution_count": 12,
   "id": "9698fd2f",
   "metadata": {},
   "outputs": [],
   "source": [
    "%%capture\n",
    "\n",
    "%pip install 'qbraid[azure]'"
   ]
  },
  {
   "cell_type": "code",
   "execution_count": 13,
   "id": "dcaaf9df",
   "metadata": {},
   "outputs": [
    {
     "data": {
      "text/plain": [
       "[<qbraid.runtime.azure.device.AzureQuantumDevice('ionq.qpu.aria-1')>,\n",
       " <qbraid.runtime.azure.device.AzureQuantumDevice('ionq.qpu.aria-2')>,\n",
       " <qbraid.runtime.azure.device.AzureQuantumDevice('ionq.simulator')>,\n",
       " <qbraid.runtime.azure.device.AzureQuantumDevice('microsoft.estimator')>,\n",
       " <qbraid.runtime.azure.device.AzureQuantumDevice('quantinuum.qpu.h1-1')>,\n",
       " <qbraid.runtime.azure.device.AzureQuantumDevice('quantinuum.sim.h1-1sc')>,\n",
       " <qbraid.runtime.azure.device.AzureQuantumDevice('quantinuum.sim.h1-1e')>,\n",
       " <qbraid.runtime.azure.device.AzureQuantumDevice('rigetti.sim.qvm')>,\n",
       " <qbraid.runtime.azure.device.AzureQuantumDevice('rigetti.qpu.ankaa-9q-3')>]"
      ]
     },
     "execution_count": 13,
     "metadata": {},
     "output_type": "execute_result"
    }
   ],
   "source": [
    "from qbraid.runtime import AzureQuantumProvider\n",
    "from azure.quantum._constants import ConnectionConstants, EnvironmentVariables\n",
    "from azure.identity import ClientSecretCredential\n",
    "from azure.quantum import Workspace\n",
    "\n",
    "tenant_id = os.getenv(EnvironmentVariables.AZURE_TENANT_ID)\n",
    "client_id = os.getenv(EnvironmentVariables.AZURE_CLIENT_ID)\n",
    "client_secret = os.getenv(EnvironmentVariables.AZURE_CLIENT_SECRET)\n",
    "credential = ClientSecretCredential(\n",
    "    tenant_id=tenant_id, client_id=client_id, client_secret=client_secret\n",
    ")\n",
    "\n",
    "subscription_id = os.getenv(EnvironmentVariables.QUANTUM_SUBSCRIPTION_ID)\n",
    "resource_group = os.getenv(EnvironmentVariables.QUANTUM_RESOURCE_GROUP, \"AzureQuantum\")\n",
    "workspace_name = os.getenv(EnvironmentVariables.WORKSPACE_NAME)\n",
    "resource_id = ConnectionConstants.VALID_RESOURCE_ID(\n",
    "    subscription_id=subscription_id,\n",
    "    resource_group=resource_group,\n",
    "    workspace_name=workspace_name,\n",
    ")\n",
    "\n",
    "location = os.getenv(EnvironmentVariables.QUANTUM_LOCATION, \"eastus\")\n",
    "workspace = Workspace(resource_id=resource_id, location=location, credential=credential)\n",
    "\n",
    "provider = AzureQuantumProvider(workspace)\n",
    "\n",
    "provider.get_devices()"
   ]
  },
  {
   "cell_type": "markdown",
   "id": "49296f95",
   "metadata": {},
   "source": [
    "## OQCProvider"
   ]
  },
  {
   "cell_type": "code",
   "execution_count": 14,
   "id": "2f92a10f",
   "metadata": {},
   "outputs": [],
   "source": [
    "%%capture\n",
    "\n",
    "%pip install 'qbraid[oqc]'"
   ]
  },
  {
   "cell_type": "code",
   "execution_count": 15,
   "id": "68cf23e1",
   "metadata": {},
   "outputs": [
    {
     "data": {
      "text/plain": [
       "[<qbraid.runtime.oqc.device.OQCDevice('qpu:uk:2:d865b5a184')>,\n",
       " <qbraid.runtime.oqc.device.OQCDevice('qpu:jp:3:673b1ad43c')>]"
      ]
     },
     "execution_count": 15,
     "metadata": {},
     "output_type": "execute_result"
    }
   ],
   "source": [
    "from qbraid.runtime import OQCProvider\n",
    "\n",
    "token = os.getenv(\"OQC_AUTH_TOKEN\")\n",
    "\n",
    "provider = OQCProvider(token=token)\n",
    "\n",
    "provider.get_devices()"
   ]
  },
  {
   "cell_type": "code",
   "execution_count": null,
   "id": "f632294e",
   "metadata": {},
   "outputs": [],
   "source": []
  }
 ],
 "metadata": {
  "kernelspec": {
   "display_name": "sdk311",
   "language": "python",
   "name": "python3"
  },
  "language_info": {
   "codemirror_mode": {
    "name": "ipython",
    "version": 3
   },
   "file_extension": ".py",
   "mimetype": "text/x-python",
   "name": "python",
   "nbconvert_exporter": "python",
   "pygments_lexer": "ipython3",
   "version": "3.11.9"
  }
 },
 "nbformat": 4,
 "nbformat_minor": 5
}

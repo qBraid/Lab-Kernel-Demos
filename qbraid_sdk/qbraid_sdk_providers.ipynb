{
 "cells": [
  {
   "cell_type": "markdown",
   "id": "c7b38b09-44f5-46b5-9809-23de47ada6c5",
   "metadata": {},
   "source": [
    "# QbraidProvider"
   ]
  },
  {
   "cell_type": "code",
   "execution_count": 21,
   "id": "23a8fa7a-872b-43eb-92a5-8b960b6215c3",
   "metadata": {},
   "outputs": [],
   "source": [
    "import qbraid\n",
    "\n",
    "from qbraid.runtime.native import QbraidProvider"
   ]
  },
  {
   "cell_type": "code",
   "execution_count": 4,
   "id": "025cdd59-667f-476a-bea0-3499ab7c3610",
   "metadata": {},
   "outputs": [
    {
     "data": {
      "text/plain": [
       "'0.7.0.dev20240516020308'"
      ]
     },
     "execution_count": 4,
     "metadata": {},
     "output_type": "execute_result"
    }
   ],
   "source": [
    "qbraid.__version__"
   ]
  },
  {
   "cell_type": "code",
   "execution_count": 22,
   "id": "b5e61fc3-5979-4eb9-8076-44a50cbcc8af",
   "metadata": {},
   "outputs": [
    {
     "data": {
      "text/plain": [
       "[<qbraid.runtime.native.device.QbraidDevice('qbraid_qir_simulator')>]"
      ]
     },
     "execution_count": 22,
     "metadata": {},
     "output_type": "execute_result"
    }
   ],
   "source": [
    "provider = QbraidProvider()\n",
    "\n",
    "provider.get_devices()"
   ]
  },
  {
   "cell_type": "code",
   "execution_count": null,
   "id": "6b2d696e-101f-4841-a174-ad23be105349",
   "metadata": {},
   "outputs": [],
   "source": [
    "aws_device = provider.get_device(\"arn:aws:braket:eu-west-2::device/qpu/oqc/Lucy\")\n",
    "\n",
    "type(aws_device)"
   ]
  },
  {
   "cell_type": "code",
   "execution_count": null,
   "id": "223a2a27-d56b-4299-9983-d974b48f70b1",
   "metadata": {},
   "outputs": [],
   "source": [
    "ibm_device = provider.get_device(\"ibm_brisbane\")\n",
    "\n",
    "type(ibm_device)"
   ]
  },
  {
   "cell_type": "markdown",
   "id": "9d781221-9c07-42eb-bcad-63a666221356",
   "metadata": {},
   "source": [
    "## BraketProvider"
   ]
  },
  {
   "cell_type": "code",
   "execution_count": null,
   "id": "b464cc6a-236b-4dae-b913-4dd263926a61",
   "metadata": {},
   "outputs": [],
   "source": [
    "from qbraid.providers.aws import BraketProvider, BraketDevice, get_quantum_task_cost\n",
    "\n",
    "braket_provider = BraketProvider()"
   ]
  },
  {
   "cell_type": "markdown",
   "id": "4f2f6b75-eb98-4d06-af70-bece8104dfa4",
   "metadata": {},
   "source": [
    "### Query AWS devices"
   ]
  },
  {
   "cell_type": "code",
   "execution_count": null,
   "id": "ca0e47ed-f256-4aae-baea-fb56860821de",
   "metadata": {},
   "outputs": [],
   "source": [
    "braket_provider.get_devices(statuses=\"ONLINE\", types=[\"QPU\"])"
   ]
  },
  {
   "cell_type": "code",
   "execution_count": null,
   "id": "48dbb5c6-79c5-4a53-ae00-aaba6546fd7d",
   "metadata": {},
   "outputs": [],
   "source": [
    "braket_device = BraketDevice(aws_device)\n",
    "\n",
    "braket_device.vendor, braket_device.provider, braket_device.name"
   ]
  },
  {
   "cell_type": "code",
   "execution_count": null,
   "id": "87f2a8bc-c39a-447c-b81f-6d07a519e5cd",
   "metadata": {},
   "outputs": [],
   "source": [
    "braket_device.queue_depth()"
   ]
  },
  {
   "cell_type": "code",
   "execution_count": null,
   "id": "b6742d3e-ed2b-4e46-9133-2b0a89d68595",
   "metadata": {},
   "outputs": [],
   "source": [
    "_, _, next_availability_switch_utc = braket_device.availability_window()\n",
    "\n",
    "print(next_availability_switch_utc)"
   ]
  },
  {
   "cell_type": "markdown",
   "id": "fe137aab-50f5-42f1-9482-4f4e075b4e14",
   "metadata": {},
   "source": [
    "### Query AWS quantum tasks"
   ]
  },
  {
   "cell_type": "code",
   "execution_count": null,
   "id": "f596e845-6b15-4ac5-8be1-87d32721a289",
   "metadata": {},
   "outputs": [],
   "source": [
    "tagged_tasks = braket_provider.get_tasks_by_tag(\"test\")\n",
    "\n",
    "len(tagged_tasks)"
   ]
  },
  {
   "cell_type": "code",
   "execution_count": null,
   "id": "6df4b123-1307-46f4-a1ff-ab0edcfc1f05",
   "metadata": {},
   "outputs": [],
   "source": [
    "task_arn = tagged_tasks[0]\n",
    "\n",
    "get_quantum_task_cost(task_arn)"
   ]
  },
  {
   "cell_type": "code",
   "execution_count": null,
   "id": "cf5240f8-cd00-44c6-ba2a-ed09e511f39f",
   "metadata": {},
   "outputs": [],
   "source": [
    "qbraid.get_jobs(filters={\"tags\": {\"test\": \"123\"}})"
   ]
  },
  {
   "cell_type": "code",
   "execution_count": null,
   "id": "b5205ac8-97c7-436a-aebf-9b5e22ba6d24",
   "metadata": {},
   "outputs": [],
   "source": [
    "qbraid.get_jobs(filters={\"vendorJobId\": task_arn})"
   ]
  },
  {
   "cell_type": "code",
   "execution_count": null,
   "id": "a4f7f820-3167-43fe-b4a2-38e782111033",
   "metadata": {},
   "outputs": [],
   "source": [
    "qbraid_job = qbraid.job_wrapper(\"aws_dm_sim-markovshama-qjob-e5vxqgdjsx23tuzn1ryw\")\n",
    "\n",
    "type(qbraid_job)"
   ]
  },
  {
   "cell_type": "code",
   "execution_count": null,
   "id": "60cc8dc9-df83-4226-b488-f1d14d0ee4f4",
   "metadata": {},
   "outputs": [],
   "source": [
    "qbraid_job.status()"
   ]
  },
  {
   "cell_type": "code",
   "execution_count": null,
   "id": "b53515be-54bc-46b2-a6fc-e592a417f03c",
   "metadata": {},
   "outputs": [],
   "source": [
    "qbraid_job.get_cost()"
   ]
  },
  {
   "cell_type": "markdown",
   "id": "648d4dea-9a60-43e0-9e67-4d7144936061",
   "metadata": {},
   "source": [
    "## QiskitProvider"
   ]
  },
  {
   "cell_type": "code",
   "execution_count": null,
   "id": "8c288074-ff7f-4048-920d-61ff1c0d611f",
   "metadata": {},
   "outputs": [],
   "source": [
    "from qbraid.providers.ibm import QiskitProvider, QiskitBackend\n",
    "\n",
    "provider = QiskitProvider()"
   ]
  },
  {
   "cell_type": "code",
   "execution_count": null,
   "id": "45f284e9-6193-4fbc-b4e7-98259773fd40",
   "metadata": {},
   "outputs": [],
   "source": [
    "provider.get_devices(operational=True, simulator=False)"
   ]
  },
  {
   "cell_type": "code",
   "execution_count": null,
   "id": "d6e8c6c5-85c8-492d-86ca-2a7ad91074c4",
   "metadata": {},
   "outputs": [],
   "source": [
    "provider.ibm_least_busy_qpu()"
   ]
  },
  {
   "cell_type": "markdown",
   "id": "976ff6a1-32da-49ea-af3b-63b3160badb4",
   "metadata": {},
   "source": [
    "### Query IBM backends"
   ]
  },
  {
   "cell_type": "code",
   "execution_count": null,
   "id": "39581b36-403f-43f8-a9ab-f9f2804acee4",
   "metadata": {},
   "outputs": [],
   "source": [
    "qiskit_backend = QiskitBackend(ibm_device)\n",
    "\n",
    "qiskit_backend.provider, qiskit_backend.name"
   ]
  },
  {
   "cell_type": "code",
   "execution_count": null,
   "id": "db53d0d7-365b-4ba6-91b4-b520d361363d",
   "metadata": {},
   "outputs": [],
   "source": [
    "qiskit_backend.status()"
   ]
  },
  {
   "cell_type": "code",
   "execution_count": null,
   "id": "c8189836-57b3-4304-8516-aa92a680e8cd",
   "metadata": {},
   "outputs": [],
   "source": [
    "qiskit_backend.queue_depth()"
   ]
  },
  {
   "cell_type": "markdown",
   "id": "41bb203d-fb7e-4f74-98f4-a443abe94772",
   "metadata": {},
   "source": [
    "### Query IBM jobs"
   ]
  },
  {
   "cell_type": "code",
   "execution_count": null,
   "id": "bcaf275a-2ded-45ed-8998-9a7238dfe72a",
   "metadata": {},
   "outputs": [],
   "source": [
    "qbraid.get_jobs(\n",
    "    filters={\n",
    "        \"tags\": {\"test\": \"*\"},\n",
    "        \"qbraidDeviceId\": QiskitProvider.ibm_to_qbraid_id(\"ibmq_qasm_simulator\"),\n",
    "    }\n",
    ")"
   ]
  },
  {
   "cell_type": "code",
   "execution_count": null,
   "id": "8e4d47a7-2ce8-47bf-b5f8-ad93df9614ac",
   "metadata": {},
   "outputs": [],
   "source": [
    "qbraid_job = qbraid.job_wrapper(\n",
    "    \"ibm_q_qasm_simulator-markovshama-qjob-zy12imhp7n43what3zeh\"\n",
    ")\n",
    "\n",
    "type(qbraid_job)"
   ]
  },
  {
   "cell_type": "code",
   "execution_count": null,
   "id": "5968f678-4688-420f-b103-05adbedb0106",
   "metadata": {},
   "outputs": [],
   "source": [
    "qbraid_job.status()"
   ]
  }
 ],
 "metadata": {
  "kernelspec": {
   "display_name": "Python 3 (ipykernel)",
   "language": "python",
   "name": "python3"
  },
  "language_info": {
   "codemirror_mode": {
    "name": "ipython",
    "version": 3
   },
   "file_extension": ".py",
   "mimetype": "text/x-python",
   "name": "python",
   "nbconvert_exporter": "python",
   "pygments_lexer": "ipython3",
   "version": "3.11.9"
  }
 },
 "nbformat": 4,
 "nbformat_minor": 5
}

{
 "cells": [
  {
   "cell_type": "markdown",
   "id": "98528633",
   "metadata": {},
   "source": [
    "# qBraid-SDK: Transpiler"
   ]
  },
  {
   "cell_type": "code",
   "execution_count": 7,
   "id": "331a496f",
   "metadata": {},
   "outputs": [],
   "source": [
    "import numpy as np\n",
    "\n",
    "from qbraid.programs import load_program, QPROGRAM_REGISTRY\n",
    "from qbraid.interface import (\n",
    "    circuits_allclose,\n",
    "    assert_allclose_up_to_global_phase,\n",
    "    random_circuit,\n",
    ")\n",
    "from qbraid.transpiler import transpile"
   ]
  },
  {
   "cell_type": "markdown",
   "id": "f8360d49",
   "metadata": {},
   "source": [
    "The qBraid transpiler supports all-to-all connectivity between the following quantum program types:"
   ]
  },
  {
   "cell_type": "code",
   "execution_count": 2,
   "id": "0c41ae38",
   "metadata": {},
   "outputs": [
    {
     "data": {
      "text/plain": [
       "{'cirq': cirq.circuits.circuit.Circuit,\n",
       " 'qiskit': qiskit.circuit.quantumcircuit.QuantumCircuit,\n",
       " 'pennylane': pennylane.tape.tape.QuantumTape,\n",
       " 'pyquil': pyquil.quil.Program,\n",
       " 'pytket': pytket._tket.circuit.Circuit,\n",
       " 'braket': braket.circuits.circuit.Circuit,\n",
       " 'openqasm3': openqasm3.ast.Program,\n",
       " 'qasm2': str,\n",
       " 'qasm3': str}"
      ]
     },
     "execution_count": 2,
     "metadata": {},
     "output_type": "execute_result"
    }
   ],
   "source": [
    "QPROGRAM_REGISTRY"
   ]
  },
  {
   "cell_type": "markdown",
   "id": "ac83d0b6",
   "metadata": {},
   "source": [
    "## Basic usage example: Qiskit $\\leftrightarrow$ Amazon Braket $\\leftrightarrow$ Cirq"
   ]
  },
  {
   "cell_type": "code",
   "execution_count": 3,
   "id": "da3079f7",
   "metadata": {},
   "outputs": [],
   "source": [
    "from qiskit import QuantumCircuit\n",
    "\n",
    "\n",
    "def test_circuit():\n",
    "    circuit = QuantumCircuit(4)\n",
    "\n",
    "    circuit.h([0, 1, 2, 3])\n",
    "    circuit.x([0, 1])\n",
    "    circuit.y(2)\n",
    "    circuit.z(3)\n",
    "    circuit.s(0)\n",
    "    circuit.sdg(1)\n",
    "    circuit.t(2)\n",
    "    circuit.tdg(3)\n",
    "    circuit.rx(np.pi / 4, 0)\n",
    "    circuit.ry(np.pi / 2, 1)\n",
    "    circuit.rz(3 * np.pi / 4, 2)\n",
    "    circuit.p(np.pi / 8, 3)\n",
    "    circuit.sx(0)\n",
    "    circuit.sxdg(1)\n",
    "    circuit.iswap(2, 3)\n",
    "    circuit.swap([0, 1], [2, 3])\n",
    "    circuit.cx(0, 1)\n",
    "    circuit.cp(np.pi / 4, 2, 3)\n",
    "\n",
    "    return circuit"
   ]
  },
  {
   "cell_type": "markdown",
   "id": "a55cf255",
   "metadata": {},
   "source": [
    "We'll start with a 4-qubit qiskit circuit that uses 15 unique gates"
   ]
  },
  {
   "cell_type": "code",
   "execution_count": 4,
   "id": "8710a671",
   "metadata": {},
   "outputs": [
    {
     "data": {
      "text/html": [
       "<pre style=\"word-wrap: normal;white-space: pre;background: #fff0;line-height: 1.1;font-family: &quot;Courier New&quot;,Courier,monospace\">     ┌───┐┌───┐ ┌───┐ ┌─────────┐   ┌────┐                 \n",
       "q_0: ┤ H ├┤ X ├─┤ S ├─┤ Rx(π/4) ├───┤ √X ├───X────────■────\n",
       "     ├───┤├───┤┌┴───┴┐├─────────┤  ┌┴────┴┐  │      ┌─┴─┐  \n",
       "q_1: ┤ H ├┤ X ├┤ Sdg ├┤ Ry(π/2) ├──┤ √Xdg ├──┼──X───┤ X ├──\n",
       "     ├───┤├───┤└┬───┬┘├─────────┴┐┌┴──────┴┐ │  │   └───┘  \n",
       "q_2: ┤ H ├┤ Y ├─┤ T ├─┤ Rz(3π/4) ├┤0       ├─X──┼──■───────\n",
       "     ├───┤├───┤┌┴───┴┐└┬────────┬┘│  Iswap │    │  │P(π/4) \n",
       "q_3: ┤ H ├┤ Z ├┤ Tdg ├─┤ P(π/8) ├─┤1       ├────X──■───────\n",
       "     └───┘└───┘└─────┘ └────────┘ └────────┘               </pre>"
      ],
      "text/plain": [
       "     ┌───┐┌───┐ ┌───┐ ┌─────────┐   ┌────┐                 \n",
       "q_0: ┤ H ├┤ X ├─┤ S ├─┤ Rx(π/4) ├───┤ √X ├───X────────■────\n",
       "     ├───┤├───┤┌┴───┴┐├─────────┤  ┌┴────┴┐  │      ┌─┴─┐  \n",
       "q_1: ┤ H ├┤ X ├┤ Sdg ├┤ Ry(π/2) ├──┤ √Xdg ├──┼──X───┤ X ├──\n",
       "     ├───┤├───┤└┬───┬┘├─────────┴┐┌┴──────┴┐ │  │   └───┘  \n",
       "q_2: ┤ H ├┤ Y ├─┤ T ├─┤ Rz(3π/4) ├┤0       ├─X──┼──■───────\n",
       "     ├───┤├───┤┌┴───┴┐└┬────────┬┘│  Iswap │    │  │P(π/4) \n",
       "q_3: ┤ H ├┤ Z ├┤ Tdg ├─┤ P(π/8) ├─┤1       ├────X──■───────\n",
       "     └───┘└───┘└─────┘ └────────┘ └────────┘               "
      ]
     },
     "execution_count": 4,
     "metadata": {},
     "output_type": "execute_result"
    }
   ],
   "source": [
    "qiskit_circuit = test_circuit()\n",
    "qiskit_circuit.draw()"
   ]
  },
  {
   "cell_type": "code",
   "execution_count": 8,
   "id": "7f1ef479",
   "metadata": {},
   "outputs": [
    {
     "name": "stderr",
     "output_type": "stream",
     "text": [
      "WARNING - This program uses OpenQASM language features that may not be supported on QPUs or on-demand simulators.\n"
     ]
    },
    {
     "name": "stdout",
     "output_type": "stream",
     "text": [
      "T  : │  0  │  1  │  2   │       3       │  4  │  5  │  6  │  7  │   8    │   9    │      10       │\n",
      "      ┌───┐ ┌───┐ ┌───┐   ┌──────────┐   ┌───┐                                                     \n",
      "q0 : ─┤ H ├─┤ X ├─┤ S ├───┤ Rx(0.79) ├───┤ V ├──────────────────────x─────────────────────●────────\n",
      "      └───┘ └───┘ └───┘   └──────────┘   └───┘                      │                     │        \n",
      "      ┌───┐ ┌───┐ ┌────┐  ┌──────────┐   ┌───┐ ┌───┐ ┌───┐          │                   ┌─┴─┐      \n",
      "q1 : ─┤ H ├─┤ X ├─┤ Si ├──┤ Ry(1.57) ├───┤ S ├─┤ H ├─┤ S ├──────────┼────────x──────────┤ X ├──────\n",
      "      └───┘ └───┘ └────┘  └──────────┘   └───┘ └───┘ └───┘          │        │          └───┘      \n",
      "      ┌───┐ ┌───┐ ┌───┐   ┌──────────┐   ┌───┐ ┌───┐       ┌───┐    │        │                     \n",
      "q2 : ─┤ H ├─┤ Y ├─┤ T ├───┤ Rz(2.36) ├───┤ S ├─┤ H ├───●───┤ X ├────x────────┼────────────●────────\n",
      "      └───┘ └───┘ └───┘   └──────────┘   └───┘ └───┘   │   └─┬─┘             │            │        \n",
      "      ┌───┐ ┌───┐ ┌────┐ ┌─────────────┐ ┌───┐       ┌─┴─┐   │    ┌───┐      │     ┌──────┴──────┐ \n",
      "q3 : ─┤ H ├─┤ Z ├─┤ Ti ├─┤ PHASE(0.39) ├─┤ S ├───────┤ X ├───●────┤ H ├──────x─────┤ PHASE(0.79) ├─\n",
      "      └───┘ └───┘ └────┘ └─────────────┘ └───┘       └───┘        └───┘            └─────────────┘ \n",
      "T  : │  0  │  1  │  2   │       3       │  4  │  5  │  6  │  7  │   8    │   9    │      10       │\n"
     ]
    }
   ],
   "source": [
    "braket_circuit = transpile(qiskit_circuit, \"braket\")\n",
    "print(braket_circuit)"
   ]
  },
  {
   "cell_type": "code",
   "execution_count": 9,
   "id": "2a6eb7e7",
   "metadata": {},
   "outputs": [
    {
     "name": "stdout",
     "output_type": "stream",
     "text": [
      "q_0: ───H───X───S──────Rx(0.25π)───X^0.5────────────────×───────@────────\n",
      "                                                        │       │\n",
      "q_1: ───H───X───S^-1───Ry(0.5π)────X^-0.5───────────────┼───×───X────────\n",
      "                                                        │   │\n",
      "q_2: ───H───Y───T──────Rz(0.75π)───S────────H───@───X───×───┼───@────────\n",
      "                                                │   │       │   │\n",
      "q_3: ───H───Z───T^-1───Z^(1/8)─────S────────────X───@───H───×───@^0.25───\n"
     ]
    }
   ],
   "source": [
    "cirq_circuit = transpile(qiskit_circuit, \"cirq\")\n",
    "print(cirq_circuit)"
   ]
  },
  {
   "cell_type": "markdown",
   "id": "0963d29d",
   "metadata": {},
   "source": [
    "Qubit indexing varies between packages, so some circuit diagrams appear flipped, but the matrix representations are equivalent.\n",
    "\n",
    "To verify, we'll use the sdk's `circuits_allclose` function, which applies the agnostic `qbraid.interface.to_unitary` function to each of two input circuits, checks the matricies against `np.allclose`, and returns the result."
   ]
  },
  {
   "cell_type": "code",
   "execution_count": 10,
   "id": "665c6c0b",
   "metadata": {},
   "outputs": [
    {
     "data": {
      "text/plain": [
       "True"
      ]
     },
     "execution_count": 10,
     "metadata": {},
     "output_type": "execute_result"
    }
   ],
   "source": [
    "circuits_allclose(qiskit_circuit, braket_circuit) and circuits_allclose(\n",
    "    braket_circuit, cirq_circuit\n",
    ")"
   ]
  },
  {
   "cell_type": "markdown",
   "id": "5359d22b",
   "metadata": {},
   "source": [
    "## Stress-testing against randomly generated circuits"
   ]
  },
  {
   "cell_type": "markdown",
   "id": "31a3cbc8",
   "metadata": {},
   "source": [
    "For a second example, we'll generate some even larger circuits, and do so randomly, to test the limits of the transpiler.\n",
    "\n",
    "The qBraid-SDK has its own `random_circuit` function that takes in any supported package as an argument, but to show that there's no pre-processing or filtering going on behind the scenes, we'll use functions from cirq's testing module to generate circuits and to check equivalance after transpiling."
   ]
  },
  {
   "cell_type": "code",
   "execution_count": 11,
   "id": "afe95c34",
   "metadata": {},
   "outputs": [
    {
     "name": "stdout",
     "output_type": "stream",
     "text": [
      "num_qubits: 10\n",
      "depth: 8\n",
      "op_density: 0.97\n",
      "matrix dimension: (1024, 1024)\n",
      "\n",
      "      ┌───────────┐   ┌──────┐   ┌───────┐   ┌───┐   ┌───────┐   ┌───────┐           ┌──────┐\n",
      "0: ────S───────────────iSwap──────X────────────@──────Z───────────iSwap──────Z────────Y─────────\n",
      "                       │          │            │                  │\n",
      "1: ──────────iSwap─────┼────×─────@───────────Y┼────────────×─────┼────@─────iSwap─────────@────\n",
      "             │         │    │                  │            │     │    │     │             │\n",
      "2: ─────────@┼─────────iSwap┼─────T───────────X┼──────@─────┼─────iSwap┼─────┼────────Y────┼────\n",
      "            ││              │                 ││      │     │          │     │             │\n",
      "3: ────@────┼┼─────────Y────┼─────────────────┼┼S─────@─────┼──────────@─────iSwap────iSwap┼────\n",
      "       │    ││              │                 ││            │                         │    │\n",
      "4: ────X────┼┼─────────Y────┼──────iSwap──────┼┼───────iSwap┼───────────@────Y────────iSwap┼────\n",
      "            ││              │      │          ││       │    │           │                  │\n",
      "5: ────iSwap┼┼─────────@────┼─────H┼──────────┼┼Y──────┼────×─────iSwap─┼────Y────────H────┼────\n",
      "       │    ││         │    │      │          ││       │          │     │                  │\n",
      "6: ────┼────X┼─────────X────┼─────×┼──────────@┼───────┼──────────┼─────┼────Z────────×────┼────\n",
      "       │     │              │     ││           │       │          │     │             │    │\n",
      "7: ────┼─────iSwap──────────×─────┼┼────S──────@──────@┼──────────┼────X┼────T────────┼────┼────\n",
      "       │                          ││                  ││          │     │             │    │\n",
      "8: ────iSwap───────────H──────────┼iSwap──────S───────@┼──────────┼─────X────X────────┼────X────\n",
      "                                  │                    │          │                   │\n",
      "9: ────Z───────────────S──────────×───────────Y────────iSwap──────iSwap──────H────────×─────────\n",
      "      └───────────┘   └──────┘   └───────┘   └───┘   └───────┘   └───────┘           └──────┘\n"
     ]
    }
   ],
   "source": [
    "import cirq\n",
    "\n",
    "kwargs = {\n",
    "    \"num_qubits\": np.random.randint(8, 11),\n",
    "    \"depth\": np.random.randint(8, 11),\n",
    "    \"op_density\": np.random.randint(80, 100) / 100,\n",
    "    \"random_state\": np.random.randint(1, 11),\n",
    "}\n",
    "\n",
    "circuit_start = random_circuit(\"cirq\", **kwargs)\n",
    "start_u = circuit_start.unitary()\n",
    "print(\"num_qubits:\", len(circuit_start.all_qubits()))\n",
    "print(\"depth:\", len(circuit_start))\n",
    "print(\"op_density:\", kwargs[\"op_density\"])\n",
    "print(f\"matrix dimension: {start_u.shape}\\n\")\n",
    "print(circuit_start)"
   ]
  },
  {
   "cell_type": "markdown",
   "id": "5818071d",
   "metadata": {},
   "source": [
    "Starting with this randomly generated circuit, we'll repeatedly apply the qbraid circuit wrapper and transpile from one supported package to the next until we arrive all the way back at a cirq circuit."
   ]
  },
  {
   "cell_type": "code",
   "execution_count": 12,
   "id": "bbe4be5f",
   "metadata": {},
   "outputs": [
    {
     "name": "stdout",
     "output_type": "stream",
     "text": [
      "<class 'braket.circuits.circuit.Circuit'>\n"
     ]
    }
   ],
   "source": [
    "braket_circuit = transpile(circuit_start, \"braket\")\n",
    "print(type(braket_circuit))"
   ]
  },
  {
   "cell_type": "code",
   "execution_count": 13,
   "id": "d2813ee0",
   "metadata": {},
   "outputs": [
    {
     "name": "stdout",
     "output_type": "stream",
     "text": [
      "<class 'pyquil.quil.Program'>\n"
     ]
    }
   ],
   "source": [
    "pyquil_circuit = transpile(braket_circuit, \"pyquil\")\n",
    "print(type(pyquil_circuit))"
   ]
  },
  {
   "cell_type": "code",
   "execution_count": 14,
   "id": "fbb476fb",
   "metadata": {},
   "outputs": [
    {
     "name": "stdout",
     "output_type": "stream",
     "text": [
      "<class 'qiskit.circuit.quantumcircuit.QuantumCircuit'>\n"
     ]
    }
   ],
   "source": [
    "qiskit_circuit = transpile(pyquil_circuit, \"qiskit\")\n",
    "print(type(qiskit_circuit))"
   ]
  },
  {
   "cell_type": "code",
   "execution_count": 15,
   "id": "fc405e6e",
   "metadata": {},
   "outputs": [
    {
     "name": "stdout",
     "output_type": "stream",
     "text": [
      "<class 'pytket._tket.circuit.Circuit'>\n"
     ]
    }
   ],
   "source": [
    "pytket_circuit = transpile(qiskit_circuit, \"pytket\")\n",
    "print(type(pytket_circuit))"
   ]
  },
  {
   "cell_type": "code",
   "execution_count": 16,
   "id": "072f6aeb",
   "metadata": {},
   "outputs": [
    {
     "name": "stdout",
     "output_type": "stream",
     "text": [
      "<class 'cirq.circuits.circuit.Circuit'>\n"
     ]
    }
   ],
   "source": [
    "circuit_finish = transpile(pytket_circuit, \"cirq\")\n",
    "print(type(circuit_finish))"
   ]
  },
  {
   "cell_type": "markdown",
   "id": "b621daed",
   "metadata": {},
   "source": [
    "Computing the final unitary and checking its shape"
   ]
  },
  {
   "cell_type": "code",
   "execution_count": 17,
   "id": "5f6f3633",
   "metadata": {},
   "outputs": [
    {
     "name": "stdout",
     "output_type": "stream",
     "text": [
      "(1024, 1024)\n"
     ]
    }
   ],
   "source": [
    "finish_u = circuit_finish.unitary()\n",
    "print(finish_u.shape)"
   ]
  },
  {
   "cell_type": "code",
   "execution_count": 18,
   "id": "9f461918",
   "metadata": {},
   "outputs": [
    {
     "name": "stdout",
     "output_type": "stream",
     "text": [
      "Test passed!\n"
     ]
    }
   ],
   "source": [
    "try:\n",
    "    assert_allclose_up_to_global_phase(start_u, finish_u, atol=1e-7)\n",
    "    print(\"Test passed!\")\n",
    "except AssertionError:\n",
    "    print(\"Test failed\")"
   ]
  }
 ],
 "metadata": {
  "kernelspec": {
   "display_name": "Python 3 (ipykernel)",
   "language": "python",
   "name": "python3"
  },
  "language_info": {
   "codemirror_mode": {
    "name": "ipython",
    "version": 3
   },
   "file_extension": ".py",
   "mimetype": "text/x-python",
   "name": "python",
   "nbconvert_exporter": "python",
   "pygments_lexer": "ipython3",
   "version": "3.11.9"
  }
 },
 "nbformat": 4,
 "nbformat_minor": 5
}

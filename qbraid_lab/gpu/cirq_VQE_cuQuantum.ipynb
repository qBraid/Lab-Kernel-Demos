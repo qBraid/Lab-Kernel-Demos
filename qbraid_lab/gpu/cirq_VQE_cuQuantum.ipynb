{
 "cells": [
  {
   "cell_type": "markdown",
   "id": "e29f3e57-1d73-400d-bd4a-a98a6754458a",
   "metadata": {},
   "source": [
    "# qBraid Lab GPU-accelerated VQE Demo\n",
    "\n",
    "## 2D Ising Model: $H=\\sum\\limits_{(i,j)} J_{ij} Z_i Z_j + \\sum\\limits_{i} h_i Z_i$\n",
    "\n",
    "##### Based on https://quantumai.google/cirq/experiments/variational_algorithm"
   ]
  },
  {
   "cell_type": "markdown",
   "id": "bd558dce",
   "metadata": {},
   "source": [
    "##### First, make sure you have installed the Cirq environment and are using the Cirq python kernel."
   ]
  },
  {
   "cell_type": "code",
   "execution_count": 1,
   "id": "a2bb3a37-4173-4ae0-988c-851449808818",
   "metadata": {},
   "outputs": [],
   "source": [
    "import cirq, qsimcirq, time, random\n",
    "import numpy as np"
   ]
  },
  {
   "cell_type": "markdown",
   "id": "419028e4",
   "metadata": {},
   "source": [
    "##### Randomly initialize the necessary Hamiltonian coefficients"
   ]
  },
  {
   "cell_type": "code",
   "execution_count": 2,
   "id": "8f161f1b-ba48-43bd-b675-d7aa8d1fdd9e",
   "metadata": {},
   "outputs": [],
   "source": [
    "def rand2d(rows, cols):\n",
    "    return [[random.choice([+1, -1]) for _ in range(cols)] for _ in range(rows)]\n",
    "\n",
    "\n",
    "def random_instance(length):\n",
    "    # transverse field terms\n",
    "    h = rand2d(length, length)\n",
    "    # links within a row\n",
    "    jr = rand2d(length - 1, length)\n",
    "    # links within a column\n",
    "    jc = rand2d(length, length - 1)\n",
    "    return (h, jr, jc)\n",
    "\n",
    "\n",
    "h, jr, jc = random_instance(3)"
   ]
  },
  {
   "cell_type": "code",
   "execution_count": 3,
   "id": "6af0dc5f-7320-47cf-a796-98e7e81e039b",
   "metadata": {},
   "outputs": [
    {
     "name": "stdout",
     "output_type": "stream",
     "text": [
      "[[1, -1, -1], [1, -1, -1], [1, -1, 1]]\n",
      "[[1, -1, -1], [1, 1, -1]]\n",
      "[[-1, 1], [1, -1], [-1, 1]]\n"
     ]
    }
   ],
   "source": [
    "print(h)\n",
    "print(jr)\n",
    "print(jc)"
   ]
  },
  {
   "cell_type": "markdown",
   "id": "37a9e5a9",
   "metadata": {},
   "source": [
    "##### Generate the ansatz"
   ]
  },
  {
   "cell_type": "code",
   "execution_count": 4,
   "id": "6a990854-8d63-4cdd-a2a1-875c4d83e40d",
   "metadata": {},
   "outputs": [],
   "source": [
    "def prepare_plus_layer(length):\n",
    "    for i in range(length):\n",
    "        for j in range(length):\n",
    "            yield cirq.H(cirq.GridQubit(i, j))"
   ]
  },
  {
   "cell_type": "code",
   "execution_count": 5,
   "id": "6e34e3a6-93bd-474a-8424-40319d297a47",
   "metadata": {},
   "outputs": [
    {
     "name": "stdout",
     "output_type": "stream",
     "text": [
      "(0, 0): ───H───\n",
      "\n",
      "(0, 1): ───H───\n",
      "\n",
      "(1, 0): ───H───\n",
      "\n",
      "(1, 1): ───H───\n"
     ]
    }
   ],
   "source": [
    "circuit = cirq.Circuit()\n",
    "circuit.append(prepare_plus_layer(2))\n",
    "print(circuit)"
   ]
  },
  {
   "cell_type": "code",
   "execution_count": 6,
   "id": "ffe416d4-9029-4cc2-9376-f8ccc7a0d77e",
   "metadata": {},
   "outputs": [],
   "source": [
    "def rot_x_layer(length, half_turns):\n",
    "    \"\"\"Yields X rotations by half_turns on a square grid of given length.\"\"\"\n",
    "\n",
    "    # Define the gate once and then re-use it for each Operation.\n",
    "    rot = cirq.XPowGate(exponent=half_turns)\n",
    "\n",
    "    # Create an X rotation Operation for each qubit in the grid.\n",
    "    for i in range(length):\n",
    "        for j in range(length):\n",
    "            yield rot(cirq.GridQubit(i, j))"
   ]
  },
  {
   "cell_type": "code",
   "execution_count": 7,
   "id": "289a3cd3-5741-4914-9e9b-55a95e4ff4c9",
   "metadata": {},
   "outputs": [
    {
     "name": "stdout",
     "output_type": "stream",
     "text": [
      "(0, 0): ───X^0.1───\n",
      "\n",
      "(0, 1): ───X^0.1───\n",
      "\n",
      "(1, 0): ───X^0.1───\n",
      "\n",
      "(1, 1): ───X^0.1───\n"
     ]
    }
   ],
   "source": [
    "circuit = cirq.Circuit()\n",
    "circuit.append(rot_x_layer(2, 0.1))\n",
    "print(circuit)"
   ]
  },
  {
   "cell_type": "code",
   "execution_count": 8,
   "id": "de711767-f55e-4345-bf6f-19b8bad40ff3",
   "metadata": {},
   "outputs": [],
   "source": [
    "def rot_z_layer(h, half_turns):\n",
    "    \"\"\"Yields Z rotations by half_turns conditioned on the field h.\"\"\"\n",
    "    gate = cirq.ZPowGate(exponent=half_turns)\n",
    "    for i, h_row in enumerate(h):\n",
    "        for j, h_ij in enumerate(h_row):\n",
    "            if h_ij == 1:\n",
    "                yield gate(cirq.GridQubit(i, j))"
   ]
  },
  {
   "cell_type": "code",
   "execution_count": 9,
   "id": "1546be16-114c-4462-a364-04b0799890c1",
   "metadata": {},
   "outputs": [],
   "source": [
    "circuit = cirq.Circuit()\n",
    "circuit.append(rot_z_layer(h, 0.1))"
   ]
  },
  {
   "cell_type": "code",
   "execution_count": 10,
   "id": "c84046ef-2687-4290-adce-a6200bc2f904",
   "metadata": {},
   "outputs": [
    {
     "name": "stdout",
     "output_type": "stream",
     "text": [
      "(0, 0): ───Z^0.1───\n",
      "\n",
      "(1, 0): ───Z^0.1───\n",
      "\n",
      "(2, 0): ───Z^0.1───\n",
      "\n",
      "(2, 2): ───Z^0.1───\n"
     ]
    }
   ],
   "source": [
    "print(circuit)"
   ]
  },
  {
   "cell_type": "code",
   "execution_count": 11,
   "id": "ecc049e4-7185-44f6-9c4d-d44b40210fb7",
   "metadata": {},
   "outputs": [],
   "source": [
    "def rot_11_layer(jr, jc, half_turns):\n",
    "    \"\"\"Yields rotations about |11> conditioned on the jr and jc fields.\"\"\"\n",
    "    cz_gate = cirq.CZPowGate(exponent=half_turns)\n",
    "    for i, jr_row in enumerate(jr):\n",
    "        for j, jr_ij in enumerate(jr_row):\n",
    "            q = cirq.GridQubit(i, j)\n",
    "            q_1 = cirq.GridQubit(i + 1, j)\n",
    "            if jr_ij == -1:\n",
    "                yield cirq.X(q)\n",
    "                yield cirq.X(q_1)\n",
    "            yield cz_gate(q, q_1)\n",
    "            if jr_ij == -1:\n",
    "                yield cirq.X(q)\n",
    "                yield cirq.X(q_1)\n",
    "\n",
    "    for i, jc_row in enumerate(jc):\n",
    "        for j, jc_ij in enumerate(jc_row):\n",
    "            q = cirq.GridQubit(i, j)\n",
    "            q_1 = cirq.GridQubit(i, j + 1)\n",
    "            if jc_ij == -1:\n",
    "                yield cirq.X(q)\n",
    "                yield cirq.X(q_1)\n",
    "            yield cz_gate(q, q_1)\n",
    "            if jc_ij == -1:\n",
    "                yield cirq.X(q)\n",
    "                yield cirq.X(q_1)"
   ]
  },
  {
   "cell_type": "code",
   "execution_count": 12,
   "id": "80695deb-8642-4577-ba52-1c29e530a344",
   "metadata": {},
   "outputs": [],
   "source": [
    "circuit = cirq.Circuit()\n",
    "circuit.append(rot_11_layer(jr, jc, 0.1))"
   ]
  },
  {
   "cell_type": "code",
   "execution_count": 13,
   "id": "0ac6aed4-4d64-46f3-8978-85e4843c7eaf",
   "metadata": {},
   "outputs": [
    {
     "name": "stdout",
     "output_type": "stream",
     "text": [
      "           ┌──────┐   ┌───────────────┐       ┌──────┐   ┌──────┐\n",
      "(0, 0): ────@──────────X──────────────────────────────────@─────────X───────────────────────────\n",
      "            │                                             │\n",
      "(0, 1): ────┼────X─────@──────────────────X────X──────────@^0.1─────X───────@───────────────────\n",
      "            │          │                                                    │\n",
      "(0, 2): ────┼────X─────┼────@─────────────X─────────────────────────────────@^0.1───────────────\n",
      "            │          │    │\n",
      "(1, 0): ────@^0.1──────┼────┼────@────────────────────────@─────────────────────────────────────\n",
      "                       │    │    │                        │\n",
      "(1, 1): ────X──────────@^0.1┼────┼────────X────@──────────@^0.1─────X───────────────@───────X───\n",
      "                            │    │             │                                    │\n",
      "(1, 2): ────X───────────────@^0.1┼────────X────┼────X─────@─────────X───────X───────@^0.1───X───\n",
      "                                 │             │          │\n",
      "(2, 0): ─────────────────────────@^0.1────X────┼──────────┼─────────@───────X───────────────────\n",
      "                                               │          │         │\n",
      "(2, 1): ───────────────────────────────────────@^0.1──────┼────X────@^0.1───X───────@───────────\n",
      "                                                          │                         │\n",
      "(2, 2): ────X─────────────────────────────────────────────@^0.1─────X───────────────@^0.1───────\n",
      "           └──────┘   └───────────────┘       └──────┘   └──────┘\n"
     ]
    }
   ],
   "source": [
    "print(circuit)"
   ]
  },
  {
   "cell_type": "code",
   "execution_count": 14,
   "id": "6840bab3-db10-4b86-b922-2d02d2fd7dea",
   "metadata": {},
   "outputs": [],
   "source": [
    "length = 5\n",
    "qubits = cirq.GridQubit.square(length)\n",
    "h, jr, jc = random_instance(length)\n",
    "\n",
    "circuit = cirq.Circuit()\n",
    "circuit.append(prepare_plus_layer(length))\n",
    "circuit.append(rot_z_layer(h, 0.3))\n",
    "circuit.append(rot_11_layer(jr, jc, 0.3))\n",
    "circuit.append(rot_x_layer(length, 0.3))\n",
    "circuit.append(cirq.measure(*qubits, key=\"x\"))"
   ]
  },
  {
   "cell_type": "code",
   "execution_count": 15,
   "id": "f2a015fa-675c-4d75-a83c-7ef066a66bb4",
   "metadata": {},
   "outputs": [
    {
     "name": "stdout",
     "output_type": "stream",
     "text": [
      "                       ┌───────────┐   ┌───────────────┐   ┌──────┐   ┌───────────┐   ┌───────────────┐   ┌───────────────┐   ┌───────────────┐   ┌──────────┐   ┌──────────┐\n",
      "(0, 0): ───H───Z^0.3────X───────────────@───────────────────X──────────@───────────────X^0.3────────────────────────────────────────────────────────────────────────────────────────────────────────────────────────────────────────────────────────────────────────────────M('x')───\n",
      "                                        │                              │                                                                                                                                                                                                    │\n",
      "(0, 1): ───H───X─────────@──────────────┼────X─────────────────────────@^0.3───────────X───────────────────@───────────────────X───────────────────X^0.3────────────────────────────────────────────────────────────────────────────────────────────────────────────────────M────────\n",
      "                         │              │                                                                  │                                                                                                                                                                │\n",
      "(0, 2): ───H───Z^0.3─────┼────@─────────┼────X─────────────────────────────────────────────────────────────@^0.3───────────────X───────────────────X──────────────@─────────────X───────X^0.3───────────────────────────────────────────────────────────────────────────────M────────\n",
      "                         │    │         │                                                                                                                         │                                                                                                         │\n",
      "(0, 3): ───H───Z^0.3────X┼────┼─────────┼────@──────────────X──────────X──────────────────────────────────────────────────────────────────────────────────────────@^0.3─────────X───────@───────X^0.3───────────────────────────────────────────────────────────────────────M────────\n",
      "                         │    │         │    │                                                                                                                                          │                                                                                   │\n",
      "(0, 4): ───H───Z^0.3────X┼────┼─────────┼────┼────@─────────X───────────────────────────────────────────────────────────────────────────────────────────────────────────────────────────@^0.3───X^0.3───────────────────────────────────────────────────────────────────────M────────\n",
      "                         │    │         │    │    │                                                                                                                                                                                                                         │\n",
      "(1, 0): ───H───Z^0.3────X┼────┼─────────@^0.3┼────┼─────────X──────────@───────────────X───────────────────────────────────────@───────────────────X──────────────X^0.3─────────────────────────────────────────────────────────────────────────────────────────────────────M────────\n",
      "                         │    │              │    │                    │                                                       │                                                                                                                                            │\n",
      "(1, 1): ───H───X─────────@^0.3┼─────────X────┼────┼─────────X──────────┼────@──────────X───────────────────X───────────────────@^0.3───────────────X──────────────X─────────────@───────X───────X^0.3───────────────────────────────────────────────────────────────────────M────────\n",
      "                              │              │    │                    │    │                                                                                                   │                                                                                           │\n",
      "(1, 2): ───H──────────────────@^0.3─────X────┼────┼──────────@─────────┼────┼────X─────X────────────────────────────────────────────────────────────────────────────────────────@^0.3───X───────X───────@───────X───────X^0.3───────────────────────────────────────────────M────────\n",
      "                                             │    │          │         │    │                                                                                                                           │                                                                   │\n",
      "(1, 3): ───H───X─────────────────────────────@^0.3┼─────────X┼─────────┼────┼────X──────────@──────────────X───────────────────X────────────────────────────────────────────────────────────────────────@^0.3───X───────X───────@───────X───────X^0.3───────────────────────M────────\n",
      "                                                  │          │         │    │               │                                                                                                                                   │                                           │\n",
      "(1, 4): ───H───X──────────────────────────────────@^0.3─────X┼─────────┼────┼────X──────────┼────@─────────X───────────────────X────────────────────────────────────────────────────────────────────────────────────────────────@^0.3───X───────X^0.3───────────────────────M────────\n",
      "                                                             │         │    │               │    │                                                                                                                                                                          │\n",
      "(2, 0): ───H─────────────────────────────────────────────────┼─────────@^0.3┼──────────X────┼────┼──────────────@──────────────X───────────────────X──────────────@─────────────X───────X^0.3───────────────────────────────────────────────────────────────────────────────M────────\n",
      "                                                             │              │               │    │              │                                                 │                                                                                                         │\n",
      "(2, 1): ───H───X─────────────────────────────────────────────┼──────────────@^0.3──────X────┼────┼──────────────┼────@─────────X──────────────────────────────────@^0.3─────────X───────X───────@───────X───────X^0.3───────────────────────────────────────────────────────M────────\n",
      "                                                             │                              │    │              │    │                                                                          │                                                                           │\n",
      "(2, 2): ───H───X─────────────────────────────────────────────@^0.3─────X───────────────@────┼────┼─────────X────┼────┼──────────────────────────────────────────────────────────────────────────@^0.3───X───────X───────@───────X───────X^0.3───────────────────────────────M────────\n",
      "                                                                                       │    │    │              │    │                                                                                                  │                                                   │\n",
      "(2, 3): ───H───X───────────────────────────────────────────────────────────────────────┼────@^0.3┼─────────X────┼────┼──────────────@──────────────X────────────────────────────────────────────────────────────────────@^0.3───X───────@───────X^0.3───────────────────────M────────\n",
      "                                                                                       │         │              │    │              │                                                                                                   │                                   │\n",
      "(2, 4): ───H───Z^0.3────X──────────────────────────────────────────────────────────────┼─────────@^0.3─────X────┼────┼──────────────┼────@──────────────────────────────────────────────────────────────────────────────────────────────@^0.3───X^0.3───────────────────────M────────\n",
      "                                                                                       │                        │    │              │    │                                                                                                                                  │\n",
      "(3, 0): ───H───Z^0.3────X──────────────────────────────────────────────────────────────┼────────────────────────@^0.3┼─────────X────┼────┼─────────X──────────────@─────────────X───────X───────@───────X───────X^0.3───────────────────────────────────────────────────────M────────\n",
      "                                                                                       │                             │              │    │                        │                             │                                                                           │\n",
      "(3, 1): ───H───Z^0.3───────────────────────────────────────────────────────────────────┼─────────────────────────────@^0.3─────X────┼────┼─────────@──────────────┼────X────────X───────────────@^0.3───X───────@───────X^0.3───────────────────────────────────────────────M────────\n",
      "                                                                                       │                                            │    │         │              │                                             │                                                           │\n",
      "(3, 2): ───H───────────────────────────────────────────────────────────────────────────@^0.3───────────────@────────────────────────┼────┼─────────┼──────────────┼─────────────────────────────────────────────@^0.3───X───────@───────X───────X^0.3───────────────────────M────────\n",
      "                                                                                                           │                        │    │         │              │                                                             │                                           │\n",
      "(3, 3): ───H───────────────────────────────────────────────────────────────────────────────────────────────┼────────────────────────@^0.3┼─────────┼────X─────────┼────@────────X───────X───────────────────────────────────────@^0.3───X───────@───────X^0.3───────────────M────────\n",
      "                                                                                                           │                             │         │              │    │                                                                        │                           │\n",
      "(3, 4): ───H───────────────────────────────────────────────────────────────────────────────────────────────┼─────────────────────────────@^0.3─────┼────@─────────┼────┼────────────────────────────────────────────────────────────────────────@^0.3───X^0.3───────────────M────────\n",
      "                                                                                                           │                                       │    │         │    │                                                                                                    │\n",
      "(4, 0): ───H───Z^0.3────X──────────────────────────────────────────────────────────────────────────────────┼───────────────────────────────────────┼────┼─────────@^0.3┼────────X───────@───────X^0.3───────────────────────────────────────────────────────────────────────M────────\n",
      "                                                                                                           │                                       │    │              │                │                                                                                   │\n",
      "(4, 1): ───H───Z^0.3────X──────────────────────────────────────────────────────────────────────────────────┼───────────────────────────────────────@^0.3┼─────────X────┼────────────────@^0.3───X───────@───────X───────X^0.3───────────────────────────────────────────────M────────\n",
      "                                                                                                           │                                            │              │                                │                                                                   │\n",
      "(4, 2): ───H───────────────────────────────────────────────────────────────────────────────────────────────@^0.3───────────────X────────────────────────┼──────────────┼────────────────────────────────@^0.3───X───────X───────@───────X───────X^0.3───────────────────────M────────\n",
      "                                                                                                                                                        │              │                                                        │                                           │\n",
      "(4, 3): ───H───X────────────────────────────────────────────────────────────────────────────────────────────────────────────────────────────────────────┼──────────────@^0.3────X───────X───────────────────────────────────────@^0.3───X───────X───────@───────X───X^0.3───M────────\n",
      "                                                                                                                                                        │                                                                                               │                   │\n",
      "(4, 4): ───H───Z^0.3────────────────────────────────────────────────────────────────────────────────────────────────────────────────────────────────────@^0.3─────X─────────────────────────────────────────────────────────────────────────────────────@^0.3───X───X^0.3───M────────\n",
      "                       └───────────┘   └───────────────┘   └──────┘   └───────────┘   └───────────────┘   └───────────────┘   └───────────────┘   └──────────┘   └──────────┘\n"
     ]
    }
   ],
   "source": [
    "print(circuit)"
   ]
  },
  {
   "cell_type": "markdown",
   "id": "e2150ddd",
   "metadata": {},
   "source": [
    "##### Let's define the CPU and GPU simulators"
   ]
  },
  {
   "cell_type": "code",
   "execution_count": 16,
   "id": "b6f8f921-8817-4d25-b50c-8ad7196e21ae",
   "metadata": {},
   "outputs": [],
   "source": [
    "# Default CPU simulator\n",
    "simulator = cirq.Simulator()\n",
    "\n",
    "# cuQuantum GPU simulator\n",
    "ngpus = 1\n",
    "qsim_options = qsimcirq.QSimOptions(\n",
    "    max_fused_gate_size=2,\n",
    "    use_gpu=True,\n",
    "    gpu_mode=1,  # gpu_mode: use CUDA if set to 0 (default value) or use the NVIDIA cuStateVec library if set to any other value.\n",
    ")\n",
    "\n",
    "simulator_cuQ = qsimcirq.QSimSimulator(qsim_options)"
   ]
  },
  {
   "cell_type": "markdown",
   "id": "997e399c",
   "metadata": {},
   "source": [
    "##### Define function for extracting energy measurements"
   ]
  },
  {
   "cell_type": "code",
   "execution_count": 17,
   "id": "5e9e51ca",
   "metadata": {},
   "outputs": [],
   "source": [
    "def energy_func(length, h, jr, jc):\n",
    "    def energy(measurements):\n",
    "        # Reshape measurement into array that matches grid shape.\n",
    "        meas_list_of_lists = [\n",
    "            measurements[i * length : (i + 1) * length] for i in range(length)\n",
    "        ]\n",
    "        # Convert true/false to +1/-1.\n",
    "        pm_meas = 1 - 2 * np.array(meas_list_of_lists).astype(np.int32)\n",
    "\n",
    "        tot_energy = np.sum(pm_meas * h)\n",
    "        for i, jr_row in enumerate(jr):\n",
    "            for j, jr_ij in enumerate(jr_row):\n",
    "                tot_energy += jr_ij * pm_meas[i, j] * pm_meas[i + 1, j]\n",
    "        for i, jc_row in enumerate(jc):\n",
    "            for j, jc_ij in enumerate(jc_row):\n",
    "                tot_energy += jc_ij * pm_meas[i, j] * pm_meas[i, j + 1]\n",
    "        return tot_energy\n",
    "\n",
    "    return energy"
   ]
  },
  {
   "cell_type": "markdown",
   "id": "dcb97e25",
   "metadata": {},
   "source": [
    "##### Define the expectation value of the energy"
   ]
  },
  {
   "cell_type": "code",
   "execution_count": 18,
   "id": "15b77870",
   "metadata": {},
   "outputs": [],
   "source": [
    "def obj_func(result):\n",
    "    energy_hist = result.histogram(key=\"x\", fold_func=energy_func(length, h, jr, jc))\n",
    "    return np.sum([k * v for k, v in energy_hist.items()]) / result.repetitions"
   ]
  },
  {
   "cell_type": "markdown",
   "id": "528ec07c",
   "metadata": {},
   "source": [
    "##### Run the CPU VQE"
   ]
  },
  {
   "cell_type": "code",
   "execution_count": 19,
   "id": "fafcfbba-4121-46d1-8853-9f3a8e3eb898",
   "metadata": {},
   "outputs": [
    {
     "name": "stdout",
     "output_type": "stream",
     "text": [
      "CPU runtime: 11.51506900787353515625s\n",
      "Simulated ground-state energy expectation value is 8.362\n"
     ]
    }
   ],
   "source": [
    "# Default CPU simulator VQE\n",
    "\n",
    "start = time.time()\n",
    "results = simulator.run(circuit, repetitions=10000)\n",
    "# print(results.histogram(key='x'))\n",
    "cpu_time = time.time() - start\n",
    "print(\"CPU runtime: {:.24}s\".format(cpu_time))\n",
    "print(f\"Simulated ground-state energy expectation value is {obj_func(results)}\")"
   ]
  },
  {
   "cell_type": "markdown",
   "id": "ffa29702",
   "metadata": {},
   "source": [
    "##### Run the GPU VQE"
   ]
  },
  {
   "cell_type": "code",
   "execution_count": 20,
   "id": "39b6c57f-7f8c-4515-bae7-f0e043ce163c",
   "metadata": {},
   "outputs": [
    {
     "name": "stdout",
     "output_type": "stream",
     "text": [
      "GPU runtime: 3.359165191650390625s\n",
      "Simulated ground-state energy expectation value is 8.3536\n"
     ]
    }
   ],
   "source": [
    "# cuQuantum GPU simulator VQE\n",
    "\n",
    "start = time.time()\n",
    "results = simulator_cuQ.run(circuit, repetitions=10000)\n",
    "# print(results.histogram(key='x'))\n",
    "gpu_time = time.time() - start\n",
    "print(\"GPU runtime: {:.24}s\".format(gpu_time))\n",
    "print(f\"Simulated ground-state energy expectation value is {obj_func(results)}\")"
   ]
  },
  {
   "cell_type": "markdown",
   "id": "0e2e64aa",
   "metadata": {},
   "source": [
    "##### Calculate the GPU vs. CPU speedup"
   ]
  },
  {
   "cell_type": "code",
   "execution_count": 21,
   "id": "826413d6-9ff8-4db5-97ca-1228fe1c9bcd",
   "metadata": {
    "tags": []
   },
   "outputs": [
    {
     "name": "stdout",
     "output_type": "stream",
     "text": [
      "GPU VQE was 3.428X faster than CPU VQE\n"
     ]
    }
   ],
   "source": [
    "print(\"GPU VQE was \" + str(round(cpu_time / gpu_time, 3)) + \"X faster than CPU VQE\")"
   ]
  }
 ],
 "metadata": {
  "kernelspec": {
   "display_name": "Python 3 [Default]",
   "language": "python",
   "name": "python3"
  },
  "language_info": {
   "codemirror_mode": {
    "name": "ipython",
    "version": 3
   },
   "file_extension": ".py",
   "mimetype": "text/x-python",
   "name": "python",
   "nbconvert_exporter": "python",
   "pygments_lexer": "ipython3",
   "version": "3.9.18"
  }
 },
 "nbformat": 4,
 "nbformat_minor": 5
}

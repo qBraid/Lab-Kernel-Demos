{
 "cells": [
  {
   "cell_type": "markdown",
   "id": "4adb185b-60d3-4054-ae78-13dffab84260",
   "metadata": {},
   "source": [
    "# Benchmarking circuit evaluation\n",
    "Amazon Braket SV1 vs Pennylane-Lightning-GPU"
   ]
  },
  {
   "cell_type": "code",
   "execution_count": 1,
   "id": "7fc765c0-1f26-4728-8843-37e90b6badea",
   "metadata": {},
   "outputs": [
    {
     "name": "stdout",
     "output_type": "stream",
     "text": [
      "\u001b[0;35mSuccessfully enabled qBraid Quantum Jobs in the \u001b[1;35mpennylane_gpu\u001b[0m\u001b[0;35m environment.\u001b[0m\n",
      "\u001b[0;35mEvery \u001b[1;35mAWS\u001b[0m\u001b[0;35m job you run will now be submitted through the qBraid API, so no access keys/tokens are necessary. \u001b[0m\n",
      "\n",
      "\u001b[0;35mTo disable, run:\u001b[0m `qbraid jobs disable pennylane_gpu`\n"
     ]
    }
   ],
   "source": [
    "!qbraid jobs enable pennylane_gpu"
   ]
  },
  {
   "cell_type": "code",
   "execution_count": 2,
   "id": "9edeaa35-a288-4b22-8b58-f41eaaac8f3c",
   "metadata": {},
   "outputs": [
    {
     "name": "stdout",
     "output_type": "stream",
     "text": [
      "# installed environments:\n",
      "#\n",
      "default                  \u001b[0;31mjobs\u001b[0m  /opt/.qbraid/environments/qbraid_000000\n",
      "qsharp                         /opt/.qbraid/environments/qsharp_b54crn\n",
      "intel                          /opt/.qbraid/environments/intel_zr7hfq\n",
      "bloqade                        /opt/.qbraid/environments/bloqade_374m88\n",
      "qiskit_gpu                     /home/jovyan/.qbraid/environments/qiskit_gpu_tyt64d\n",
      "tensorflow                     /home/jovyan/.qbraid/environments/tensorflow_uorhf3\n",
      "pennylane_gpu            \u001b[0;32mjobs\u001b[0m  /home/jovyan/.qbraid/environments/pennylane_gpu_21uik3\n",
      "qbraid_sdk               \u001b[0;31mjobs\u001b[0m  /home/jovyan/.qbraid/environments/qbraid_sdk_9j9sjy\n",
      "\n"
     ]
    }
   ],
   "source": [
    "!qbraid envs list"
   ]
  },
  {
   "cell_type": "code",
   "execution_count": 3,
   "id": "dcb438f5-a1cc-477c-83b0-178613e6f9c4",
   "metadata": {},
   "outputs": [
    {
     "name": "stdout",
     "output_type": "stream",
     "text": [
      "Thu Jul 20 01:30:43 2023       \n",
      "+-----------------------------------------------------------------------------+\n",
      "| NVIDIA-SMI 470.182.03   Driver Version: 470.182.03   CUDA Version: 11.5     |\n",
      "|-------------------------------+----------------------+----------------------+\n",
      "| GPU  Name        Persistence-M| Bus-Id        Disp.A | Volatile Uncorr. ECC |\n",
      "| Fan  Temp  Perf  Pwr:Usage/Cap|         Memory-Usage | GPU-Util  Compute M. |\n",
      "|                               |                      |               MIG M. |\n",
      "|===============================+======================+======================|\n",
      "|   0  Tesla T4            On   | 00000000:00:1E.0 Off |                    0 |\n",
      "| N/A   36C    P8     9W /  70W |      0MiB / 15109MiB |      0%      Default |\n",
      "|                               |                      |                  N/A |\n",
      "+-------------------------------+----------------------+----------------------+\n",
      "                                                                               \n",
      "+-----------------------------------------------------------------------------+\n",
      "| Processes:                                                                  |\n",
      "|  GPU   GI   CI        PID   Type   Process name                  GPU Memory |\n",
      "|        ID   ID                                                   Usage      |\n",
      "|=============================================================================|\n",
      "|  No running processes found                                                 |\n",
      "+-----------------------------------------------------------------------------+\n"
     ]
    }
   ],
   "source": [
    "!nvidia-smi"
   ]
  },
  {
   "cell_type": "code",
   "execution_count": 4,
   "id": "6ff1b488-279c-43d1-8f7c-418643aae70f",
   "metadata": {},
   "outputs": [
    {
     "name": "stdout",
     "output_type": "stream",
     "text": [
      "Name: PennyLane\n",
      "Version: 0.31.0\n",
      "Summary: PennyLane is a Python quantum machine learning library by Xanadu Inc.\n",
      "Home-page: https://github.com/PennyLaneAI/pennylane\n",
      "Author: \n",
      "Author-email: \n",
      "License: Apache License 2.0\n",
      "Location: /home/jovyan/.qbraid/environments/pennylane_gpu_21uik3/pyenv/lib/python3.9/site-packages\n",
      "Requires: appdirs, autograd, autoray, cachetools, networkx, numpy, pennylane-lightning, requests, rustworkx, scipy, semantic-version, toml\n",
      "Required-by: amazon-braket-pennylane-plugin, PennyLane-Lightning, PennyLane-Lightning-GPU\n",
      "\n",
      "Platform info:           Linux-5.4.247-162.350.amzn2.x86_64-x86_64-with-glibc2.31\n",
      "Python version:          3.9.12\n",
      "Numpy version:           1.23.5\n",
      "Scipy version:           1.10.0\n",
      "Installed devices:\n",
      "- default.gaussian (PennyLane-0.31.0)\n",
      "- default.mixed (PennyLane-0.31.0)\n",
      "- default.qubit (PennyLane-0.31.0)\n",
      "- default.qubit.autograd (PennyLane-0.31.0)\n",
      "- default.qubit.jax (PennyLane-0.31.0)\n",
      "- default.qubit.tf (PennyLane-0.31.0)\n",
      "- default.qubit.torch (PennyLane-0.31.0)\n",
      "- default.qutrit (PennyLane-0.31.0)\n",
      "- null.qubit (PennyLane-0.31.0)\n",
      "- lightning.qubit (PennyLane-Lightning-0.31.0)\n",
      "- lightning.gpu (PennyLane-Lightning-GPU-0.31.0)\n",
      "- braket.aws.ahs (amazon-braket-pennylane-plugin-1.17.4)\n",
      "- braket.aws.qubit (amazon-braket-pennylane-plugin-1.17.4)\n",
      "- braket.local.ahs (amazon-braket-pennylane-plugin-1.17.4)\n",
      "- braket.local.qubit (amazon-braket-pennylane-plugin-1.17.4)\n"
     ]
    }
   ],
   "source": [
    "import pennylane as qml\n",
    "from pennylane import numpy as np\n",
    "\n",
    "qml.about()"
   ]
  },
  {
   "cell_type": "code",
   "execution_count": 5,
   "id": "c1fdbb19-554e-4952-a8b6-985e4fa7c5c1",
   "metadata": {},
   "outputs": [],
   "source": [
    "n_wires = 12\n",
    "\n",
    "dev_braket = dev = qml.device(\n",
    "    \"braket.aws.qubit\",\n",
    "    device_arn=\"arn:aws:braket:::device/quantum-simulator/amazon/sv1\",\n",
    "    wires=n_wires,\n",
    ")\n",
    "dev_gpu = qml.device(\"lightning.gpu\", wires=n_wires)"
   ]
  },
  {
   "cell_type": "code",
   "execution_count": 6,
   "id": "d8d75ade-9718-4142-ac47-778cdf33df3b",
   "metadata": {},
   "outputs": [],
   "source": [
    "def circuit(params):\n",
    "    for i in range(n_wires):\n",
    "        qml.RX(params[i], wires=i)\n",
    "    for i in range(n_wires):\n",
    "        qml.CNOT(wires=[i, (i + 1) % n_wires])\n",
    "\n",
    "    # Measure all qubits\n",
    "    observables = [qml.PauliZ(n_wires - 1)] + [\n",
    "        qml.Identity(i) for i in range(n_wires - 1)\n",
    "    ]\n",
    "    return qml.expval(qml.operation.Tensor(*observables))"
   ]
  },
  {
   "cell_type": "code",
   "execution_count": 7,
   "id": "bacb272a-3b6a-4891-8091-bcf50d5a63c3",
   "metadata": {},
   "outputs": [],
   "source": [
    "qnode_braket = qml.QNode(circuit, dev_braket)\n",
    "qnode_gpu = qml.QNode(circuit, dev_gpu)"
   ]
  },
  {
   "cell_type": "code",
   "execution_count": 8,
   "id": "356b4fd7-a81b-4043-b078-95551cb3cb54",
   "metadata": {},
   "outputs": [
    {
     "name": "stdout",
     "output_type": "stream",
     "text": [
      "Execution time on Braket SV1 device (seconds): 12.66253662109375\n",
      "Execution time on Lightning GPU device (seconds): 0.9639229774475098\n"
     ]
    }
   ],
   "source": [
    "import time\n",
    "\n",
    "params = np.random.random(n_wires)\n",
    "\n",
    "t_0_braket = time.time()\n",
    "qnode_braket(params)\n",
    "t_1_braket = time.time()\n",
    "\n",
    "t_0_gpu = time.time()\n",
    "qnode_gpu(params)\n",
    "t_1_gpu = time.time()\n",
    "\n",
    "print(\"Execution time on Braket SV1 device (seconds):\", t_1_braket - t_0_braket)\n",
    "\n",
    "print(\"Execution time on Lightning GPU device (seconds):\", t_1_gpu - t_0_gpu)"
   ]
  }
 ],
 "metadata": {
  "kernelspec": {
   "display_name": "Python 3 [Lightning]",
   "language": "python",
   "name": "python3_pennylane_gpu_21uik3"
  },
  "language_info": {
   "codemirror_mode": {
    "name": "ipython",
    "version": 3
   },
   "file_extension": ".py",
   "mimetype": "text/x-python",
   "name": "python",
   "nbconvert_exporter": "python",
   "pygments_lexer": "ipython3",
   "version": "3.9.12"
  }
 },
 "nbformat": 4,
 "nbformat_minor": 5
}

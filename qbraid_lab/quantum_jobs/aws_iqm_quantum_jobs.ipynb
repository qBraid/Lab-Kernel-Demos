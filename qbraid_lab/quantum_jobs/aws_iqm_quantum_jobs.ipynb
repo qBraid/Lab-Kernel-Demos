{
 "cells": [
  {
   "cell_type": "markdown",
   "metadata": {},
   "source": [
    "# Running quantum circuits on QPU devices"
   ]
  },
  {
   "cell_type": "markdown",
   "metadata": {},
   "source": [
    "In this tutorial, we demonstrate how to run circuits on QPU devices. Whether you want to run your circuit on a specific backend or want to switch between backends, qBraid Lab offers the flexibility to seamlessly swap between different devices without any modifications to the circuit definition. We further demonstrate how to recover results using the unique ARN associated with every task. This tool is useful in order to deal with potential delays if your quantum task sits in the queue for some time waiting for execution. "
   ]
  },
  {
   "cell_type": "markdown",
   "metadata": {},
   "source": [
    "<h1 style=\"color:#D30982;\">qBraid instructions</h1> \n",
    "\n",
    "If you are not planning to submit jobs to quantum computers, this notebook should work well with the `Python [Default]` kernel. If you want to submit jobs to quantum computers, make sure that you have installed the amazon braket environment on qBraid ([installation instructions](https://qbraid-qbraid.readthedocs-hosted.com/en/latest/lab/environments.html#install-environment)) and have selected the `Python [Braket]` kernel. (You can switch kernels by going to the Menu Bar → Kernel → Change Kernel). You would want to use the amazon-braket-sdk latest release for it. Check our environments.\n",
    "\n",
    "If you do not have AWS credentials for submitting your quantum jobs, you will need qBraid Credits. If you have qBraid Credits, you can run the following line of code to submit quantum jobs through qBraid:"
   ]
  },
  {
   "cell_type": "code",
   "execution_count": 1,
   "metadata": {
    "tags": []
   },
   "outputs": [],
   "source": [
    "#!qbraid jobs enable amazon_braket #You only need to run this line once after you install the environment"
   ]
  },
  {
   "cell_type": "code",
   "execution_count": 2,
   "metadata": {
    "tags": []
   },
   "outputs": [],
   "source": [
    "# general imports\n",
    "import numpy as np\n",
    "import matplotlib.pyplot as plt\n",
    "\n",
    "# magic word for producing visualizations in notebook\n",
    "%matplotlib inline\n",
    "import string\n",
    "import time\n",
    "\n",
    "# AWS imports: Import Braket SDK modules\n",
    "from braket.circuits import Circuit, Gate, Instruction, circuit, Observable\n",
    "from braket.devices import LocalSimulator\n",
    "from braket.aws import AwsDevice, AwsQuantumTask\n",
    "\n",
    "s3_folder = (\"dummy_variable\", \"dummy_variable\")"
   ]
  },
  {
   "cell_type": "markdown",
   "metadata": {
    "pycharm": {
     "name": "#%% md\n"
    }
   },
   "source": [
    "### Supported gate sets by different devices\n",
    "\n",
    "First, let us check out the gate set currently supported by our SDK. Note that the QPU devices only support a subset of these gates."
   ]
  },
  {
   "cell_type": "code",
   "execution_count": 3,
   "metadata": {
    "pycharm": {
     "name": "#%%\n"
    },
    "tags": []
   },
   "outputs": [
    {
     "name": "stdout",
     "output_type": "stream",
     "text": [
      "Gate set supported by SDK:\n",
      " ['CCNot', 'CNot', 'CPhaseShift', 'CPhaseShift00', 'CPhaseShift01', 'CPhaseShift10', 'CSwap', 'CV', 'CY', 'CZ', 'ECR', 'GPhase', 'GPi', 'GPi2', 'H', 'I', 'ISwap', 'MS', 'PRx', 'PSwap', 'PhaseShift', 'PulseGate', 'Rx', 'Ry', 'Rz', 'S', 'Si', 'Swap', 'T', 'Ti', 'U', 'Unitary', 'V', 'Vi', 'X', 'XX', 'XY', 'Y', 'YY', 'Z', 'ZZ']\n",
      "\n",
      "\n",
      "Gate set supported by the IQM device:\n",
      " ['ccnot', 'cnot', 'cphaseshift', 'cphaseshift00', 'cphaseshift01', 'cphaseshift10', 'cswap', 'swap', 'iswap', 'pswap', 'ecr', 'cy', 'cz', 'xy', 'xx', 'yy', 'zz', 'h', 'i', 'phaseshift', 'rx', 'ry', 'rz', 's', 'si', 't', 'ti', 'v', 'vi', 'x', 'y', 'z', 'start_verbatim_box', 'end_verbatim_box']\n"
     ]
    }
   ],
   "source": [
    "# Print all the available gates currently available within SDK\n",
    "\n",
    "gate_set = [attr for attr in dir(Gate) if attr[0] in string.ascii_uppercase]\n",
    "print(\"Gate set supported by SDK:\\n\", gate_set)\n",
    "print(\"\\n\")\n",
    "\n",
    "# The IQM Garnet device\n",
    "device = AwsDevice(\"arn:aws:braket:eu-north-1::device/qpu/iqm/Garnet\")\n",
    "supported_gates = device.properties.action[\n",
    "    \"braket.ir.openqasm.program\"\n",
    "].supportedOperations\n",
    "# print the supported gate set\n",
    "print(\"Gate set supported by the IQM device:\\n\", supported_gates)"
   ]
  },
  {
   "cell_type": "markdown",
   "metadata": {
    "pycharm": {
     "name": "#%% md\n"
    }
   },
   "source": [
    "### Sample Problem: Prepare Bell State"
   ]
  },
  {
   "cell_type": "markdown",
   "metadata": {},
   "source": [
    "Goal: Prepare the maximally entangled Bell state: \n",
    "$$\\left|0,0\\right> \\rightarrow \\left|\\mathrm{Bell}\\right> = \\frac{1}{\\sqrt{2}}\\left(\\left|0,0\\right> + \\left|1,1\\right>\\right).$$"
   ]
  },
  {
   "cell_type": "markdown",
   "metadata": {},
   "source": [
    "To achieve this, we build and run the following circuit using a single-qubit Hadamard gate (denoted as ```H```) acting on the first qubit followed by a two-qubit ```CNOT``` gate."
   ]
  },
  {
   "cell_type": "markdown",
   "metadata": {},
   "source": [
    "### Setup Circuit"
   ]
  },
  {
   "cell_type": "code",
   "execution_count": 4,
   "metadata": {
    "pycharm": {
     "name": "#%%\n"
    },
    "tags": []
   },
   "outputs": [],
   "source": [
    "# define circuit\n",
    "bell = Circuit().h(0).cnot(0, 1)"
   ]
  },
  {
   "cell_type": "code",
   "execution_count": 5,
   "metadata": {
    "tags": []
   },
   "outputs": [
    {
     "name": "stdout",
     "output_type": "stream",
     "text": [
      "T  : │  0  │  1  │\n",
      "      ┌───┐       \n",
      "q0 : ─┤ H ├───●───\n",
      "      └───┘   │   \n",
      "            ┌─┴─┐ \n",
      "q1 : ───────┤ X ├─\n",
      "            └───┘ \n",
      "T  : │  0  │  1  │\n"
     ]
    }
   ],
   "source": [
    "# print circuit\n",
    "print(bell)"
   ]
  },
  {
   "cell_type": "markdown",
   "metadata": {
    "pycharm": {
     "name": "#%% md\n"
    }
   },
   "source": [
    "### Local Simulator"
   ]
  },
  {
   "cell_type": "markdown",
   "metadata": {},
   "source": [
    "First we run our circuit locally, using an exact state-vector simulator. This local simulator is the preferred choice for fast experiments with low to intermediate qubit numbers ($N<20-25$) and essentially unlimited circuit depth. "
   ]
  },
  {
   "cell_type": "code",
   "execution_count": 6,
   "metadata": {
    "pycharm": {
     "name": "#%%\n"
    },
    "tags": []
   },
   "outputs": [],
   "source": [
    "# set up device: Local Simulator\n",
    "device = LocalSimulator()"
   ]
  },
  {
   "cell_type": "code",
   "execution_count": 7,
   "metadata": {
    "tags": []
   },
   "outputs": [
    {
     "name": "stdout",
     "output_type": "stream",
     "text": [
      "Counter({'11': 515, '00': 485})\n"
     ]
    }
   ],
   "source": [
    "# run circuit (execute single TASK)\n",
    "result = device.run(bell, shots=1000).result()\n",
    "# get measurement shots\n",
    "counts = result.measurement_counts\n",
    "# print counts\n",
    "print(counts)"
   ]
  },
  {
   "cell_type": "code",
   "execution_count": 8,
   "metadata": {
    "tags": []
   },
   "outputs": [
    {
     "data": {
      "text/plain": [
       "Text(0, 0.5, 'counts')"
      ]
     },
     "execution_count": 8,
     "metadata": {},
     "output_type": "execute_result"
    },
    {
     "data": {
      "image/png": "[encoded data removed]",
      "text/plain": [
       "<Figure size 640x480 with 1 Axes>"
      ]
     },
     "metadata": {},
     "output_type": "display_data"
    }
   ],
   "source": [
    "# plot using Counter\n",
    "plt.bar(counts.keys(), counts.values())\n",
    "plt.xlabel(\"bitstrings\")\n",
    "plt.ylabel(\"counts\")"
   ]
  },
  {
   "cell_type": "markdown",
   "metadata": {
    "pycharm": {
     "name": "#%% md\n"
    }
   },
   "source": [
    "### Quantum Hardware: IQM Garnet"
   ]
  },
  {
   "cell_type": "markdown",
   "metadata": {},
   "source": [
    "Next we submit our circuit to the superconducting hardware provided by IQM Garnet. Depending on our position in the queue, we may have to wait for some time till our circuit is actually run. However, thanks to asynchronous execution, we can always come back and recover the results by providing the unique ID associated with every task. "
   ]
  },
  {
   "cell_type": "code",
   "execution_count": 9,
   "metadata": {
    "pycharm": {
     "name": "#%%\n"
    },
    "tags": []
   },
   "outputs": [
    {
     "name": "stdout",
     "output_type": "stream",
     "text": [
      "Status of task: QUEUED\n"
     ]
    }
   ],
   "source": [
    "# set up device\n",
    "iqm = AwsDevice(\"arn:aws:braket:eu-north-1::device/qpu/iqm/Garnet\")\n",
    "\n",
    "# create a clean circuit with no result type attached.(This is because some result types are only supported when shots=0)\n",
    "bell = Circuit().h(0).cnot(0, 1)\n",
    "\n",
    "# add the Z \\otimes Z expectation value\n",
    "bell.expectation(Observable.Z() @ Observable.Z(), target=[0, 1])\n",
    "\n",
    "# run circuit\n",
    "iqm_task = iqm.run(bell, shots=10)\n",
    "\n",
    "# get id and status of submitted task\n",
    "iqm_task_id = iqm_task.id\n",
    "iqm_status = iqm_task.state()\n",
    "# print('ID of task:', iqm_task_id)\n",
    "print(\"Status of task:\", iqm_status)"
   ]
  },
  {
   "cell_type": "markdown",
   "metadata": {
    "pycharm": {
     "name": "#%% md\n"
    }
   },
   "source": [
    "The task is submitted and we can regularly (or irregularly) check the status of this task by executing the following cell. You may easily build logic around this query to wait for this task to complete before your code proceeds. "
   ]
  },
  {
   "cell_type": "code",
   "execution_count": 10,
   "metadata": {
    "pycharm": {
     "name": "#%%\n"
    },
    "tags": []
   },
   "outputs": [
    {
     "name": "stdout",
     "output_type": "stream",
     "text": [
      "Status of (reconstructed) task: QUEUED\n"
     ]
    }
   ],
   "source": [
    "# print status\n",
    "status = iqm_task.state()\n",
    "print(\"Status of (reconstructed) task:\", status)"
   ]
  },
  {
   "cell_type": "markdown",
   "metadata": {},
   "source": [
    "Note that in order to submit our job to the new device, we simply had to set the device variable as `AwsDevice(\"arn:aws:braket:eu-north-1::device/qpu/iqm/Garnet\")`. The rest of the code stayed the same! Additionally, this task may not readily be executed, but enter a queue for this specific machine. While we can interrupt our kernel (and work on something else), we can always recover our results using the unique ID of this task."
   ]
  },
  {
   "cell_type": "markdown",
   "metadata": {
    "pycharm": {
     "name": "#%% md\n"
    }
   },
   "source": [
    "### Task Recovery"
   ]
  },
  {
   "cell_type": "markdown",
   "metadata": {},
   "source": [
    "By simply grabbing the unique task ID associated with the quantum tasks we have submitted above, we can recover this task at any point in time and (once the status is completed) visualize and analyze the corresponding results. Note that apart from other metadata, you can retrieve the compiled circuit that was actually run on the IQM Garnet device."
   ]
  },
  {
   "cell_type": "code",
   "execution_count": 12,
   "metadata": {
    "pycharm": {
     "name": "#%%\n"
    },
    "tags": []
   },
   "outputs": [
    {
     "name": "stdout",
     "output_type": "stream",
     "text": [
      "Status of (reconstructed) task: COMPLETED\n",
      "\n",
      "\n",
      "10 shots taken on machine arn:aws:braket:eu-north-1::device/qpu/iqm/Garnet.\n",
      "\n",
      "The compiled circuit is:\n",
      " OPENQASM 3.0;\n",
      "bit[2] c;\n",
      "#pragma braket verbatim\n",
      "box {\n",
      "prx(0.5*pi,1.5*pi) $1;\n",
      "prx(0.5*pi,1.5*pi) $4;\n",
      "cz $4,$1;\n",
      "prx(0.5*pi,0.5*pi) $1;\n",
      "}\n",
      "c[0] = measure $4;\n",
      "c[1] = measure $1;\n",
      "Measurement counts: Counter({'11': 6, '00': 4})\n"
     ]
    },
    {
     "data": {
      "image/png": "[encoded data removed]",
      "text/plain": [
       "<Figure size 640x480 with 1 Axes>"
      ]
     },
     "metadata": {},
     "output_type": "display_data"
    }
   ],
   "source": [
    "# recover task\n",
    "task_load = AwsQuantumTask(arn=iqm_task_id)\n",
    "\n",
    "# print status\n",
    "status = task_load.state()\n",
    "print(\"Status of (reconstructed) task:\", status)\n",
    "print(\"\\n\")\n",
    "# wait for job to complete\n",
    "# terminal_states = ['COMPLETED', 'FAILED', 'CANCELLED']\n",
    "if status == \"COMPLETED\":\n",
    "    # get results\n",
    "    iqm_results = task_load.result()\n",
    "    # print(iqm_results)\n",
    "\n",
    "    # get all metadata of submitted task\n",
    "    metadata = task_load.metadata()\n",
    "    # example for metadata\n",
    "    shots = metadata[\"shots\"]\n",
    "    machine = metadata[\"deviceArn\"]\n",
    "    # print example metadata\n",
    "    print(\"{} shots taken on machine {}.\\n\".format(shots, machine))\n",
    "\n",
    "    # get the compiled circuit\n",
    "    print(\n",
    "        \"The compiled circuit is:\\n\",\n",
    "        iqm_results.additional_metadata.iqmMetadata.compiledProgram,\n",
    "    )\n",
    "\n",
    "    # get measurement counts\n",
    "    iqm_counts = iqm_results.measurement_counts\n",
    "    print(\"Measurement counts:\", iqm_counts)\n",
    "\n",
    "    # plot results: see effects of noise\n",
    "    plt.bar(iqm_counts.keys(), iqm_counts.values())\n",
    "    plt.xlabel(\"bitstrings\")\n",
    "    plt.ylabel(\"counts\")\n",
    "    plt.tight_layout()\n",
    "    plt.savefig(\"iqm.png\", dpi=700)\n",
    "\n",
    "elif status in [\"FAILED\", \"CANCELLED\"]:\n",
    "    # print terminal message\n",
    "    print(\"Your task is in terminal status, but has not completed.\")\n",
    "\n",
    "else:\n",
    "    # print current status\n",
    "    print(\"Sorry, your task is still being processed and has not been finalized yet.\")"
   ]
  },
  {
   "cell_type": "code",
   "execution_count": 13,
   "metadata": {
    "tags": []
   },
   "outputs": [
    {
     "name": "stdout",
     "output_type": "stream",
     "text": [
      "Status of (reconstructed) task: COMPLETED\n",
      "10 shots taken on machine arn:aws:braket:eu-north-1::device/qpu/iqm/Garnet.\n",
      "Measurement counts: Counter({'11': 6, '00': 4})\n"
     ]
    },
    {
     "data": {
      "image/png": "[encoded data removed]",
      "text/plain": [
       "<Figure size 640x480 with 1 Axes>"
      ]
     },
     "metadata": {},
     "output_type": "display_data"
    }
   ],
   "source": [
    "# recover task\n",
    "task_load = AwsQuantumTask(arn=iqm_task_id)\n",
    "\n",
    "# print status\n",
    "status = task_load.state()\n",
    "print(\"Status of (reconstructed) task:\", status)\n",
    "\n",
    "# wait for job to complete\n",
    "# terminal_states = ['COMPLETED', 'FAILED', 'CANCELLED']\n",
    "if status == \"COMPLETED\":\n",
    "    # get results\n",
    "    results = task_load.result()\n",
    "\n",
    "    # get all metadata of submitted task\n",
    "    metadata = task_load.metadata()\n",
    "    # example for metadata\n",
    "    shots = metadata[\"shots\"]\n",
    "    machine = metadata[\"deviceArn\"]\n",
    "    # print example metadata\n",
    "    print(\"{} shots taken on machine {}.\".format(shots, machine))\n",
    "\n",
    "    # get measurement counts\n",
    "    counts = results.measurement_counts\n",
    "    print(\"Measurement counts:\", counts)\n",
    "\n",
    "    # plot results: see effects of noise\n",
    "    plt.bar(counts.keys(), counts.values())\n",
    "    plt.xlabel(\"bitstrings\")\n",
    "    plt.ylabel(\"counts\")\n",
    "    plt.tight_layout()\n",
    "    plt.savefig(\"bell_ionq.png\", dpi=700)\n",
    "\n",
    "elif status in [\"FAILED\", \"CANCELLED\"]:\n",
    "    # print terminal message\n",
    "    print(\"Your task is in terminal status, but has not completed.\")\n",
    "\n",
    "else:\n",
    "    # print current status\n",
    "    print(\"Sorry, your task is still being processed and has not been finalized yet.\")"
   ]
  },
  {
   "cell_type": "markdown",
   "metadata": {
    "pycharm": {
     "name": "#%% md\n"
    }
   },
   "source": [
    "We have successfully recovered the results associated with the tasks that were queued up for the quantum hardware providers. Because of noise (decoherence) and other imperfections, we may not be able to fully recover the exact results we have seen when using the classical simulator. In the future, better error correction techniques will ensure that the accuracy of the calculations matches the simulation on a much wider scale. Until fault-tolerant quantum computing is a reality, it is important to benchmark our quantum results using classical simulators, whenever possible. "
   ]
  },
  {
   "cell_type": "markdown",
   "metadata": {},
   "source": [
    "---\n",
    "# APPENDIX"
   ]
  },
  {
   "cell_type": "code",
   "execution_count": null,
   "metadata": {
    "pycharm": {
     "name": "#%%\n"
    },
    "tags": []
   },
   "outputs": [],
   "source": [
    "# set up device\n",
    "iqm = AwsDevice(\"arn:aws:braket:eu-north-1::device/qpu/iqm/Garnet\")\n",
    "\n",
    "# run circuit\n",
    "task = iqm.run(bell, s3_folder, shots=10)\n",
    "print(\"Information on task:\\n\", task)\n",
    "print(\"==================================\" * 2)\n",
    "\n",
    "# get status of submitted task\n",
    "status = task.state()\n",
    "\n",
    "# wait for job to complete\n",
    "terminal_states = [\"COMPLETED\", \"FAILED\", \"CANCELLED\"]\n",
    "while status not in terminal_states:\n",
    "    status = task.state()\n",
    "    print(\"Status:\", status)\n",
    "    # time.sleep(60)\n",
    "\n",
    "print(\"Status:\", status)\n",
    "\n",
    "# get results\n",
    "iqm_results = task.result()\n",
    "print(iqm_results)\n",
    "\n",
    "# get measurement counts\n",
    "iqm_counts = iqm_results.measurement_counts\n",
    "print(iqm_counts)\n",
    "\n",
    "# plot results: see effects of noise\n",
    "plt.bar(iqm_counts.keys(), iqm_counts.values())\n",
    "plt.xlabel(\"bitstrings\")\n",
    "plt.ylabel(\"counts\")\n",
    "plt.tight_layout()\n",
    "plt.savefig(\"iqm2.png\", dpi=700)"
   ]
  }
 ],
 "metadata": {
  "kernelspec": {
   "display_name": "Python 3 [Braket v1.80]",
   "language": "python",
   "name": "python3_amazon_4cmb66"
  },
  "language_info": {
   "codemirror_mode": {
    "name": "ipython",
    "version": 3
   },
   "file_extension": ".py",
   "mimetype": "text/x-python",
   "name": "python",
   "nbconvert_exporter": "python",
   "pygments_lexer": "ipython3",
   "version": "3.9.18"
  }
 },
 "nbformat": 4,
 "nbformat_minor": 4
}

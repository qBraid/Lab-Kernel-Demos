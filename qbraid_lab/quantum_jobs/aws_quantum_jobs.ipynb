{
 "cells": [
  {
   "cell_type": "markdown",
   "id": "d46c2073-d5af-4272-b434-f6fc712b1f33",
   "metadata": {},
   "source": [
    "# qBraid Quantum Jobs: AWS Devices + Amazon Braket"
   ]
  },
  {
   "cell_type": "code",
   "execution_count": 1,
   "id": "de7f060e",
   "metadata": {},
   "outputs": [
    {
     "name": "stdout",
     "output_type": "stream",
     "text": [
      "Note: you may need to restart the kernel to use updated packages.\n"
     ]
    }
   ],
   "source": [
    "%pip install -q amazon-braket-sdk qbraid-cli"
   ]
  },
  {
   "cell_type": "code",
   "execution_count": 2,
   "id": "ece364ef-f49e-4a56-b32c-77aee1f1912f",
   "metadata": {},
   "outputs": [
    {
     "name": "stdout",
     "output_type": "stream",
     "text": [
      "\n",
      "Successfully configured qBraid IPython magic commands.\n",
      "\n",
      "You can now use the qBraid-CLI from inside a Jupyter notebook as follows:\n",
      "\n",
      "        \u001b[32mIn \u001b[0m\u001b[1;32m[\u001b[0m\u001b[1;33m1\u001b[0m\u001b[1;32m]\u001b[0m\u001b[32m:\u001b[0m \u001b[34m%\u001b[0mload_ext qbraid_magic\n",
      "\n",
      "        \u001b[32mIn \u001b[0m\u001b[1;32m[\u001b[0m\u001b[1;33m2\u001b[0m\u001b[1;32m]\u001b[0m\u001b[32m:\u001b[0m \u001b[34m%\u001b[0mqbraid\n",
      "\n"
     ]
    }
   ],
   "source": [
    "!qbraid configure magic"
   ]
  },
  {
   "cell_type": "code",
   "execution_count": 3,
   "id": "829a72b8",
   "metadata": {},
   "outputs": [
    {
     "ename": "ModuleNotFoundError",
     "evalue": "No module named 'qbraid_magic'",
     "output_type": "error",
     "traceback": [
      "\u001b[0;31m---------------------------------------------------------------------------\u001b[0m",
      "\u001b[0;31mModuleNotFoundError\u001b[0m                       Traceback (most recent call last)",
      "Cell \u001b[0;32mIn[3], line 1\u001b[0m\n\u001b[0;32m----> 1\u001b[0m \u001b[43mget_ipython\u001b[49m\u001b[43m(\u001b[49m\u001b[43m)\u001b[49m\u001b[38;5;241;43m.\u001b[39;49m\u001b[43mrun_line_magic\u001b[49m\u001b[43m(\u001b[49m\u001b[38;5;124;43m'\u001b[39;49m\u001b[38;5;124;43mload_ext\u001b[39;49m\u001b[38;5;124;43m'\u001b[39;49m\u001b[43m,\u001b[49m\u001b[43m \u001b[49m\u001b[38;5;124;43m'\u001b[39;49m\u001b[38;5;124;43mqbraid_magic\u001b[39;49m\u001b[38;5;124;43m'\u001b[39;49m\u001b[43m)\u001b[49m\n",
      "File \u001b[0;32m~/anaconda3/envs/sdk311/lib/python3.11/site-packages/IPython/core/interactiveshell.py:2480\u001b[0m, in \u001b[0;36mInteractiveShell.run_line_magic\u001b[0;34m(self, magic_name, line, _stack_depth)\u001b[0m\n\u001b[1;32m   2478\u001b[0m     kwargs[\u001b[38;5;124m'\u001b[39m\u001b[38;5;124mlocal_ns\u001b[39m\u001b[38;5;124m'\u001b[39m] \u001b[38;5;241m=\u001b[39m \u001b[38;5;28mself\u001b[39m\u001b[38;5;241m.\u001b[39mget_local_scope(stack_depth)\n\u001b[1;32m   2479\u001b[0m \u001b[38;5;28;01mwith\u001b[39;00m \u001b[38;5;28mself\u001b[39m\u001b[38;5;241m.\u001b[39mbuiltin_trap:\n\u001b[0;32m-> 2480\u001b[0m     result \u001b[38;5;241m=\u001b[39m \u001b[43mfn\u001b[49m\u001b[43m(\u001b[49m\u001b[38;5;241;43m*\u001b[39;49m\u001b[43margs\u001b[49m\u001b[43m,\u001b[49m\u001b[43m \u001b[49m\u001b[38;5;241;43m*\u001b[39;49m\u001b[38;5;241;43m*\u001b[39;49m\u001b[43mkwargs\u001b[49m\u001b[43m)\u001b[49m\n\u001b[1;32m   2482\u001b[0m \u001b[38;5;66;03m# The code below prevents the output from being displayed\u001b[39;00m\n\u001b[1;32m   2483\u001b[0m \u001b[38;5;66;03m# when using magics with decorator @output_can_be_silenced\u001b[39;00m\n\u001b[1;32m   2484\u001b[0m \u001b[38;5;66;03m# when the last Python token in the expression is a ';'.\u001b[39;00m\n\u001b[1;32m   2485\u001b[0m \u001b[38;5;28;01mif\u001b[39;00m \u001b[38;5;28mgetattr\u001b[39m(fn, magic\u001b[38;5;241m.\u001b[39mMAGIC_OUTPUT_CAN_BE_SILENCED, \u001b[38;5;28;01mFalse\u001b[39;00m):\n",
      "File \u001b[0;32m~/anaconda3/envs/sdk311/lib/python3.11/site-packages/IPython/core/magics/extension.py:33\u001b[0m, in \u001b[0;36mExtensionMagics.load_ext\u001b[0;34m(self, module_str)\u001b[0m\n\u001b[1;32m     31\u001b[0m \u001b[38;5;28;01mif\u001b[39;00m \u001b[38;5;129;01mnot\u001b[39;00m module_str:\n\u001b[1;32m     32\u001b[0m     \u001b[38;5;28;01mraise\u001b[39;00m UsageError(\u001b[38;5;124m'\u001b[39m\u001b[38;5;124mMissing module name.\u001b[39m\u001b[38;5;124m'\u001b[39m)\n\u001b[0;32m---> 33\u001b[0m res \u001b[38;5;241m=\u001b[39m \u001b[38;5;28;43mself\u001b[39;49m\u001b[38;5;241;43m.\u001b[39;49m\u001b[43mshell\u001b[49m\u001b[38;5;241;43m.\u001b[39;49m\u001b[43mextension_manager\u001b[49m\u001b[38;5;241;43m.\u001b[39;49m\u001b[43mload_extension\u001b[49m\u001b[43m(\u001b[49m\u001b[43mmodule_str\u001b[49m\u001b[43m)\u001b[49m\n\u001b[1;32m     35\u001b[0m \u001b[38;5;28;01mif\u001b[39;00m res \u001b[38;5;241m==\u001b[39m \u001b[38;5;124m'\u001b[39m\u001b[38;5;124malready loaded\u001b[39m\u001b[38;5;124m'\u001b[39m:\n\u001b[1;32m     36\u001b[0m     \u001b[38;5;28mprint\u001b[39m(\u001b[38;5;124m\"\u001b[39m\u001b[38;5;124mThe \u001b[39m\u001b[38;5;132;01m%s\u001b[39;00m\u001b[38;5;124m extension is already loaded. To reload it, use:\u001b[39m\u001b[38;5;124m\"\u001b[39m \u001b[38;5;241m%\u001b[39m module_str)\n",
      "File \u001b[0;32m~/anaconda3/envs/sdk311/lib/python3.11/site-packages/IPython/core/extensions.py:62\u001b[0m, in \u001b[0;36mExtensionManager.load_extension\u001b[0;34m(self, module_str)\u001b[0m\n\u001b[1;32m     55\u001b[0m \u001b[38;5;250m\u001b[39m\u001b[38;5;124;03m\"\"\"Load an IPython extension by its module name.\u001b[39;00m\n\u001b[1;32m     56\u001b[0m \n\u001b[1;32m     57\u001b[0m \u001b[38;5;124;03mReturns the string \"already loaded\" if the extension is already loaded,\u001b[39;00m\n\u001b[1;32m     58\u001b[0m \u001b[38;5;124;03m\"no load function\" if the module doesn't have a load_ipython_extension\u001b[39;00m\n\u001b[1;32m     59\u001b[0m \u001b[38;5;124;03mfunction, or None if it succeeded.\u001b[39;00m\n\u001b[1;32m     60\u001b[0m \u001b[38;5;124;03m\"\"\"\u001b[39;00m\n\u001b[1;32m     61\u001b[0m \u001b[38;5;28;01mtry\u001b[39;00m:\n\u001b[0;32m---> 62\u001b[0m     \u001b[38;5;28;01mreturn\u001b[39;00m \u001b[38;5;28;43mself\u001b[39;49m\u001b[38;5;241;43m.\u001b[39;49m\u001b[43m_load_extension\u001b[49m\u001b[43m(\u001b[49m\u001b[43mmodule_str\u001b[49m\u001b[43m)\u001b[49m\n\u001b[1;32m     63\u001b[0m \u001b[38;5;28;01mexcept\u001b[39;00m \u001b[38;5;167;01mModuleNotFoundError\u001b[39;00m:\n\u001b[1;32m     64\u001b[0m     \u001b[38;5;28;01mif\u001b[39;00m module_str \u001b[38;5;129;01min\u001b[39;00m BUILTINS_EXTS:\n",
      "File \u001b[0;32m~/anaconda3/envs/sdk311/lib/python3.11/site-packages/IPython/core/extensions.py:77\u001b[0m, in \u001b[0;36mExtensionManager._load_extension\u001b[0;34m(self, module_str)\u001b[0m\n\u001b[1;32m     75\u001b[0m \u001b[38;5;28;01mwith\u001b[39;00m \u001b[38;5;28mself\u001b[39m\u001b[38;5;241m.\u001b[39mshell\u001b[38;5;241m.\u001b[39mbuiltin_trap:\n\u001b[1;32m     76\u001b[0m     \u001b[38;5;28;01mif\u001b[39;00m module_str \u001b[38;5;129;01mnot\u001b[39;00m \u001b[38;5;129;01min\u001b[39;00m sys\u001b[38;5;241m.\u001b[39mmodules:\n\u001b[0;32m---> 77\u001b[0m         mod \u001b[38;5;241m=\u001b[39m \u001b[43mimport_module\u001b[49m\u001b[43m(\u001b[49m\u001b[43mmodule_str\u001b[49m\u001b[43m)\u001b[49m\n\u001b[1;32m     78\u001b[0m     mod \u001b[38;5;241m=\u001b[39m sys\u001b[38;5;241m.\u001b[39mmodules[module_str]\n\u001b[1;32m     79\u001b[0m     \u001b[38;5;28;01mif\u001b[39;00m \u001b[38;5;28mself\u001b[39m\u001b[38;5;241m.\u001b[39m_call_load_ipython_extension(mod):\n",
      "File \u001b[0;32m~/anaconda3/envs/sdk311/lib/python3.11/importlib/__init__.py:126\u001b[0m, in \u001b[0;36mimport_module\u001b[0;34m(name, package)\u001b[0m\n\u001b[1;32m    124\u001b[0m             \u001b[38;5;28;01mbreak\u001b[39;00m\n\u001b[1;32m    125\u001b[0m         level \u001b[38;5;241m+\u001b[39m\u001b[38;5;241m=\u001b[39m \u001b[38;5;241m1\u001b[39m\n\u001b[0;32m--> 126\u001b[0m \u001b[38;5;28;01mreturn\u001b[39;00m \u001b[43m_bootstrap\u001b[49m\u001b[38;5;241;43m.\u001b[39;49m\u001b[43m_gcd_import\u001b[49m\u001b[43m(\u001b[49m\u001b[43mname\u001b[49m\u001b[43m[\u001b[49m\u001b[43mlevel\u001b[49m\u001b[43m:\u001b[49m\u001b[43m]\u001b[49m\u001b[43m,\u001b[49m\u001b[43m \u001b[49m\u001b[43mpackage\u001b[49m\u001b[43m,\u001b[49m\u001b[43m \u001b[49m\u001b[43mlevel\u001b[49m\u001b[43m)\u001b[49m\n",
      "File \u001b[0;32m<frozen importlib._bootstrap>:1204\u001b[0m, in \u001b[0;36m_gcd_import\u001b[0;34m(name, package, level)\u001b[0m\n",
      "File \u001b[0;32m<frozen importlib._bootstrap>:1176\u001b[0m, in \u001b[0;36m_find_and_load\u001b[0;34m(name, import_)\u001b[0m\n",
      "File \u001b[0;32m<frozen importlib._bootstrap>:1140\u001b[0m, in \u001b[0;36m_find_and_load_unlocked\u001b[0;34m(name, import_)\u001b[0m\n",
      "\u001b[0;31mModuleNotFoundError\u001b[0m: No module named 'qbraid_magic'"
     ]
    }
   ],
   "source": [
    "%load_ext qbraid_magic"
   ]
  },
  {
   "cell_type": "code",
   "execution_count": 2,
   "id": "c2faa670-1fe9-47f2-9cfe-d488517914a3",
   "metadata": {},
   "outputs": [
    {
     "name": "stdout",
     "output_type": "stream",
     "text": [
      "# installed environments:\n",
      "#\n",
      "qsharp                         /opt/.qbraid/environments/qsharp_b54crn\n",
      "default                  \u001b[0;31mjobs\u001b[0m  /opt/.qbraid/environments/qbraid_000000\n",
      "qiskit                   \u001b[0;31mjobs\u001b[0m  /home/jovyan/.qbraid/environments/qiskit_9y9siy\n",
      "amazon_braket            \u001b[0;32mjobs\u001b[0m  /home/jovyan/.qbraid/environments/aws_braket_kwx6dl\n",
      "intel                          /opt/.qbraid/environments/intel_zr7hfq\n",
      "qbraid_sdk               \u001b[0;31mjobs\u001b[0m  /home/jovyan/.qbraid/environments/qbraid_sdk_9j9sjy\n",
      "\n"
     ]
    }
   ],
   "source": [
    "%qbraid jobs state"
   ]
  },
  {
   "cell_type": "code",
   "execution_count": 3,
   "id": "f17a39b3-74b6-4798-9d8c-164d884e1251",
   "metadata": {},
   "outputs": [
    {
     "name": "stdout",
     "output_type": "stream",
     "text": [
      "\u001b[0;35mYou have \u001b[0m1000.00\u001b[0;35m remaining qBraid credits.\u001b[0m\n"
     ]
    }
   ],
   "source": [
    "# check qBraid credits\n",
    "%qbraid jobs credits value"
   ]
  },
  {
   "cell_type": "code",
   "execution_count": 1,
   "id": "e7fb9ec2-0500-4fd7-b9a5-952805764efc",
   "metadata": {},
   "outputs": [
    {
     "name": "stdout",
     "output_type": "stream",
     "text": [
      "T  : |0|1|\n",
      "          \n",
      "q0 : -H-C-\n",
      "        | \n",
      "q1 : ---X-\n",
      "\n",
      "T  : |0|1|\n"
     ]
    }
   ],
   "source": [
    "import boto3\n",
    "from braket.aws import AwsDevice\n",
    "from braket.circuits import Circuit\n",
    "\n",
    "# create the Amazon Braket circuit\n",
    "bell = Circuit().h(0).cnot(0, 1)\n",
    "\n",
    "print(bell)"
   ]
  },
  {
   "cell_type": "code",
   "execution_count": 2,
   "id": "9319ff25-f872-4cf4-8943-8453aaaa3ada",
   "metadata": {},
   "outputs": [],
   "source": [
    "# choose the cloud-based on-demand simulator to run your circuit\n",
    "device = AwsDevice(\"arn:aws:braket:::device/quantum-simulator/amazon/sv1\")\n",
    "\n",
    "## UNCOMMENT THE FOLLOWING LINE TO ACCESS ARIA:\n",
    "# device = AwsDevice(\"arn:aws:braket:us-east-1::device/qpu/ionq/Aria-1\")"
   ]
  },
  {
   "cell_type": "code",
   "execution_count": 3,
   "id": "d839f8db-0928-464f-9b26-06d89741bd05",
   "metadata": {},
   "outputs": [],
   "source": [
    "# execute the circuit\n",
    "task = device.run(bell, shots=10)"
   ]
  },
  {
   "cell_type": "code",
   "execution_count": 5,
   "id": "602ae9e2-675f-4a7d-8ad2-8dded3c19ca4",
   "metadata": {},
   "outputs": [],
   "source": [
    "# display the results\n",
    "print(task.result().measurement_counts)"
   ]
  },
  {
   "cell_type": "code",
   "execution_count": 8,
   "id": "fb323eeb-2f53-4fa1-b8e4-d915caf57981",
   "metadata": {},
   "outputs": [
    {
     "name": "stdout",
     "output_type": "stream",
     "text": [
      "Fri Apr 21 2023 15:57:10 GMT+0000 (Coordinated Universal Time) arn:aws:braket:::device/quantum-simulator/amazon/sv1 arn:aws:braket:us-east-1:592242689881:quantum-task/ca33820b-987b-42e1-bac5-8b382324fe12\n",
      "\n"
     ]
    }
   ],
   "source": [
    "# list submitted jobs\n",
    "!qbraid jobs list"
   ]
  },
  {
   "cell_type": "code",
   "execution_count": 9,
   "id": "2b0a87d2-865b-4d52-a01b-ccc1cf01c707",
   "metadata": {},
   "outputs": [
    {
     "name": "stdout",
     "output_type": "stream",
     "text": [
      "\u001b[0;35mYou have \u001b[0m999.60\u001b[0;35m remaining qBraid credits.\u001b[0m\n"
     ]
    }
   ],
   "source": [
    "# check remaining qBraid credits\n",
    "!qbraid jobs get-credits"
   ]
  },
  {
   "cell_type": "code",
   "execution_count": 10,
   "id": "36e52a6b-35dc-4ec4-8389-adda483fb92f",
   "metadata": {},
   "outputs": [],
   "source": [
    "client = boto3.client(\"braket\")"
   ]
  },
  {
   "cell_type": "code",
   "execution_count": 11,
   "id": "5bf07028-5ea1-4776-9c05-7a2f8872a134",
   "metadata": {},
   "outputs": [
    {
     "name": "stdout",
     "output_type": "stream",
     "text": [
      "createdAt: 2023-04-21 15:57:09.862000+00:00\n",
      "endedAt: 2023-04-21 15:57:11.556000+00:00\n",
      "costEstimate: 0.4000012 credits ~ $0.004000012\n"
     ]
    }
   ],
   "source": [
    "# retrieve job data from braket boto3\n",
    "boto_data = client.search_quantum_tasks(\n",
    "    filters=[{\"name\": \"quantumTaskArn\", \"operator\": \"EQUAL\", \"values\": [task.id]}],\n",
    ")\n",
    "\n",
    "job_data = boto_data[\"quantumTasks\"][0]\n",
    "created = job_data[\"createdAt\"]\n",
    "ended = job_data[\"endedAt\"]\n",
    "cost = float(job_data[\"tags\"][\"costEstimate\"])\n",
    "\n",
    "print(f\"createdAt: {created}\")\n",
    "print(f\"endedAt: {ended}\")\n",
    "print(f\"costEstimate: {cost} credits ~ ${cost/100}\")"
   ]
  },
  {
   "cell_type": "code",
   "execution_count": 12,
   "id": "6470f22f-9a07-4c64-b02b-b268d54b80b6",
   "metadata": {},
   "outputs": [
    {
     "name": "stdout",
     "output_type": "stream",
     "text": [
      "\u001b[0;35mDisable successful. You are now submitting quantum jobs with your own AWS credentials.\u001b[0m\n",
      "\n",
      "\u001b[0;35mTo re-enable, run:\u001b[0m `qbraid jobs enable amazon_braket`\n"
     ]
    }
   ],
   "source": [
    "# disable qBraid Quantum Jobs\n",
    "!qbraid jobs disable amazon_braket"
   ]
  }
 ],
 "metadata": {
  "kernelspec": {
   "display_name": "sdk311",
   "language": "python",
   "name": "python3"
  },
  "language_info": {
   "codemirror_mode": {
    "name": "ipython",
    "version": 3
   },
   "file_extension": ".py",
   "mimetype": "text/x-python",
   "name": "python",
   "nbconvert_exporter": "python",
   "pygments_lexer": "ipython3",
   "version": "3.11.9"
  }
 },
 "nbformat": 4,
 "nbformat_minor": 5
}
